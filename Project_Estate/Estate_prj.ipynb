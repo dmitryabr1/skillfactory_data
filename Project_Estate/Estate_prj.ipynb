{
  "cells": [
    {
      "cell_type": "code",
      "execution_count": 1,
      "metadata": {
        "id": "mMpKTKlX06GQ"
      },
      "outputs": [],
      "source": [
        "import pandas as pd\n",
        "import numpy as np \n",
        "import matplotlib.pyplot as plt #для визуализации\n",
        "import seaborn as sns #для визуализации\n",
        "import re\n",
        "from sklearn.preprocessing import StandardScaler\n",
        "from sklearn.preprocessing import MinMaxScaler\n",
        "from sklearn.model_selection import train_test_split\n",
        "from sklearn import linear_model\n",
        "from sklearn import metrics\n",
        "from sklearn import preprocessing\n",
        "from sklearn import tree #деревья решений\n",
        "from sklearn import ensemble #ансамбли"
      ]
    },
    {
      "attachments": {},
      "cell_type": "markdown",
      "metadata": {
        "id": "oXiecRqk06GY"
      },
      "source": [
        "Загружаем датасет"
      ]
    },
    {
      "cell_type": "code",
      "execution_count": 2,
      "metadata": {
        "id": "KI2RvTJS06Gd"
      },
      "outputs": [],
      "source": [
        "df = pd.read_csv(\"/content/data.csv\")"
      ]
    },
    {
      "cell_type": "code",
      "execution_count": 3,
      "metadata": {
        "colab": {
          "base_uri": "https://localhost:8080/",
          "height": 635
        },
        "id": "7aG_6c7l06Ge",
        "outputId": "7026915e-bbd1-4fa4-bf54-95b82d71c251"
      },
      "outputs": [
        {
          "data": {
            "text/html": [
              "\n",
              "  <div id=\"df-1afde075-c48e-467f-80c4-ea326c1801b7\">\n",
              "    <div class=\"colab-df-container\">\n",
              "      <div>\n",
              "<style scoped>\n",
              "    .dataframe tbody tr th:only-of-type {\n",
              "        vertical-align: middle;\n",
              "    }\n",
              "\n",
              "    .dataframe tbody tr th {\n",
              "        vertical-align: top;\n",
              "    }\n",
              "\n",
              "    .dataframe thead th {\n",
              "        text-align: right;\n",
              "    }\n",
              "</style>\n",
              "<table border=\"1\" class=\"dataframe\">\n",
              "  <thead>\n",
              "    <tr style=\"text-align: right;\">\n",
              "      <th></th>\n",
              "      <th>status</th>\n",
              "      <th>private pool</th>\n",
              "      <th>propertyType</th>\n",
              "      <th>street</th>\n",
              "      <th>baths</th>\n",
              "      <th>homeFacts</th>\n",
              "      <th>fireplace</th>\n",
              "      <th>city</th>\n",
              "      <th>schools</th>\n",
              "      <th>sqft</th>\n",
              "      <th>zipcode</th>\n",
              "      <th>beds</th>\n",
              "      <th>state</th>\n",
              "      <th>stories</th>\n",
              "      <th>mls-id</th>\n",
              "      <th>PrivatePool</th>\n",
              "      <th>MlsId</th>\n",
              "      <th>target</th>\n",
              "    </tr>\n",
              "  </thead>\n",
              "  <tbody>\n",
              "    <tr>\n",
              "      <th>0</th>\n",
              "      <td>Active</td>\n",
              "      <td>NaN</td>\n",
              "      <td>Single Family Home</td>\n",
              "      <td>240 Heather Ln</td>\n",
              "      <td>3.5</td>\n",
              "      <td>{'atAGlanceFacts': [{'factValue': '2019', 'fac...</td>\n",
              "      <td>Gas Logs</td>\n",
              "      <td>Southern Pines</td>\n",
              "      <td>[{'rating': ['4', '4', '7', 'NR', '4', '7', 'N...</td>\n",
              "      <td>2900</td>\n",
              "      <td>28387</td>\n",
              "      <td>4</td>\n",
              "      <td>NC</td>\n",
              "      <td>NaN</td>\n",
              "      <td>NaN</td>\n",
              "      <td>NaN</td>\n",
              "      <td>611019</td>\n",
              "      <td>$418,000</td>\n",
              "    </tr>\n",
              "    <tr>\n",
              "      <th>1</th>\n",
              "      <td>for sale</td>\n",
              "      <td>NaN</td>\n",
              "      <td>single-family home</td>\n",
              "      <td>12911 E Heroy Ave</td>\n",
              "      <td>3 Baths</td>\n",
              "      <td>{'atAGlanceFacts': [{'factValue': '2019', 'fac...</td>\n",
              "      <td>NaN</td>\n",
              "      <td>Spokane Valley</td>\n",
              "      <td>[{'rating': ['4/10', 'None/10', '4/10'], 'data...</td>\n",
              "      <td>1,947 sqft</td>\n",
              "      <td>99216</td>\n",
              "      <td>3 Beds</td>\n",
              "      <td>WA</td>\n",
              "      <td>2.0</td>\n",
              "      <td>NaN</td>\n",
              "      <td>NaN</td>\n",
              "      <td>201916904</td>\n",
              "      <td>$310,000</td>\n",
              "    </tr>\n",
              "    <tr>\n",
              "      <th>2</th>\n",
              "      <td>for sale</td>\n",
              "      <td>NaN</td>\n",
              "      <td>single-family home</td>\n",
              "      <td>2005 Westridge Rd</td>\n",
              "      <td>2 Baths</td>\n",
              "      <td>{'atAGlanceFacts': [{'factValue': '1961', 'fac...</td>\n",
              "      <td>yes</td>\n",
              "      <td>Los Angeles</td>\n",
              "      <td>[{'rating': ['8/10', '4/10', '8/10'], 'data': ...</td>\n",
              "      <td>3,000 sqft</td>\n",
              "      <td>90049</td>\n",
              "      <td>3 Beds</td>\n",
              "      <td>CA</td>\n",
              "      <td>1.0</td>\n",
              "      <td>NaN</td>\n",
              "      <td>yes</td>\n",
              "      <td>FR19221027</td>\n",
              "      <td>$2,895,000</td>\n",
              "    </tr>\n",
              "    <tr>\n",
              "      <th>3</th>\n",
              "      <td>for sale</td>\n",
              "      <td>NaN</td>\n",
              "      <td>single-family home</td>\n",
              "      <td>4311 Livingston Ave</td>\n",
              "      <td>8 Baths</td>\n",
              "      <td>{'atAGlanceFacts': [{'factValue': '2006', 'fac...</td>\n",
              "      <td>yes</td>\n",
              "      <td>Dallas</td>\n",
              "      <td>[{'rating': ['9/10', '9/10', '10/10', '9/10'],...</td>\n",
              "      <td>6,457 sqft</td>\n",
              "      <td>75205</td>\n",
              "      <td>5 Beds</td>\n",
              "      <td>TX</td>\n",
              "      <td>3.0</td>\n",
              "      <td>NaN</td>\n",
              "      <td>NaN</td>\n",
              "      <td>14191809</td>\n",
              "      <td>$2,395,000</td>\n",
              "    </tr>\n",
              "    <tr>\n",
              "      <th>4</th>\n",
              "      <td>for sale</td>\n",
              "      <td>NaN</td>\n",
              "      <td>lot/land</td>\n",
              "      <td>1524 Kiscoe St</td>\n",
              "      <td>NaN</td>\n",
              "      <td>{'atAGlanceFacts': [{'factValue': '', 'factLab...</td>\n",
              "      <td>NaN</td>\n",
              "      <td>Palm Bay</td>\n",
              "      <td>[{'rating': ['4/10', '5/10', '5/10'], 'data': ...</td>\n",
              "      <td>NaN</td>\n",
              "      <td>32908</td>\n",
              "      <td>NaN</td>\n",
              "      <td>FL</td>\n",
              "      <td>NaN</td>\n",
              "      <td>NaN</td>\n",
              "      <td>NaN</td>\n",
              "      <td>861745</td>\n",
              "      <td>$5,000</td>\n",
              "    </tr>\n",
              "  </tbody>\n",
              "</table>\n",
              "</div>\n",
              "      <button class=\"colab-df-convert\" onclick=\"convertToInteractive('df-1afde075-c48e-467f-80c4-ea326c1801b7')\"\n",
              "              title=\"Convert this dataframe to an interactive table.\"\n",
              "              style=\"display:none;\">\n",
              "        \n",
              "  <svg xmlns=\"http://www.w3.org/2000/svg\" height=\"24px\"viewBox=\"0 0 24 24\"\n",
              "       width=\"24px\">\n",
              "    <path d=\"M0 0h24v24H0V0z\" fill=\"none\"/>\n",
              "    <path d=\"M18.56 5.44l.94 2.06.94-2.06 2.06-.94-2.06-.94-.94-2.06-.94 2.06-2.06.94zm-11 1L8.5 8.5l.94-2.06 2.06-.94-2.06-.94L8.5 2.5l-.94 2.06-2.06.94zm10 10l.94 2.06.94-2.06 2.06-.94-2.06-.94-.94-2.06-.94 2.06-2.06.94z\"/><path d=\"M17.41 7.96l-1.37-1.37c-.4-.4-.92-.59-1.43-.59-.52 0-1.04.2-1.43.59L10.3 9.45l-7.72 7.72c-.78.78-.78 2.05 0 2.83L4 21.41c.39.39.9.59 1.41.59.51 0 1.02-.2 1.41-.59l7.78-7.78 2.81-2.81c.8-.78.8-2.07 0-2.86zM5.41 20L4 18.59l7.72-7.72 1.47 1.35L5.41 20z\"/>\n",
              "  </svg>\n",
              "      </button>\n",
              "      \n",
              "  <style>\n",
              "    .colab-df-container {\n",
              "      display:flex;\n",
              "      flex-wrap:wrap;\n",
              "      gap: 12px;\n",
              "    }\n",
              "\n",
              "    .colab-df-convert {\n",
              "      background-color: #E8F0FE;\n",
              "      border: none;\n",
              "      border-radius: 50%;\n",
              "      cursor: pointer;\n",
              "      display: none;\n",
              "      fill: #1967D2;\n",
              "      height: 32px;\n",
              "      padding: 0 0 0 0;\n",
              "      width: 32px;\n",
              "    }\n",
              "\n",
              "    .colab-df-convert:hover {\n",
              "      background-color: #E2EBFA;\n",
              "      box-shadow: 0px 1px 2px rgba(60, 64, 67, 0.3), 0px 1px 3px 1px rgba(60, 64, 67, 0.15);\n",
              "      fill: #174EA6;\n",
              "    }\n",
              "\n",
              "    [theme=dark] .colab-df-convert {\n",
              "      background-color: #3B4455;\n",
              "      fill: #D2E3FC;\n",
              "    }\n",
              "\n",
              "    [theme=dark] .colab-df-convert:hover {\n",
              "      background-color: #434B5C;\n",
              "      box-shadow: 0px 1px 3px 1px rgba(0, 0, 0, 0.15);\n",
              "      filter: drop-shadow(0px 1px 2px rgba(0, 0, 0, 0.3));\n",
              "      fill: #FFFFFF;\n",
              "    }\n",
              "  </style>\n",
              "\n",
              "      <script>\n",
              "        const buttonEl =\n",
              "          document.querySelector('#df-1afde075-c48e-467f-80c4-ea326c1801b7 button.colab-df-convert');\n",
              "        buttonEl.style.display =\n",
              "          google.colab.kernel.accessAllowed ? 'block' : 'none';\n",
              "\n",
              "        async function convertToInteractive(key) {\n",
              "          const element = document.querySelector('#df-1afde075-c48e-467f-80c4-ea326c1801b7');\n",
              "          const dataTable =\n",
              "            await google.colab.kernel.invokeFunction('convertToInteractive',\n",
              "                                                     [key], {});\n",
              "          if (!dataTable) return;\n",
              "\n",
              "          const docLinkHtml = 'Like what you see? Visit the ' +\n",
              "            '<a target=\"_blank\" href=https://colab.research.google.com/notebooks/data_table.ipynb>data table notebook</a>'\n",
              "            + ' to learn more about interactive tables.';\n",
              "          element.innerHTML = '';\n",
              "          dataTable['output_type'] = 'display_data';\n",
              "          await google.colab.output.renderOutput(dataTable, element);\n",
              "          const docLink = document.createElement('div');\n",
              "          docLink.innerHTML = docLinkHtml;\n",
              "          element.appendChild(docLink);\n",
              "        }\n",
              "      </script>\n",
              "    </div>\n",
              "  </div>\n",
              "  "
            ],
            "text/plain": [
              "     status private pool        propertyType               street    baths  \\\n",
              "0    Active          NaN  Single Family Home       240 Heather Ln      3.5   \n",
              "1  for sale          NaN  single-family home    12911 E Heroy Ave  3 Baths   \n",
              "2  for sale          NaN  single-family home    2005 Westridge Rd  2 Baths   \n",
              "3  for sale          NaN  single-family home  4311 Livingston Ave  8 Baths   \n",
              "4  for sale          NaN            lot/land       1524 Kiscoe St      NaN   \n",
              "\n",
              "                                           homeFacts fireplace  \\\n",
              "0  {'atAGlanceFacts': [{'factValue': '2019', 'fac...  Gas Logs   \n",
              "1  {'atAGlanceFacts': [{'factValue': '2019', 'fac...       NaN   \n",
              "2  {'atAGlanceFacts': [{'factValue': '1961', 'fac...       yes   \n",
              "3  {'atAGlanceFacts': [{'factValue': '2006', 'fac...       yes   \n",
              "4  {'atAGlanceFacts': [{'factValue': '', 'factLab...       NaN   \n",
              "\n",
              "             city                                            schools  \\\n",
              "0  Southern Pines  [{'rating': ['4', '4', '7', 'NR', '4', '7', 'N...   \n",
              "1  Spokane Valley  [{'rating': ['4/10', 'None/10', '4/10'], 'data...   \n",
              "2     Los Angeles  [{'rating': ['8/10', '4/10', '8/10'], 'data': ...   \n",
              "3          Dallas  [{'rating': ['9/10', '9/10', '10/10', '9/10'],...   \n",
              "4        Palm Bay  [{'rating': ['4/10', '5/10', '5/10'], 'data': ...   \n",
              "\n",
              "         sqft zipcode    beds state stories mls-id PrivatePool       MlsId  \\\n",
              "0        2900   28387       4    NC     NaN    NaN         NaN      611019   \n",
              "1  1,947 sqft   99216  3 Beds    WA     2.0    NaN         NaN   201916904   \n",
              "2  3,000 sqft   90049  3 Beds    CA     1.0    NaN         yes  FR19221027   \n",
              "3  6,457 sqft   75205  5 Beds    TX     3.0    NaN         NaN    14191809   \n",
              "4         NaN   32908     NaN    FL     NaN    NaN         NaN      861745   \n",
              "\n",
              "       target  \n",
              "0    $418,000  \n",
              "1    $310,000  \n",
              "2  $2,895,000  \n",
              "3  $2,395,000  \n",
              "4      $5,000  "
            ]
          },
          "execution_count": 3,
          "metadata": {},
          "output_type": "execute_result"
        }
      ],
      "source": [
        "df.head()"
      ]
    },
    {
      "attachments": {},
      "cell_type": "markdown",
      "metadata": {
        "id": "vh7SsLip06Gh"
      },
      "source": [
        "Предварительный анализ данных"
      ]
    },
    {
      "cell_type": "code",
      "execution_count": 4,
      "metadata": {
        "colab": {
          "base_uri": "https://localhost:8080/"
        },
        "id": "4MvvCilQ06Gh",
        "outputId": "9f1cafb3-b60a-4fe6-8d44-2b23c43d30c2"
      },
      "outputs": [
        {
          "name": "stdout",
          "output_type": "stream",
          "text": [
            "<class 'pandas.core.frame.DataFrame'>\n",
            "RangeIndex: 377185 entries, 0 to 377184\n",
            "Data columns (total 18 columns):\n",
            " #   Column        Non-Null Count   Dtype \n",
            "---  ------        --------------   ----- \n",
            " 0   status        337267 non-null  object\n",
            " 1   private pool  4181 non-null    object\n",
            " 2   propertyType  342452 non-null  object\n",
            " 3   street        377183 non-null  object\n",
            " 4   baths         270847 non-null  object\n",
            " 5   homeFacts     377185 non-null  object\n",
            " 6   fireplace     103115 non-null  object\n",
            " 7   city          377151 non-null  object\n",
            " 8   schools       377185 non-null  object\n",
            " 9   sqft          336608 non-null  object\n",
            " 10  zipcode       377185 non-null  object\n",
            " 11  beds          285903 non-null  object\n",
            " 12  state         377185 non-null  object\n",
            " 13  stories       226470 non-null  object\n",
            " 14  mls-id        24942 non-null   object\n",
            " 15  PrivatePool   40311 non-null   object\n",
            " 16  MlsId         310305 non-null  object\n",
            " 17  target        374704 non-null  object\n",
            "dtypes: object(18)\n",
            "memory usage: 51.8+ MB\n"
          ]
        }
      ],
      "source": [
        "df.info()"
      ]
    },
    {
      "cell_type": "code",
      "execution_count": 5,
      "metadata": {
        "colab": {
          "base_uri": "https://localhost:8080/"
        },
        "id": "-oWV9Lv606Gi",
        "outputId": "8987a701-0cc3-4d96-9b98-9450ff30a281"
      },
      "outputs": [
        {
          "data": {
            "text/plain": [
              "1869151"
            ]
          },
          "execution_count": 5,
          "metadata": {},
          "output_type": "execute_result"
        }
      ],
      "source": [
        "df.isnull().sum().sum()"
      ]
    },
    {
      "cell_type": "code",
      "execution_count": 6,
      "metadata": {
        "colab": {
          "base_uri": "https://localhost:8080/"
        },
        "id": "ikvqW4jO10_u",
        "outputId": "19e88b4b-8f31-44d2-e66a-a8097583d7d7"
      },
      "outputs": [
        {
          "name": "stdout",
          "output_type": "stream",
          "text": [
            "Looking in indexes: https://pypi.org/simple, https://us-python.pkg.dev/colab-wheels/public/simple/\n",
            "Collecting flatten_json\n",
            "  Downloading flatten_json-0.1.13.tar.gz (11 kB)\n",
            "  Preparing metadata (setup.py) ... \u001b[?25l\u001b[?25hdone\n",
            "Requirement already satisfied: six in /usr/local/lib/python3.10/dist-packages (from flatten_json) (1.16.0)\n",
            "Building wheels for collected packages: flatten_json\n",
            "  Building wheel for flatten_json (setup.py) ... \u001b[?25l\u001b[?25hdone\n",
            "  Created wheel for flatten_json: filename=flatten_json-0.1.13-py3-none-any.whl size=7964 sha256=3e125e802f082e21cfceaffc0ceb17d0530a8e9a817b139a3114f1b04d66dd58\n",
            "  Stored in directory: /root/.cache/pip/wheels/c7/55/89/0dbf87571194b7ed4228b018280a8312e5af2d8f5954504672\n",
            "Successfully built flatten_json\n",
            "Installing collected packages: flatten_json\n",
            "Successfully installed flatten_json-0.1.13\n"
          ]
        }
      ],
      "source": [
        "!pip install flatten_json"
      ]
    },
    {
      "cell_type": "code",
      "execution_count": 7,
      "metadata": {
        "id": "8MmHvKMM06Gk"
      },
      "outputs": [],
      "source": [
        "import ast\n",
        "import json\n",
        "from flatten_json import flatten"
      ]
    },
    {
      "attachments": {},
      "cell_type": "markdown",
      "metadata": {
        "id": "_OR80tSv06Gl"
      },
      "source": [
        "Разбираем список json в признаке 'homeFacts'"
      ]
    },
    {
      "cell_type": "code",
      "execution_count": 8,
      "metadata": {
        "id": "HmV8bbNh06Gm"
      },
      "outputs": [],
      "source": [
        "df['homeFacts'] = df['homeFacts'].apply(lambda a: ast.literal_eval(a))"
      ]
    },
    {
      "cell_type": "code",
      "execution_count": 9,
      "metadata": {
        "id": "TStJj3CP06Gs"
      },
      "outputs": [],
      "source": [
        "homeFacts = df['homeFacts'].apply(flatten).apply(pd.Series)"
      ]
    },
    {
      "cell_type": "code",
      "execution_count": 10,
      "metadata": {
        "id": "u9b_PMUW06Gt"
      },
      "outputs": [],
      "source": [
        "homeFacts = homeFacts.rename(columns = {'atAGlanceFacts_0_factValue' : 'Year built',\n",
        "                            'atAGlanceFacts_1_factValue' : 'Remodeled year', \n",
        "                            'atAGlanceFacts_2_factValue' : 'Heating', \n",
        "                            'atAGlanceFacts_3_factValue' : 'Cooling',\n",
        "                            'atAGlanceFacts_4_factValue' : 'Parking',\n",
        "                            'atAGlanceFacts_5_factValue' : 'lotsize',\n",
        "                            'atAGlanceFacts_6_factValue' : 'Price/sqft'})\n",
        "homeFacts = homeFacts.drop(['atAGlanceFacts_0_factLabel',\n",
        "                'atAGlanceFacts_1_factLabel',\n",
        "                'atAGlanceFacts_2_factLabel',\n",
        "                'atAGlanceFacts_3_factLabel',\n",
        "                'atAGlanceFacts_4_factLabel',\n",
        "                'atAGlanceFacts_5_factLabel',\n",
        "                'atAGlanceFacts_6_factLabel'], axis=1)"
      ]
    },
    {
      "attachments": {},
      "cell_type": "markdown",
      "metadata": {
        "id": "uJZ3n4HT06Gw"
      },
      "source": [
        "Прибавляем дополнительные столбцы которые были зашиты в признаке homeFacts. Удаляем данный признак из датасета"
      ]
    },
    {
      "cell_type": "code",
      "execution_count": 11,
      "metadata": {
        "id": "4YPfwKyk06Gz"
      },
      "outputs": [],
      "source": [
        "df = pd.concat([df,homeFacts], axis=1)\n",
        "df = df.drop(['homeFacts'],axis=1)"
      ]
    },
    {
      "cell_type": "code",
      "execution_count": 12,
      "metadata": {
        "colab": {
          "base_uri": "https://localhost:8080/",
          "height": 53
        },
        "id": "UNNSPAAC06G0",
        "outputId": "c79db25c-a733-4b53-fd25-12a39f2c549b"
      },
      "outputs": [
        {
          "data": {
            "application/vnd.google.colaboratory.intrinsic+json": {
              "type": "string"
            },
            "text/plain": [
              "\"df['schools'] = df['schools'].apply(ast.literal_eval)\\nschools = pd.json_normalize(\\n    df['schools'],\\n    errors='ignore'\\n)\\nschools[0].apply(flatten).apply(pd.Series)\""
            ]
          },
          "execution_count": 12,
          "metadata": {},
          "output_type": "execute_result"
        }
      ],
      "source": [
        "'''df['schools'] = df['schools'].apply(ast.literal_eval)\n",
        "schools = pd.json_normalize(\n",
        "    df['schools'],\n",
        "    errors='ignore'\n",
        ")\n",
        "schools[0].apply(flatten).apply(pd.Series)'''"
      ]
    },
    {
      "cell_type": "code",
      "execution_count": 13,
      "metadata": {
        "colab": {
          "base_uri": "https://localhost:8080/",
          "height": 338
        },
        "id": "q9vAEdiO06G3",
        "outputId": "7ce59f8d-8c9a-47ca-e9c1-28f20d355531"
      },
      "outputs": [
        {
          "data": {
            "text/html": [
              "\n",
              "  <div id=\"df-44179cab-6eb3-4b59-9330-0106f07088a9\">\n",
              "    <div class=\"colab-df-container\">\n",
              "      <div>\n",
              "<style scoped>\n",
              "    .dataframe tbody tr th:only-of-type {\n",
              "        vertical-align: middle;\n",
              "    }\n",
              "\n",
              "    .dataframe tbody tr th {\n",
              "        vertical-align: top;\n",
              "    }\n",
              "\n",
              "    .dataframe thead th {\n",
              "        text-align: right;\n",
              "    }\n",
              "</style>\n",
              "<table border=\"1\" class=\"dataframe\">\n",
              "  <thead>\n",
              "    <tr style=\"text-align: right;\">\n",
              "      <th></th>\n",
              "      <th>status</th>\n",
              "      <th>private pool</th>\n",
              "      <th>propertyType</th>\n",
              "      <th>street</th>\n",
              "      <th>baths</th>\n",
              "      <th>fireplace</th>\n",
              "      <th>city</th>\n",
              "      <th>schools</th>\n",
              "      <th>sqft</th>\n",
              "      <th>zipcode</th>\n",
              "      <th>...</th>\n",
              "      <th>PrivatePool</th>\n",
              "      <th>MlsId</th>\n",
              "      <th>target</th>\n",
              "      <th>Year built</th>\n",
              "      <th>Remodeled year</th>\n",
              "      <th>Heating</th>\n",
              "      <th>Cooling</th>\n",
              "      <th>Parking</th>\n",
              "      <th>lotsize</th>\n",
              "      <th>Price/sqft</th>\n",
              "    </tr>\n",
              "  </thead>\n",
              "  <tbody>\n",
              "    <tr>\n",
              "      <th>count</th>\n",
              "      <td>337267</td>\n",
              "      <td>4181</td>\n",
              "      <td>342452</td>\n",
              "      <td>377183</td>\n",
              "      <td>270847</td>\n",
              "      <td>103115</td>\n",
              "      <td>377151</td>\n",
              "      <td>377185</td>\n",
              "      <td>336608</td>\n",
              "      <td>377185</td>\n",
              "      <td>...</td>\n",
              "      <td>40311</td>\n",
              "      <td>310305</td>\n",
              "      <td>374704</td>\n",
              "      <td>373572</td>\n",
              "      <td>350616</td>\n",
              "      <td>373652</td>\n",
              "      <td>373652</td>\n",
              "      <td>373652</td>\n",
              "      <td>348797</td>\n",
              "      <td>318632</td>\n",
              "    </tr>\n",
              "    <tr>\n",
              "      <th>unique</th>\n",
              "      <td>159</td>\n",
              "      <td>1</td>\n",
              "      <td>1280</td>\n",
              "      <td>337076</td>\n",
              "      <td>229</td>\n",
              "      <td>1653</td>\n",
              "      <td>2026</td>\n",
              "      <td>297365</td>\n",
              "      <td>25405</td>\n",
              "      <td>4549</td>\n",
              "      <td>...</td>\n",
              "      <td>2</td>\n",
              "      <td>232944</td>\n",
              "      <td>43939</td>\n",
              "      <td>230</td>\n",
              "      <td>154</td>\n",
              "      <td>1984</td>\n",
              "      <td>1445</td>\n",
              "      <td>3346</td>\n",
              "      <td>37393</td>\n",
              "      <td>6504</td>\n",
              "    </tr>\n",
              "    <tr>\n",
              "      <th>top</th>\n",
              "      <td>for sale</td>\n",
              "      <td>Yes</td>\n",
              "      <td>single-family home</td>\n",
              "      <td>Address Not Disclosed</td>\n",
              "      <td>2 Baths</td>\n",
              "      <td>yes</td>\n",
              "      <td>Houston</td>\n",
              "      <td>[{'rating': [], 'data': {'Distance': [], 'Grad...</td>\n",
              "      <td>0</td>\n",
              "      <td>32137</td>\n",
              "      <td>...</td>\n",
              "      <td>yes</td>\n",
              "      <td>NO MLS</td>\n",
              "      <td>$225,000</td>\n",
              "      <td></td>\n",
              "      <td></td>\n",
              "      <td></td>\n",
              "      <td>Central</td>\n",
              "      <td></td>\n",
              "      <td></td>\n",
              "      <td></td>\n",
              "    </tr>\n",
              "    <tr>\n",
              "      <th>freq</th>\n",
              "      <td>156104</td>\n",
              "      <td>4181</td>\n",
              "      <td>92206</td>\n",
              "      <td>672</td>\n",
              "      <td>52466</td>\n",
              "      <td>50356</td>\n",
              "      <td>24442</td>\n",
              "      <td>4204</td>\n",
              "      <td>11854</td>\n",
              "      <td>2141</td>\n",
              "      <td>...</td>\n",
              "      <td>28793</td>\n",
              "      <td>24</td>\n",
              "      <td>1462</td>\n",
              "      <td>58761</td>\n",
              "      <td>199541</td>\n",
              "      <td>105799</td>\n",
              "      <td>158754</td>\n",
              "      <td>171887</td>\n",
              "      <td>33067</td>\n",
              "      <td>5185</td>\n",
              "    </tr>\n",
              "  </tbody>\n",
              "</table>\n",
              "<p>4 rows × 24 columns</p>\n",
              "</div>\n",
              "      <button class=\"colab-df-convert\" onclick=\"convertToInteractive('df-44179cab-6eb3-4b59-9330-0106f07088a9')\"\n",
              "              title=\"Convert this dataframe to an interactive table.\"\n",
              "              style=\"display:none;\">\n",
              "        \n",
              "  <svg xmlns=\"http://www.w3.org/2000/svg\" height=\"24px\"viewBox=\"0 0 24 24\"\n",
              "       width=\"24px\">\n",
              "    <path d=\"M0 0h24v24H0V0z\" fill=\"none\"/>\n",
              "    <path d=\"M18.56 5.44l.94 2.06.94-2.06 2.06-.94-2.06-.94-.94-2.06-.94 2.06-2.06.94zm-11 1L8.5 8.5l.94-2.06 2.06-.94-2.06-.94L8.5 2.5l-.94 2.06-2.06.94zm10 10l.94 2.06.94-2.06 2.06-.94-2.06-.94-.94-2.06-.94 2.06-2.06.94z\"/><path d=\"M17.41 7.96l-1.37-1.37c-.4-.4-.92-.59-1.43-.59-.52 0-1.04.2-1.43.59L10.3 9.45l-7.72 7.72c-.78.78-.78 2.05 0 2.83L4 21.41c.39.39.9.59 1.41.59.51 0 1.02-.2 1.41-.59l7.78-7.78 2.81-2.81c.8-.78.8-2.07 0-2.86zM5.41 20L4 18.59l7.72-7.72 1.47 1.35L5.41 20z\"/>\n",
              "  </svg>\n",
              "      </button>\n",
              "      \n",
              "  <style>\n",
              "    .colab-df-container {\n",
              "      display:flex;\n",
              "      flex-wrap:wrap;\n",
              "      gap: 12px;\n",
              "    }\n",
              "\n",
              "    .colab-df-convert {\n",
              "      background-color: #E8F0FE;\n",
              "      border: none;\n",
              "      border-radius: 50%;\n",
              "      cursor: pointer;\n",
              "      display: none;\n",
              "      fill: #1967D2;\n",
              "      height: 32px;\n",
              "      padding: 0 0 0 0;\n",
              "      width: 32px;\n",
              "    }\n",
              "\n",
              "    .colab-df-convert:hover {\n",
              "      background-color: #E2EBFA;\n",
              "      box-shadow: 0px 1px 2px rgba(60, 64, 67, 0.3), 0px 1px 3px 1px rgba(60, 64, 67, 0.15);\n",
              "      fill: #174EA6;\n",
              "    }\n",
              "\n",
              "    [theme=dark] .colab-df-convert {\n",
              "      background-color: #3B4455;\n",
              "      fill: #D2E3FC;\n",
              "    }\n",
              "\n",
              "    [theme=dark] .colab-df-convert:hover {\n",
              "      background-color: #434B5C;\n",
              "      box-shadow: 0px 1px 3px 1px rgba(0, 0, 0, 0.15);\n",
              "      filter: drop-shadow(0px 1px 2px rgba(0, 0, 0, 0.3));\n",
              "      fill: #FFFFFF;\n",
              "    }\n",
              "  </style>\n",
              "\n",
              "      <script>\n",
              "        const buttonEl =\n",
              "          document.querySelector('#df-44179cab-6eb3-4b59-9330-0106f07088a9 button.colab-df-convert');\n",
              "        buttonEl.style.display =\n",
              "          google.colab.kernel.accessAllowed ? 'block' : 'none';\n",
              "\n",
              "        async function convertToInteractive(key) {\n",
              "          const element = document.querySelector('#df-44179cab-6eb3-4b59-9330-0106f07088a9');\n",
              "          const dataTable =\n",
              "            await google.colab.kernel.invokeFunction('convertToInteractive',\n",
              "                                                     [key], {});\n",
              "          if (!dataTable) return;\n",
              "\n",
              "          const docLinkHtml = 'Like what you see? Visit the ' +\n",
              "            '<a target=\"_blank\" href=https://colab.research.google.com/notebooks/data_table.ipynb>data table notebook</a>'\n",
              "            + ' to learn more about interactive tables.';\n",
              "          element.innerHTML = '';\n",
              "          dataTable['output_type'] = 'display_data';\n",
              "          await google.colab.output.renderOutput(dataTable, element);\n",
              "          const docLink = document.createElement('div');\n",
              "          docLink.innerHTML = docLinkHtml;\n",
              "          element.appendChild(docLink);\n",
              "        }\n",
              "      </script>\n",
              "    </div>\n",
              "  </div>\n",
              "  "
            ],
            "text/plain": [
              "          status private pool        propertyType                 street  \\\n",
              "count     337267         4181              342452                 377183   \n",
              "unique       159            1                1280                 337076   \n",
              "top     for sale          Yes  single-family home  Address Not Disclosed   \n",
              "freq      156104         4181               92206                    672   \n",
              "\n",
              "          baths fireplace     city  \\\n",
              "count    270847    103115   377151   \n",
              "unique      229      1653     2026   \n",
              "top     2 Baths       yes  Houston   \n",
              "freq      52466     50356    24442   \n",
              "\n",
              "                                                  schools    sqft zipcode  \\\n",
              "count                                              377185  336608  377185   \n",
              "unique                                             297365   25405    4549   \n",
              "top     [{'rating': [], 'data': {'Distance': [], 'Grad...       0   32137   \n",
              "freq                                                 4204   11854    2141   \n",
              "\n",
              "        ... PrivatePool   MlsId    target Year built Remodeled year Heating  \\\n",
              "count   ...       40311  310305    374704     373572         350616  373652   \n",
              "unique  ...           2  232944     43939        230            154    1984   \n",
              "top     ...         yes  NO MLS  $225,000                                     \n",
              "freq    ...       28793      24      1462      58761         199541  105799   \n",
              "\n",
              "        Cooling Parking lotsize Price/sqft  \n",
              "count    373652  373652  348797     318632  \n",
              "unique     1445    3346   37393       6504  \n",
              "top     Central                             \n",
              "freq     158754  171887   33067       5185  \n",
              "\n",
              "[4 rows x 24 columns]"
            ]
          },
          "execution_count": 13,
          "metadata": {},
          "output_type": "execute_result"
        }
      ],
      "source": [
        "df.describe()"
      ]
    },
    {
      "cell_type": "code",
      "execution_count": 14,
      "metadata": {
        "colab": {
          "base_uri": "https://localhost:8080/"
        },
        "id": "L-S3WZM_06G5",
        "outputId": "5dba4a59-9178-4f05-97dd-51df3564a357"
      },
      "outputs": [
        {
          "name": "stdout",
          "output_type": "stream",
          "text": [
            "<class 'pandas.core.frame.DataFrame'>\n",
            "RangeIndex: 377185 entries, 0 to 377184\n",
            "Data columns (total 24 columns):\n",
            " #   Column          Non-Null Count   Dtype \n",
            "---  ------          --------------   ----- \n",
            " 0   status          337267 non-null  object\n",
            " 1   private pool    4181 non-null    object\n",
            " 2   propertyType    342452 non-null  object\n",
            " 3   street          377183 non-null  object\n",
            " 4   baths           270847 non-null  object\n",
            " 5   fireplace       103115 non-null  object\n",
            " 6   city            377151 non-null  object\n",
            " 7   schools         377185 non-null  object\n",
            " 8   sqft            336608 non-null  object\n",
            " 9   zipcode         377185 non-null  object\n",
            " 10  beds            285903 non-null  object\n",
            " 11  state           377185 non-null  object\n",
            " 12  stories         226470 non-null  object\n",
            " 13  mls-id          24942 non-null   object\n",
            " 14  PrivatePool     40311 non-null   object\n",
            " 15  MlsId           310305 non-null  object\n",
            " 16  target          374704 non-null  object\n",
            " 17  Year built      373572 non-null  object\n",
            " 18  Remodeled year  350616 non-null  object\n",
            " 19  Heating         373652 non-null  object\n",
            " 20  Cooling         373652 non-null  object\n",
            " 21  Parking         373652 non-null  object\n",
            " 22  lotsize         348797 non-null  object\n",
            " 23  Price/sqft      318632 non-null  object\n",
            "dtypes: object(24)\n",
            "memory usage: 69.1+ MB\n"
          ]
        }
      ],
      "source": [
        "df.info()"
      ]
    },
    {
      "cell_type": "code",
      "execution_count": 15,
      "metadata": {
        "id": "MV9vhYY_06G_"
      },
      "outputs": [],
      "source": [
        "df_new = df.copy()"
      ]
    },
    {
      "cell_type": "code",
      "execution_count": 16,
      "metadata": {
        "colab": {
          "base_uri": "https://localhost:8080/",
          "height": 664
        },
        "id": "Zk76J8AE06HF",
        "outputId": "ff9a0049-9431-471f-9168-032d79582bc0"
      },
      "outputs": [
        {
          "data": {
            "text/html": [
              "\n",
              "  <div id=\"df-003bfd19-3016-4d15-94fb-bdcc80447d25\">\n",
              "    <div class=\"colab-df-container\">\n",
              "      <div>\n",
              "<style scoped>\n",
              "    .dataframe tbody tr th:only-of-type {\n",
              "        vertical-align: middle;\n",
              "    }\n",
              "\n",
              "    .dataframe tbody tr th {\n",
              "        vertical-align: top;\n",
              "    }\n",
              "\n",
              "    .dataframe thead th {\n",
              "        text-align: right;\n",
              "    }\n",
              "</style>\n",
              "<table border=\"1\" class=\"dataframe\">\n",
              "  <thead>\n",
              "    <tr style=\"text-align: right;\">\n",
              "      <th></th>\n",
              "      <th>status</th>\n",
              "      <th>private pool</th>\n",
              "      <th>propertyType</th>\n",
              "      <th>street</th>\n",
              "      <th>baths</th>\n",
              "      <th>fireplace</th>\n",
              "      <th>city</th>\n",
              "      <th>schools</th>\n",
              "      <th>sqft</th>\n",
              "      <th>zipcode</th>\n",
              "      <th>...</th>\n",
              "      <th>PrivatePool</th>\n",
              "      <th>MlsId</th>\n",
              "      <th>target</th>\n",
              "      <th>Year built</th>\n",
              "      <th>Remodeled year</th>\n",
              "      <th>Heating</th>\n",
              "      <th>Cooling</th>\n",
              "      <th>Parking</th>\n",
              "      <th>lotsize</th>\n",
              "      <th>Price/sqft</th>\n",
              "    </tr>\n",
              "  </thead>\n",
              "  <tbody>\n",
              "    <tr>\n",
              "      <th>0</th>\n",
              "      <td>Active</td>\n",
              "      <td>NaN</td>\n",
              "      <td>Single Family Home</td>\n",
              "      <td>240 Heather Ln</td>\n",
              "      <td>3.5</td>\n",
              "      <td>Gas Logs</td>\n",
              "      <td>Southern Pines</td>\n",
              "      <td>[{'rating': ['4', '4', '7', 'NR', '4', '7', 'N...</td>\n",
              "      <td>2900</td>\n",
              "      <td>28387</td>\n",
              "      <td>...</td>\n",
              "      <td>NaN</td>\n",
              "      <td>611019</td>\n",
              "      <td>$418,000</td>\n",
              "      <td>2019</td>\n",
              "      <td></td>\n",
              "      <td>Central A/C, Heat Pump</td>\n",
              "      <td></td>\n",
              "      <td></td>\n",
              "      <td>None</td>\n",
              "      <td>$144</td>\n",
              "    </tr>\n",
              "    <tr>\n",
              "      <th>1</th>\n",
              "      <td>for sale</td>\n",
              "      <td>NaN</td>\n",
              "      <td>single-family home</td>\n",
              "      <td>12911 E Heroy Ave</td>\n",
              "      <td>3 Baths</td>\n",
              "      <td>NaN</td>\n",
              "      <td>Spokane Valley</td>\n",
              "      <td>[{'rating': ['4/10', 'None/10', '4/10'], 'data...</td>\n",
              "      <td>1,947 sqft</td>\n",
              "      <td>99216</td>\n",
              "      <td>...</td>\n",
              "      <td>NaN</td>\n",
              "      <td>201916904</td>\n",
              "      <td>$310,000</td>\n",
              "      <td>2019</td>\n",
              "      <td></td>\n",
              "      <td></td>\n",
              "      <td></td>\n",
              "      <td></td>\n",
              "      <td>5828 sqft</td>\n",
              "      <td>$159/sqft</td>\n",
              "    </tr>\n",
              "    <tr>\n",
              "      <th>2</th>\n",
              "      <td>for sale</td>\n",
              "      <td>NaN</td>\n",
              "      <td>single-family home</td>\n",
              "      <td>2005 Westridge Rd</td>\n",
              "      <td>2 Baths</td>\n",
              "      <td>yes</td>\n",
              "      <td>Los Angeles</td>\n",
              "      <td>[{'rating': ['8/10', '4/10', '8/10'], 'data': ...</td>\n",
              "      <td>3,000 sqft</td>\n",
              "      <td>90049</td>\n",
              "      <td>...</td>\n",
              "      <td>yes</td>\n",
              "      <td>FR19221027</td>\n",
              "      <td>$2,895,000</td>\n",
              "      <td>1961</td>\n",
              "      <td>1967</td>\n",
              "      <td>Forced Air</td>\n",
              "      <td>Central</td>\n",
              "      <td>Attached Garage</td>\n",
              "      <td>8,626 sqft</td>\n",
              "      <td>$965/sqft</td>\n",
              "    </tr>\n",
              "    <tr>\n",
              "      <th>3</th>\n",
              "      <td>for sale</td>\n",
              "      <td>NaN</td>\n",
              "      <td>single-family home</td>\n",
              "      <td>4311 Livingston Ave</td>\n",
              "      <td>8 Baths</td>\n",
              "      <td>yes</td>\n",
              "      <td>Dallas</td>\n",
              "      <td>[{'rating': ['9/10', '9/10', '10/10', '9/10'],...</td>\n",
              "      <td>6,457 sqft</td>\n",
              "      <td>75205</td>\n",
              "      <td>...</td>\n",
              "      <td>NaN</td>\n",
              "      <td>14191809</td>\n",
              "      <td>$2,395,000</td>\n",
              "      <td>2006</td>\n",
              "      <td>2006</td>\n",
              "      <td>Forced Air</td>\n",
              "      <td>Central</td>\n",
              "      <td>Detached Garage</td>\n",
              "      <td>8,220 sqft</td>\n",
              "      <td>$371/sqft</td>\n",
              "    </tr>\n",
              "    <tr>\n",
              "      <th>4</th>\n",
              "      <td>for sale</td>\n",
              "      <td>NaN</td>\n",
              "      <td>lot/land</td>\n",
              "      <td>1524 Kiscoe St</td>\n",
              "      <td>NaN</td>\n",
              "      <td>NaN</td>\n",
              "      <td>Palm Bay</td>\n",
              "      <td>[{'rating': ['4/10', '5/10', '5/10'], 'data': ...</td>\n",
              "      <td>NaN</td>\n",
              "      <td>32908</td>\n",
              "      <td>...</td>\n",
              "      <td>NaN</td>\n",
              "      <td>861745</td>\n",
              "      <td>$5,000</td>\n",
              "      <td></td>\n",
              "      <td></td>\n",
              "      <td></td>\n",
              "      <td></td>\n",
              "      <td></td>\n",
              "      <td>10,019 sqft</td>\n",
              "      <td>None</td>\n",
              "    </tr>\n",
              "  </tbody>\n",
              "</table>\n",
              "<p>5 rows × 24 columns</p>\n",
              "</div>\n",
              "      <button class=\"colab-df-convert\" onclick=\"convertToInteractive('df-003bfd19-3016-4d15-94fb-bdcc80447d25')\"\n",
              "              title=\"Convert this dataframe to an interactive table.\"\n",
              "              style=\"display:none;\">\n",
              "        \n",
              "  <svg xmlns=\"http://www.w3.org/2000/svg\" height=\"24px\"viewBox=\"0 0 24 24\"\n",
              "       width=\"24px\">\n",
              "    <path d=\"M0 0h24v24H0V0z\" fill=\"none\"/>\n",
              "    <path d=\"M18.56 5.44l.94 2.06.94-2.06 2.06-.94-2.06-.94-.94-2.06-.94 2.06-2.06.94zm-11 1L8.5 8.5l.94-2.06 2.06-.94-2.06-.94L8.5 2.5l-.94 2.06-2.06.94zm10 10l.94 2.06.94-2.06 2.06-.94-2.06-.94-.94-2.06-.94 2.06-2.06.94z\"/><path d=\"M17.41 7.96l-1.37-1.37c-.4-.4-.92-.59-1.43-.59-.52 0-1.04.2-1.43.59L10.3 9.45l-7.72 7.72c-.78.78-.78 2.05 0 2.83L4 21.41c.39.39.9.59 1.41.59.51 0 1.02-.2 1.41-.59l7.78-7.78 2.81-2.81c.8-.78.8-2.07 0-2.86zM5.41 20L4 18.59l7.72-7.72 1.47 1.35L5.41 20z\"/>\n",
              "  </svg>\n",
              "      </button>\n",
              "      \n",
              "  <style>\n",
              "    .colab-df-container {\n",
              "      display:flex;\n",
              "      flex-wrap:wrap;\n",
              "      gap: 12px;\n",
              "    }\n",
              "\n",
              "    .colab-df-convert {\n",
              "      background-color: #E8F0FE;\n",
              "      border: none;\n",
              "      border-radius: 50%;\n",
              "      cursor: pointer;\n",
              "      display: none;\n",
              "      fill: #1967D2;\n",
              "      height: 32px;\n",
              "      padding: 0 0 0 0;\n",
              "      width: 32px;\n",
              "    }\n",
              "\n",
              "    .colab-df-convert:hover {\n",
              "      background-color: #E2EBFA;\n",
              "      box-shadow: 0px 1px 2px rgba(60, 64, 67, 0.3), 0px 1px 3px 1px rgba(60, 64, 67, 0.15);\n",
              "      fill: #174EA6;\n",
              "    }\n",
              "\n",
              "    [theme=dark] .colab-df-convert {\n",
              "      background-color: #3B4455;\n",
              "      fill: #D2E3FC;\n",
              "    }\n",
              "\n",
              "    [theme=dark] .colab-df-convert:hover {\n",
              "      background-color: #434B5C;\n",
              "      box-shadow: 0px 1px 3px 1px rgba(0, 0, 0, 0.15);\n",
              "      filter: drop-shadow(0px 1px 2px rgba(0, 0, 0, 0.3));\n",
              "      fill: #FFFFFF;\n",
              "    }\n",
              "  </style>\n",
              "\n",
              "      <script>\n",
              "        const buttonEl =\n",
              "          document.querySelector('#df-003bfd19-3016-4d15-94fb-bdcc80447d25 button.colab-df-convert');\n",
              "        buttonEl.style.display =\n",
              "          google.colab.kernel.accessAllowed ? 'block' : 'none';\n",
              "\n",
              "        async function convertToInteractive(key) {\n",
              "          const element = document.querySelector('#df-003bfd19-3016-4d15-94fb-bdcc80447d25');\n",
              "          const dataTable =\n",
              "            await google.colab.kernel.invokeFunction('convertToInteractive',\n",
              "                                                     [key], {});\n",
              "          if (!dataTable) return;\n",
              "\n",
              "          const docLinkHtml = 'Like what you see? Visit the ' +\n",
              "            '<a target=\"_blank\" href=https://colab.research.google.com/notebooks/data_table.ipynb>data table notebook</a>'\n",
              "            + ' to learn more about interactive tables.';\n",
              "          element.innerHTML = '';\n",
              "          dataTable['output_type'] = 'display_data';\n",
              "          await google.colab.output.renderOutput(dataTable, element);\n",
              "          const docLink = document.createElement('div');\n",
              "          docLink.innerHTML = docLinkHtml;\n",
              "          element.appendChild(docLink);\n",
              "        }\n",
              "      </script>\n",
              "    </div>\n",
              "  </div>\n",
              "  "
            ],
            "text/plain": [
              "     status private pool        propertyType               street    baths  \\\n",
              "0    Active          NaN  Single Family Home       240 Heather Ln      3.5   \n",
              "1  for sale          NaN  single-family home    12911 E Heroy Ave  3 Baths   \n",
              "2  for sale          NaN  single-family home    2005 Westridge Rd  2 Baths   \n",
              "3  for sale          NaN  single-family home  4311 Livingston Ave  8 Baths   \n",
              "4  for sale          NaN            lot/land       1524 Kiscoe St      NaN   \n",
              "\n",
              "  fireplace            city  \\\n",
              "0  Gas Logs  Southern Pines   \n",
              "1       NaN  Spokane Valley   \n",
              "2       yes     Los Angeles   \n",
              "3       yes          Dallas   \n",
              "4       NaN        Palm Bay   \n",
              "\n",
              "                                             schools        sqft zipcode  ...  \\\n",
              "0  [{'rating': ['4', '4', '7', 'NR', '4', '7', 'N...        2900   28387  ...   \n",
              "1  [{'rating': ['4/10', 'None/10', '4/10'], 'data...  1,947 sqft   99216  ...   \n",
              "2  [{'rating': ['8/10', '4/10', '8/10'], 'data': ...  3,000 sqft   90049  ...   \n",
              "3  [{'rating': ['9/10', '9/10', '10/10', '9/10'],...  6,457 sqft   75205  ...   \n",
              "4  [{'rating': ['4/10', '5/10', '5/10'], 'data': ...         NaN   32908  ...   \n",
              "\n",
              "  PrivatePool       MlsId      target Year built Remodeled year  \\\n",
              "0         NaN      611019    $418,000       2019                  \n",
              "1         NaN   201916904    $310,000       2019                  \n",
              "2         yes  FR19221027  $2,895,000       1961           1967   \n",
              "3         NaN    14191809  $2,395,000       2006           2006   \n",
              "4         NaN      861745      $5,000                             \n",
              "\n",
              "                  Heating  Cooling          Parking      lotsize Price/sqft  \n",
              "0  Central A/C, Heat Pump                                   None       $144  \n",
              "1                                                      5828 sqft  $159/sqft  \n",
              "2              Forced Air  Central  Attached Garage   8,626 sqft  $965/sqft  \n",
              "3              Forced Air  Central  Detached Garage   8,220 sqft  $371/sqft  \n",
              "4                                                    10,019 sqft       None  \n",
              "\n",
              "[5 rows x 24 columns]"
            ]
          },
          "execution_count": 16,
          "metadata": {},
          "output_type": "execute_result"
        }
      ],
      "source": [
        "df_new.head()"
      ]
    },
    {
      "attachments": {},
      "cell_type": "markdown",
      "metadata": {
        "id": "l4FOGRuX06HG"
      },
      "source": [
        "Начинаем работу с признаками по очищению их от повторений, различного написания и прочего."
      ]
    },
    {
      "attachments": {},
      "cell_type": "markdown",
      "metadata": {
        "id": "26w7iJkp06HG"
      },
      "source": [
        "Укрупняем позиции по признаку propertyType."
      ]
    },
    {
      "cell_type": "code",
      "execution_count": 17,
      "metadata": {
        "id": "sk25M9GR06HG"
      },
      "outputs": [],
      "source": [
        "def propertyType(arg):\n",
        "    if arg in ['single-family home', 'Single Family Home', 'Single Family']:\n",
        "        return 'single-family'\n",
        "    elif arg in ['Detached, One Story', 'Single Detached, Traditional', '1 Story', 'Single Detached','One Story']:\n",
        "        return 'cabin'\n",
        "    elif arg in ['manufactured home (house)', 'mobile', 'prefab', 'modular', 'mo2 le', 'mo2le', 'mobile/manufactured','Mobile / Manufactured','Mfd/Mobile Home']:\n",
        "        return 'mobile'\n",
        "    elif arg in ['cabin', 'ca2 n', 'ca2n']:\n",
        "        return 'cabin'\n",
        "    elif arg in ['midcentury', 'mid century' ,'mid-century']:\n",
        "        return 'midcentury'\n",
        "    elif arg in ['Townhouse', 'townhouse','townhome', 'Townhome']:\n",
        "        return 'townhouse'\n",
        "    elif arg in ['Condo', 'condo']:\n",
        "        return 'condo'\n",
        "    elif arg in ['Multi-Family Home', 'multi-family', 'Multi Family', 'Multi-Family Home']:\n",
        "        return 'multi-family'\n",
        "    elif arg in ['Contemporary', 'Contemporary/Modern', 'Multi Family']:\n",
        "        return 'contemporary'\n",
        "    elif arg in ['Land', 'lot/land']:\n",
        "        return 'lot/land'\n",
        "    elif arg in ['2 Stories', 'Detached, Two Story','Two Story','2 Story']:\n",
        "        return '2 Stories'\n",
        "    else:\n",
        "        return arg"
      ]
    },
    {
      "cell_type": "code",
      "execution_count": 18,
      "metadata": {
        "id": "rLPqhh7U06HH"
      },
      "outputs": [],
      "source": [
        "df_new['propertyType'] = df_new['propertyType'].apply(propertyType)"
      ]
    },
    {
      "attachments": {},
      "cell_type": "markdown",
      "metadata": {
        "id": "x96iNH5C06HI"
      },
      "source": [
        "Оставляем только первые 35 наиболее чато встречающихся значений, остальные кодируем как 'Other'"
      ]
    },
    {
      "cell_type": "code",
      "execution_count": 19,
      "metadata": {
        "id": "zzfD8W1806HI"
      },
      "outputs": [],
      "source": [
        "cols_lst = df_new['propertyType'].value_counts().head(35).index"
      ]
    },
    {
      "cell_type": "code",
      "execution_count": 20,
      "metadata": {
        "id": "IbHsbUAR06HI"
      },
      "outputs": [],
      "source": [
        "def proptype_unzip(arg):\n",
        "    if arg in cols_lst:\n",
        "        return arg\n",
        "    else:\n",
        "        return 'other'"
      ]
    },
    {
      "cell_type": "code",
      "execution_count": 21,
      "metadata": {
        "id": "-_ai14HR06HJ"
      },
      "outputs": [],
      "source": [
        "df_new['propertyType'] = df_new['propertyType'].apply(proptype_unzip)"
      ]
    },
    {
      "attachments": {},
      "cell_type": "markdown",
      "metadata": {
        "id": "fYNbT2gB06HJ"
      },
      "source": [
        "Обрабатываем признак PrivatePool. Объединяем его с дублирующим признаком private pool и удаем его из df.\n",
        "Там где стоит слово yes - кодируем 1, там где пропуски - ставим 0."
      ]
    },
    {
      "cell_type": "code",
      "execution_count": 22,
      "metadata": {
        "colab": {
          "base_uri": "https://localhost:8080/"
        },
        "id": "7M0cPW6l06HJ",
        "outputId": "fa744791-65fe-477f-e56a-af35647e02fa"
      },
      "outputs": [
        {
          "data": {
            "text/plain": [
              "yes    28793\n",
              "Yes    11518\n",
              "Name: PrivatePool, dtype: int64"
            ]
          },
          "execution_count": 22,
          "metadata": {},
          "output_type": "execute_result"
        }
      ],
      "source": [
        "df_new['PrivatePool'].value_counts()"
      ]
    },
    {
      "cell_type": "code",
      "execution_count": 23,
      "metadata": {
        "id": "V7fkWp6A06HL"
      },
      "outputs": [],
      "source": [
        "df_new['PrivatePool'] = df_new['PrivatePool'].fillna(df_new['private pool'])\n",
        "df_new = df_new.drop(['private pool'], axis=1)"
      ]
    },
    {
      "cell_type": "code",
      "execution_count": 24,
      "metadata": {
        "id": "aRWQuPGK06HM"
      },
      "outputs": [],
      "source": [
        "df_new['PrivatePool'] = df_new['PrivatePool'].apply(lambda x: 'yes' if x == 'Yes' else x )\n",
        "df_new['PrivatePool'] = df_new['PrivatePool'].apply(lambda x: 1 if x == 'yes' else 0 )"
      ]
    },
    {
      "attachments": {},
      "cell_type": "markdown",
      "metadata": {
        "id": "Mg4rtHLH06HM"
      },
      "source": [
        "Разбираем признак baths. Убираем некорректно занесенные данные , там где данные числовые плюс слово Bath, ba и пр оставляем только число. В местах где значения некорректные осталяем значение 0."
      ]
    },
    {
      "cell_type": "code",
      "execution_count": 25,
      "metadata": {
        "id": "f-PM6lnf06HM"
      },
      "outputs": [],
      "source": [
        "def bathnum(arg):\n",
        "    if type(arg) == str:\n",
        "        if arg in ['~', 'nan', '—', '--','-- ba','-- Baths', '-- baths', '0', '0 / 0', 'Sq. Ft. ', '0.00', '0.0', 'Sq. Ft.',\n",
        "                   '1-0 / 1-0 / 1', '1-0 / 1-0 / 1', '3-1 / 2-2', '1 / 1 / 1 / 1', '1 / 1-0 / 1-0 / 1-0',\n",
        "                   '2-1 / 2-1 / 1-1 / 1-1', 'SemiMod', '116 / 116 / 116','1-2','Bathrooms: SemiMod','1-2 Baths']:\n",
        "            return 0\n",
        "        elif arg[-1] == '+':\n",
        "            return arg[:-1]\n",
        "        else:\n",
        "            wrds_list = arg.split()\n",
        "            if len(wrds_list) == 1:\n",
        "                return wrds_list[0]\n",
        "            elif wrds_list[1] in ['ba', 'Baths', 'baths']:\n",
        "               return wrds_list[0]\n",
        "            elif wrds_list[0] in ['Bathrooms:']:\n",
        "                return wrds_list[1]\n",
        "            else:\n",
        "                return arg\n",
        "    elif arg in ['~', 'nan', '—', '--', '0', '0 / 0', 'Sq. Ft. ', '0.00', '0.0', 'Sq. Ft.','SemiMod']:\n",
        "        return 0\n",
        "    elif arg in ['1-0 / 1-0 / 1', '1-0 / 1-0 / 1', '3-1 / 2-2', '1 / 1 / 1 / 1', '1 / 1-0 / 1-0 / 1-0', '2-1 / 2-1 / 1-1 / 1-1', 'SemiMod', '116 / 116 / 116','1-2']:\n",
        "        return 0\n",
        "    else:   \n",
        "        return arg"
      ]
    },
    {
      "cell_type": "code",
      "execution_count": 26,
      "metadata": {
        "id": "U77FNYug06HN"
      },
      "outputs": [],
      "source": [
        "df_new['baths'] = df_new['baths'].apply(bathnum)"
      ]
    },
    {
      "cell_type": "code",
      "execution_count": 27,
      "metadata": {
        "id": "mwpIofdW06HN"
      },
      "outputs": [],
      "source": [
        "df_new['baths'] = df_new['baths'].str.replace(',','.')\n",
        "df_new['baths'] = df_new['baths'].astype('float')"
      ]
    },
    {
      "attachments": {},
      "cell_type": "markdown",
      "metadata": {
        "id": "f3ldVkYZ06HO"
      },
      "source": [
        "Разбираем признак sqft. Убираем некорректно занесенные данные , там где данные числовые плюс слово sqft оставляем только число. Числовые значения с ',' преобразуем в числа. В местах где значения некорректные осталяем значение 0."
      ]
    },
    {
      "cell_type": "code",
      "execution_count": 28,
      "metadata": {
        "id": "No2TL8lk06HO"
      },
      "outputs": [],
      "source": [
        "def sqftres(arg):\n",
        "    if type(arg) == str:\n",
        "        wrds_list = arg.split()\n",
        "        if arg in ['—','--','610-840','610-840 sqft', '-- sqft']:\n",
        "            return 0        \n",
        "        elif len(wrds_list) == 1:\n",
        "            return wrds_list[0]\n",
        "        elif wrds_list[1] in ['sqft']:\n",
        "            return wrds_list[0]\n",
        "        elif wrds_list[-1] == 'sqft':\n",
        "            return wrds_list[-2]\n",
        "    else:\n",
        "        return arg"
      ]
    },
    {
      "cell_type": "code",
      "execution_count": 29,
      "metadata": {
        "id": "sP1BYakG06HO"
      },
      "outputs": [],
      "source": [
        "df_new['sqft'] = df_new['sqft'].apply(sqftres)"
      ]
    },
    {
      "cell_type": "code",
      "execution_count": 30,
      "metadata": {
        "id": "SFvxLmei06HP"
      },
      "outputs": [],
      "source": [
        "df_new['sqft'] = df_new['sqft'].str.replace(',','')\n",
        "df_new['sqft'] = df_new['sqft'].astype('float')"
      ]
    },
    {
      "attachments": {},
      "cell_type": "markdown",
      "metadata": {
        "id": "EREm-paj06HY"
      },
      "source": [
        "Разбираем признак fireplace. там где есть хоть какое то упоминание про наличие соотвествующего инвенторя - ставим значение 1. В местах где значений нет осталяем значение 0."
      ]
    },
    {
      "cell_type": "code",
      "execution_count": 31,
      "metadata": {
        "id": "n1WWmk2m06HY"
      },
      "outputs": [],
      "source": [
        "def fireplace(arg):\n",
        "    if arg in ['Yes', '1', '2', 'Great Room','Fireplace','Gas Logs, Great Room','Living Room', 'Fireplace YN',\n",
        "               'Fireplace Features','FAMILYRM','1 Fireplace','Gas/Gas Logs', 'Wood Burning',\n",
        "               'FAMILYRM, Gas Logs', 'Gas Logs, In Great Room', 'Gas Logs','1 Fireplace, Fireplace Living Rm',\n",
        "               'Wood', 'Special Features', 'Gas Log, One', 'Gas Logs, In Living Room', 'Gas', 'Gas Logs, Living Room',\n",
        "               'Gas Logs, In Den/Family Room', 'Living Room, Wood Burning', 'One', '1 Fireplace, Fireplace Family Rm',\n",
        "               'Fireplaces - Woodburning', '# Fireplaces - Gas', 'Log Woodburning, One', 'Electric', 'Family Room',\n",
        "               'Family Room, Wood Burning', 'In Living Room', 'Gas Fuel,LOCATION', 'Fireplace-Gas, Forced Air','FAMILYRM, Wood Burning',\n",
        "               '1 Fireplace, Gas Fireplace','Fireplace-Wood, Forced Air', 'Gas, One', 'Gas Vented, Great Room',\n",
        "               '# Fireplaces - Woodburning','1 Fireplace, Fireplace Family Rm, Gas Fireplace','FAMILYRM, Gas Vented',\n",
        "               'FAMILYRM, Gas Logs, Gas Vented','Fireplaces', 'Firepit', 'Fire Pit,LOCATION', 'In Living Room, Wood Burning', 'FAMILYRM, Natural Gas',\n",
        "               'Fire Pit,LOCATION','Gas Fuel','3','4', '5','1 Fireplace, Fireplace Living Rm, Gas Fireplace', 'Gas, Family Room','Great Room, Wood Burning',\n",
        "               'Gas Logs, Gas Vented, Great Room','Gas Fireplace', 'One, Wood Burning', '1 Fireplace, Fireplace Living Rm, Gas Fireplace', 'In Great Room',\n",
        "               '1 Fireplace, Wood Burning Frplc','Gas Log Starter, Gas Logs, In Great Room','Wood Burning, Gas Starter','Gas Log' ]:\n",
        "        return 'yes'\n",
        "    else:\n",
        "        return 'no'"
      ]
    },
    {
      "cell_type": "code",
      "execution_count": 32,
      "metadata": {
        "id": "rsA33nFB06HZ"
      },
      "outputs": [],
      "source": [
        "df_new['fireplace'] = df_new['fireplace'].apply(fireplace)\n",
        "df_new['fireplace'] = df_new['fireplace'].apply(lambda x: 1 if x == 'yes' else 0)"
      ]
    },
    {
      "attachments": {},
      "cell_type": "markdown",
      "metadata": {
        "id": "xNVwM1tU06HZ"
      },
      "source": [
        "Разбираем признак beds. Убираем некорректно занесенные данные , там где данные числовые плюс слово beds оставляем только число. В местах где значения некорректные осталяем значение 0."
      ]
    },
    {
      "cell_type": "code",
      "execution_count": 33,
      "metadata": {
        "id": "4c2RfExF06Ha"
      },
      "outputs": [],
      "source": [
        "def beds(arg):\n",
        "    if arg in ['--', 'Baths', '1,960 sqft','bd','Beds','Bath','2,178', '2,178 bd','2,178 Beds', \n",
        "               '-- bd', '-- Beds','2,178 sqft','8,637','8,637 bd','10,310 bd','Based','Based bd','Based Beds', '1-2', '1-2 bd','1-2 Beds','#',\n",
        "               '1 Bath, 2 Bedrooms, Living Room, Range/Oven, Refrigerator','1 Bath, 2 Bedrooms',\n",
        "               \"Based on Redfin's St Johns data, we estimate the home's value is $360,731, which is 2.2% less than its current list price.\",\n",
        "               '1 Bath, 2 Bedrooms, Eat-In Kitchen, Living Room, Range/Oven, Refrigerator',\n",
        "               '3 or More Bedrooms, Dining Room, Living Room, Range/Oven, Refrigerator',\n",
        "               '1 Bath, 3 or More Bedrooms, Cable TV Available, Dining Room, Eat-In Kitchen, Living Room, Range/Oven, Refrigerator',\n",
        "               \"Based on Redfin's Raleigh data, we estimate the home's value is $708,248, which is 1.2% more than its current list price.\",\n",
        "               '2 Baths, 3 or More Bedrooms','3 or More Bedrooms','1 Bath, 2 Bedrooms, Cable TV Available, Dining Room, Eat-In Kitchen, Living Room',\n",
        "               '# Bedrooms 1st Floor']:\n",
        "        return 0\n",
        "    if type(arg) == str:\n",
        "        wrds_list = arg.split()\n",
        "        if len(wrds_list) == 0:\n",
        "            return 0\n",
        "        elif len(wrds_list) == 1:\n",
        "            return wrds_list[0]\n",
        "        elif (len(wrds_list) > 1) & (wrds_list[1] in ['bd', 'Beds']):\n",
        "            return wrds_list[0]\n",
        "        elif wrds_list[-1] in ['acres','sqft', 'Acre','acre','Sqft','Sq.']:\n",
        "            return 0\n",
        "        else:\n",
        "            return arg\n",
        "    else:\n",
        "        return arg"
      ]
    },
    {
      "cell_type": "code",
      "execution_count": 34,
      "metadata": {
        "id": "87GK7Qzx06Ha"
      },
      "outputs": [],
      "source": [
        "df_new['beds'] = df_new['beds'].apply(beds)\n",
        "df_new['beds'] = df_new['beds'].astype('float')"
      ]
    },
    {
      "attachments": {},
      "cell_type": "markdown",
      "metadata": {
        "id": "iAsBd3l406Hb"
      },
      "source": [
        "Разбираем признак stories. Укрупняем группы с некорректно занесенные данные, формируем 5 группы (1,1.5,2,3 эатажа и более). В местах где значения некорректные осталяем значение 0."
      ]
    },
    {
      "cell_type": "code",
      "execution_count": 35,
      "metadata": {
        "id": "-b0nGOqy06Hc"
      },
      "outputs": [],
      "source": [
        "def stories(arg):\n",
        "    if arg in ['1','1.0','1.00','1.0000','1.000','One','One Level', '1 Story', 'One Story', '1 Level','Ranch/1 Story','1 Story/Ranch','1 Story/F.R.O.G.',\n",
        "               'Ground Level, One','1 Story, Multi Level','1 Story, Hillside','1 Story, Townhouse','1 Story Basement',\n",
        "               '1 Story, Townhouse',', 1','1 Story, Split Level','1, 1']:\n",
        "        return 1\n",
        "    elif arg in ['2.0','2','2.00','Bi-Level','Split Entry (Bi-Level)','2.0000',', 2','2 Stories, Townhouse','2 Story', '2 Story/Basement','2 Stories, Townhouse','2 Stories','Ground Level, Two',\n",
        "                 'Ground Level, Split Level, Two','Two','2 Levels','2 Stories, Tear Down','2 Story, Tri Level',\n",
        "                 'Two, Multi/Split','2 Story, Split Level','Double Wide']:\n",
        "        return 2\n",
        "    elif arg in ['1.5','1.50','1.5000','1.5 Stories','1.5 Story/Basement', 'One and One Half','1 1/2 Levels',\n",
        "                 '1 1/2 Story','1.5 Story','1.500']:\n",
        "        return 1.5\n",
        "    elif arg in ['3','3.0','3.00','3.000','3.0000','Tri-Level','3 Stories','3+ Story','3 Story, Multi Level','Multi Level, Tri Level',\n",
        "                 '3 Story','3 Story, Tri Level','3 Levels','Tri Level','Tri/Multi Level','3 Story/Basement','Tri/Multi Level']:\n",
        "        return 3\n",
        "    elif arg in ['3+','4.0','Three Or More', '4 Story','3+ Story','6+ Stories','Three Or More Levels',\n",
        "             '3 - 5 Stories','Multi Level, Three or More','Condo 5+ Stories',]:\n",
        "        return '3+'\n",
        "    elif arg in ['0','0.0']:\n",
        "        return np.nan\n",
        "    else:\n",
        "        return arg"
      ]
    },
    {
      "cell_type": "code",
      "execution_count": 36,
      "metadata": {
        "id": "xIMTV0aH06Hc"
      },
      "outputs": [],
      "source": [
        "def storiesnum(arg):\n",
        "    if (type(arg) == float) & (type(arg)== int):\n",
        "        return arg\n",
        "    elif type(arg) == str:\n",
        "        if re.search(r'\\d+', arg ) is None:\n",
        "            return 'other'\n",
        "        else:\n",
        "            num_st = int(re.search(r'\\d+', arg )[0])\n",
        "            if num_st > 3:\n",
        "                return '3+'\n",
        "            elif num_st <= 3:\n",
        "                return num_st\n",
        "    else:\n",
        "        return arg"
      ]
    },
    {
      "cell_type": "code",
      "execution_count": 37,
      "metadata": {
        "id": "Lr_70umI06Hd"
      },
      "outputs": [],
      "source": [
        "df_new['stories'] = df_new['stories'].apply(stories)\n",
        "df_new['stories'] = df_new['stories'].apply(storiesnum)"
      ]
    },
    {
      "attachments": {},
      "cell_type": "markdown",
      "metadata": {
        "id": "Q3lSilm206Hf"
      },
      "source": [
        "Год постройки и год последнего ремонта преобразуем в признаки Age возраст постройки и last_repair -  кол-во лет с последнего ремонта. Удаляем записи с аномальными значениями года постройки."
      ]
    },
    {
      "cell_type": "code",
      "execution_count": 38,
      "metadata": {
        "colab": {
          "base_uri": "https://localhost:8080/"
        },
        "id": "1F0BNMfY06Hg",
        "outputId": "e886b40f-29cb-4950-ad03-748c0cbc462a"
      },
      "outputs": [
        {
          "name": "stderr",
          "output_type": "stream",
          "text": [
            "<ipython-input-38-c6bd69c9887d>:6: SettingWithCopyWarning: \n",
            "A value is trying to be set on a copy of a slice from a DataFrame.\n",
            "Try using .loc[row_indexer,col_indexer] = value instead\n",
            "\n",
            "See the caveats in the documentation: https://pandas.pydata.org/pandas-docs/stable/user_guide/indexing.html#returning-a-view-versus-a-copy\n",
            "  df_new['Remodeled year']= df_new['Remodeled year'].fillna(0)\n"
          ]
        }
      ],
      "source": [
        "df_new['Year built'] = df_new['Year built'].str.extract('([-+]?\\d*\\.?\\d+)')\n",
        "df_new['Year built'] = df_new['Year built'].apply(pd.to_numeric)\n",
        "df_new['Remodeled year'] = df_new['Remodeled year'].str.extract('([-+]?\\d*\\.?\\d+)')\n",
        "df_new['Remodeled year'] = df_new['Remodeled year'].apply(pd.to_numeric)\n",
        "df_new = df_new[(df_new['Year built'] > 1787) & (df_new['Year built'] < 2023)]\n",
        "df_new['Remodeled year']= df_new['Remodeled year'].fillna(0)"
      ]
    },
    {
      "cell_type": "code",
      "execution_count": 39,
      "metadata": {
        "colab": {
          "base_uri": "https://localhost:8080/"
        },
        "id": "zKHDvA8p06Hg",
        "outputId": "f4417ce8-f39d-4a6e-9d59-33e7e0478c76"
      },
      "outputs": [
        {
          "name": "stderr",
          "output_type": "stream",
          "text": [
            "<ipython-input-39-7dc151e4e4c6>:1: SettingWithCopyWarning: \n",
            "A value is trying to be set on a copy of a slice from a DataFrame.\n",
            "Try using .loc[row_indexer,col_indexer] = value instead\n",
            "\n",
            "See the caveats in the documentation: https://pandas.pydata.org/pandas-docs/stable/user_guide/indexing.html#returning-a-view-versus-a-copy\n",
            "  df_new['Age'] = 2023 - df_new['Year built']\n"
          ]
        }
      ],
      "source": [
        "df_new['Age'] = 2023 - df_new['Year built']"
      ]
    },
    {
      "cell_type": "code",
      "execution_count": 40,
      "metadata": {
        "id": "v42HBLJV06Ho"
      },
      "outputs": [],
      "source": [
        "def last_repair(row):\n",
        "    if row['Remodeled year'] == 0:\n",
        "        row['Remodeled year'] = row['Year built']\n",
        "    return 2023 - row['Remodeled year']"
      ]
    },
    {
      "cell_type": "code",
      "execution_count": 41,
      "metadata": {
        "id": "m0_n4lyM06Hq"
      },
      "outputs": [],
      "source": [
        "df_new['Repaired'] = df_new['Remodeled year'].apply(lambda x: 1 if x>0 else 0)\n",
        "df_new['last_repair'] = df_new.apply(lambda row: last_repair(row), axis=1)\n",
        "df_new = df_new.drop(['Year built','Remodeled year'], axis=1)"
      ]
    },
    {
      "attachments": {},
      "cell_type": "markdown",
      "metadata": {
        "id": "moxt9cFs06Hz"
      },
      "source": [
        "Разбираем признак Heating. Укрупняем группы с некорректно занесенные данные, формируем 5 группы (Forced air, Central, Electric, Gas, Heat pump). В местах где значения некорректные оставляем значение 0."
      ]
    },
    {
      "cell_type": "code",
      "execution_count": 42,
      "metadata": {
        "id": "HWcpO-K_06H4"
      },
      "outputs": [],
      "source": [
        "def Heating(arg):\n",
        "    if arg in ['Forced Air','Forced Air Heating','Hot Air','Forced air, Other','Forced air, Stove','Baseboard, Forced air',\n",
        "               'Forced air, Wall','Forced Warm Air','Forced air, Radiant','Electric, Forced Air','ForcedAir']:\n",
        "        return 'Forced air'\n",
        "    elif arg in ['Central Electric','Central, Electric','Central Electric, Heat Pump','Central Air','Central Furnace','Central Heating','Central Gas','Central Electric, Zoned',\n",
        "                'Central Air Conditioning','Central Air, Central Heat','Central Air, Ceiling Fan(s)','Central, Gas',\n",
        "                'Central, Gas, Two or More Units','Central, Heat Pump','Central, Electric, Heat Pump','Central, Natural Gas',\n",
        "                'Gas Gas','Central Heating, Electric Source','Central, Electric, Two or More Units','Central Electric, Central Gas',\n",
        "                'Central, Electric, Gas']:\n",
        "        return 'Central'\n",
        "    elif arg in ['Electric Heat', 'Electric Hot Air',', Electric Hot Air']:\n",
        "        return 'Electric'\n",
        "    elif arg in [', Gas Hot Air/Furnace','Gas Heat','Natural Gas Heat','Gas Hot Air/Furnace','Forced Air, Gas',\n",
        "                'Forced Air, Natural Gas',', Gas Hot Air/Furnace, MultiZone Heat','Natural Gas',', Gas Hot Air/Furnace, Gas Water Heater',\n",
        "                'Forced Air - Gas',', Gas Hot Air/Furnace, Natural Gas',', Natural Gas']:\n",
        "        return 'Gas'\n",
        "    elif arg in ['Heat Pump','Forced air, Heat pump',', Heat Pump - Heat','Heat Pump(s)','Forced air, Heat pump, Stove',\n",
        "                'Electric, Heat Pump','Heat pump, Other']:\n",
        "        return 'Heat pump'\n",
        "    elif arg in ['No Data']:\n",
        "        return \n",
        "    else:\n",
        "        return arg"
      ]
    },
    {
      "cell_type": "code",
      "execution_count": 43,
      "metadata": {
        "id": "K1xvIBvu06H5"
      },
      "outputs": [],
      "source": [
        "def Heatingtype(arg):\n",
        "    if arg in ['Forced air', '','Central','Heat pump','Gas', 'Electric']:\n",
        "        return arg\n",
        "    else:\n",
        "        return 'Other'"
      ]
    },
    {
      "cell_type": "code",
      "execution_count": 44,
      "metadata": {
        "id": "BdNYJvTa06H5"
      },
      "outputs": [],
      "source": [
        "df_new['Heating'] = df_new['Heating'].apply(Heating)\n",
        "df_new['Heating'] = df_new['Heating'].apply(Heatingtype)"
      ]
    },
    {
      "attachments": {},
      "cell_type": "markdown",
      "metadata": {
        "id": "iTwsNA1l06H6"
      },
      "source": [
        "Разбираем признак Cooling. там где есть хоть какое то упоминание про наличие соотвествующего оборудования - ставим значение 1. В местах где значений нет осталяем значение 0."
      ]
    },
    {
      "cell_type": "code",
      "execution_count": 45,
      "metadata": {
        "id": "vZFEtITU06H6"
      },
      "outputs": [],
      "source": [
        "def Cooling(arg):\n",
        "    if arg in ['No Data', '','None']:\n",
        "        return 0\n",
        "    else:\n",
        "        return 1"
      ]
    },
    {
      "cell_type": "code",
      "execution_count": 46,
      "metadata": {
        "id": "9v_FKyYA06H7"
      },
      "outputs": [],
      "source": [
        "df_new['Cooling'] = df_new['Cooling'].apply(Cooling)"
      ]
    },
    {
      "attachments": {},
      "cell_type": "markdown",
      "metadata": {
        "id": "lyu709id06H7"
      },
      "source": [
        "Разбираем признак Heating. Укрупняем группы с некорректно занесенные данные, формируем 7 групп ('Attached Garage', '2 spaces', '1 space', 'Detached Garage', 'Carport', '3 spaces', 'Off Street'). В местах где значения некорректные оставляем значение 0."
      ]
    },
    {
      "cell_type": "code",
      "execution_count": 47,
      "metadata": {
        "id": "qP_9Sg-x06H8"
      },
      "outputs": [],
      "source": [
        "def Parking(arg):\n",
        "    if arg in ['2']:\n",
        "        return '2 spaces'\n",
        "    elif arg in ['Off Street, Attached Garage','Attached - REAR','Attached Garage, Garage - 2 Car',\n",
        "                 'Garage Attached','Attached - SIDE, AGGRE','2 Car Garage, Attached Garage, Opener',\n",
        "                'Attached Garage, Driveway','Attached - FRONT','Attached Garage, Driveway, Garage - 2 Car']:\n",
        "        return 'Attached Garage'\n",
        "    elif arg in ['1']:\n",
        "        return '1 space'\n",
        "    elif arg in ['Carport, Attached Garage','Attached Garage, Carport','Carport, Detached Garage',\n",
        "                'Off Street, Carport','Carport Spaces']:\n",
        "        return 'Carport'\n",
        "    elif arg in ['Off street','Off street parking']:\n",
        "        return 'Off Street'\n",
        "    elif arg in ['Detached Garage, Attached Garage']:\n",
        "        return 'Attached Garage, Detached Garage'\n",
        "    elif arg in ['3']:\n",
        "        return '3 spaces'\n",
        "    elif arg in ['4']:\n",
        "        return '4 spaces'\n",
        "    elif arg in ['No Data','None','0']:\n",
        "        return None\n",
        "    else:\n",
        "        return arg"
      ]
    },
    {
      "cell_type": "code",
      "execution_count": 48,
      "metadata": {
        "id": "iNNt34DX06H-"
      },
      "outputs": [],
      "source": [
        "def Parkingnum(arg):\n",
        "    if arg in ['Attached Garage', '','2 spaces','1 space','Detached Garage', 'Carport','3 spaces','Off Street']:\n",
        "        return arg\n",
        "    else:\n",
        "        return 'Other'"
      ]
    },
    {
      "cell_type": "code",
      "execution_count": 49,
      "metadata": {
        "id": "dvNGLOOT06H_"
      },
      "outputs": [],
      "source": [
        "df_new['Parking'] = df_new['Parking'].apply(Parking)\n",
        "df_new['Parking'] = df_new['Parking'].apply(Parkingnum)"
      ]
    },
    {
      "attachments": {},
      "cell_type": "markdown",
      "metadata": {
        "id": "bomNzusx06IA"
      },
      "source": [
        "Разбираем признак lotsize. Некорректно занесенным данным присваиваем 0. Остальные значения преобразуем ',' заменяя на пустоту. Перевоим признак в число, с учетом того, что есть значения в акрах - умножаем его на 43560 для перевода в квадратные футы "
      ]
    },
    {
      "cell_type": "code",
      "execution_count": 50,
      "metadata": {
        "id": "kESjU30c06IA"
      },
      "outputs": [],
      "source": [
        "def lotsize(arg):\n",
        "    if arg in ['2', '2 spaces']:\n",
        "        return None\n",
        "    elif arg in ['No Data','—','-- sqft lot']:\n",
        "        return None\n",
        "    else:\n",
        "        return arg"
      ]
    },
    {
      "cell_type": "code",
      "execution_count": 51,
      "metadata": {
        "id": "LM_m1dDl06IB"
      },
      "outputs": [],
      "source": [
        "df_new['lotsize'] = df_new['lotsize'].apply(lotsize)"
      ]
    },
    {
      "cell_type": "code",
      "execution_count": 52,
      "metadata": {
        "id": "jUP0NbAE06IB"
      },
      "outputs": [],
      "source": [
        "df_new['lotsize'] = df_new['lotsize'].str.replace(',','')"
      ]
    },
    {
      "cell_type": "code",
      "execution_count": 53,
      "metadata": {
        "id": "Krks9Qbh06IC"
      },
      "outputs": [],
      "source": [
        "def lotsizesqft(arg):\n",
        "    if arg == '':\n",
        "        return None\n",
        "    if type(arg) == str:\n",
        "        wrds_list = arg.split()\n",
        "        if len(wrds_list) == 1:\n",
        "            return arg\n",
        "        elif wrds_list[1] in ['acres','Acres','acre','Acre']:\n",
        "            return 43560*float(wrds_list[0])\n",
        "        elif wrds_list[1] in ['sqft','Sq.']:\n",
        "            return wrds_list[0]\n",
        "        else:\n",
        "            return arg\n",
        "    else:\n",
        "        return arg"
      ]
    },
    {
      "cell_type": "code",
      "execution_count": 54,
      "metadata": {
        "id": "FVFvbiBX06ID"
      },
      "outputs": [],
      "source": [
        "df_new['lotsize'] = df_new['lotsize'].apply(lotsizesqft)\n",
        "df_new['lotsize'] = df_new['lotsize'].astype('float')"
      ]
    },
    {
      "attachments": {},
      "cell_type": "markdown",
      "metadata": {
        "id": "W8VrdDfT06ID"
      },
      "source": [
        "Разбираем признак status. Укрупняем группы с некорректно занесенные данные."
      ]
    },
    {
      "cell_type": "code",
      "execution_count": 55,
      "metadata": {
        "id": "SCwfevUe06IE"
      },
      "outputs": [],
      "source": [
        "def status(arg):\n",
        "    if arg in ['For sale']:\n",
        "        return 'for sale'\n",
        "    elif arg in ['Pre-foreclosure / auction']:\n",
        "        return 'Pre-foreclosure'\n",
        "    elif arg in ['Under Contract   Showing','Under Contract','Active Under Contract']:\n",
        "        return 'Under Contract Show'\n",
        "    elif arg in [' / auction']:\n",
        "        return 'Auction'\n",
        "    elif arg in ['Foreclosed','Foreclosure']:\n",
        "        return 'foreclosure'\n",
        "    elif arg in ['A Active']:\n",
        "        return 'Active'\n",
        "    else:\n",
        "        return arg"
      ]
    },
    {
      "cell_type": "code",
      "execution_count": 56,
      "metadata": {
        "id": "BJzZ-Ykl06IE"
      },
      "outputs": [],
      "source": [
        "df_new['status'] = df_new['status'].apply(status)"
      ]
    },
    {
      "attachments": {},
      "cell_type": "markdown",
      "metadata": {
        "id": "ChTZIAA006IE"
      },
      "source": [
        "Разбираем признак target. Переводим $ в числовой признак."
      ]
    },
    {
      "cell_type": "code",
      "execution_count": 57,
      "metadata": {
        "id": "INGuEJAH06IF"
      },
      "outputs": [],
      "source": [
        "def target(arg):\n",
        "    if type(arg) == str:\n",
        "        if (arg[0] == '$') & (arg[-1] == '+'):\n",
        "            return arg[1:-1]\n",
        "        elif (arg[0] == '$') & (arg[-3:] == '/mo'):\n",
        "            return 0\n",
        "        elif arg[0] == '$':\n",
        "            return arg[1:]\n",
        "        elif arg[-1] == '+':\n",
        "            return arg[:-1]\n",
        "        elif arg[-3:] == '/mo':\n",
        "            return 0\n",
        "        else:\n",
        "            return arg\n",
        "    else:\n",
        "        return arg"
      ]
    },
    {
      "cell_type": "code",
      "execution_count": 58,
      "metadata": {
        "id": "Xw1xDvmy06IF"
      },
      "outputs": [],
      "source": [
        "df_new['target'] = df_new['target'].str.replace(',','')\n",
        "df_new.target = df_new.target.apply(target)\n",
        "df_new.target = df_new.target.astype('float')"
      ]
    },
    {
      "cell_type": "code",
      "execution_count": 59,
      "metadata": {
        "id": "CyFFnain06IG"
      },
      "outputs": [],
      "source": [
        "df_new = df_new.reset_index(drop=True)\n",
        "df_new = df_new.drop_duplicates()\n",
        "df_new = df_new.drop(index=df_new[df_new['lotsize'] < 0].index[0], axis=0)"
      ]
    },
    {
      "cell_type": "code",
      "execution_count": 60,
      "metadata": {
        "id": "sD39djXc06IG"
      },
      "outputs": [],
      "source": [
        "df_new_1 = df_new.copy()"
      ]
    },
    {
      "attachments": {},
      "cell_type": "markdown",
      "metadata": {
        "id": "gpDfGakn06IH"
      },
      "source": [
        "Разбираем признак MlsId. Убираем некорректные данные, дополняем признак дублирующимся mls-id, "
      ]
    },
    {
      "cell_type": "code",
      "execution_count": 61,
      "metadata": {
        "id": "034XU5Mq06IH"
      },
      "outputs": [],
      "source": [
        "def MlsId(arg):\n",
        "  if arg in ['NO MLS', 'No MLS #', ' A, Houston, TX 77008', 'No ',\n",
        "       ' 12A, Orlando, FL 32833', ' B, Houston, TX 77008', 'No mls',\n",
        "       ' 1, South Boston, MA 02127', ' 11A, Orlando, FL 32833',\n",
        "       ' B, Houston, TX 77007', ' 2, Washington, DC 20002',\n",
        "       ' 1, Washington, DC 20002', ' 2, Washington, DC 20010', '2101941',\n",
        "       ' 3A, Orlando, FL 32833', ' 2, Washington, DC 20009',\n",
        "       'No MLS', ' 0, Doral, FL 33178', ' 1, Washington, DC 20001',\n",
        "       ' A, Austin, TX 78721', ' 1A, Orlando, FL 32833', 'NOMLSID',\n",
        "       ' A, Austin, TX 78704', ' 2, Boston, MA 02129',\n",
        "       ' 2, Washington, DC 20001', ' 1, Washington, DC 20010',\n",
        "       ' A, Houston, TX 77018', ' A, Houston, TX 77057', ' 1, Washington, DC 20009',\n",
        "       ' C, Houston, TX 77007',' 0, Medley, FL 33178',' 1, Austin, TX 78702',' 2, Orlando, FL 32835',\n",
        "       ' 4, Washington, DC 20009',' 2, Washington, DC 20011',' B, Houston, TX 77054',' B, Houston, TX 77018',\n",
        "       ' D, Houston, TX 77008',' 1, Boston, MA 02125',' 601, Fort Lauderdale, FL 33304',' B, Austin, TX 78721',\n",
        "       ' 2, Orlando, FL 32822',' A, Austin, TX 78702',' B, Houston, TX 77057',' A, Austin, TX 78723',\n",
        "       ' C, Houston, TX 77008',' A, Seattle, WA 98103', '1539721',' B, Austin, TX 78704',' B, Austin, TX 78751']:\n",
        "       return 'NO MLS'\n",
        "  else:\n",
        "    return arg"
      ]
    },
    {
      "cell_type": "code",
      "execution_count": 62,
      "metadata": {
        "id": "KLJ1dhnl06II"
      },
      "outputs": [],
      "source": [
        "df_new_1['MlsId'] = df_new_1['MlsId'].fillna(df_new_1['mls-id'])"
      ]
    },
    {
      "cell_type": "code",
      "execution_count": 63,
      "metadata": {
        "id": "kj6QzVY706II"
      },
      "outputs": [],
      "source": [
        "df_new_1['MlsId'] = df_new_1['MlsId'].apply(MlsId)"
      ]
    },
    {
      "attachments": {},
      "cell_type": "markdown",
      "metadata": {
        "id": "4w0V3_5606IJ"
      },
      "source": [
        "В признаке город - 1830 значений, оставляем только перые 150 наиболее часто встречающиеся в датасете, остальные заполняем признаком 'other'"
      ]
    },
    {
      "cell_type": "code",
      "execution_count": 64,
      "metadata": {
        "id": "YRF-oMYP06IJ"
      },
      "outputs": [],
      "source": [
        "city_list = list(df_new_1['city'].value_counts().head(150).index)"
      ]
    },
    {
      "cell_type": "code",
      "execution_count": 65,
      "metadata": {
        "id": "FIKSW2Zw06IK"
      },
      "outputs": [],
      "source": [
        "def citynum(arg):\n",
        "    if arg in city_list:\n",
        "        return arg\n",
        "    else:\n",
        "        return 'other'"
      ]
    },
    {
      "cell_type": "code",
      "execution_count": 66,
      "metadata": {
        "id": "eUivciI006IK"
      },
      "outputs": [],
      "source": [
        "df_new_1['city'] = df_new_1['city'].apply(citynum)"
      ]
    },
    {
      "attachments": {},
      "cell_type": "markdown",
      "metadata": {
        "id": "0uIpUCaK06IL"
      },
      "source": [
        "В признаке возраст здания и последний год ремонта - есть неточности, есть значения где время прошедшее с ремонта больше возраста дома. Предполагаем, это ошибка ручного ввода, менем их местами."
      ]
    },
    {
      "cell_type": "code",
      "execution_count": 67,
      "metadata": {
        "id": "cQF6gu-J06IL"
      },
      "outputs": [],
      "source": [
        "def reversage(row1,row2):\n",
        "    if row2 > row1:\n",
        "        return row2\n",
        "    else:\n",
        "        return row1"
      ]
    },
    {
      "attachments": {},
      "cell_type": "markdown",
      "metadata": {
        "id": "MXwzOjMs06IM"
      },
      "source": [
        "Очищаем данные. Оставляем только данные с ванными комнатами и спальнями менее 20, берем только строки где определена целевая переменная \"target\", не берем значения где не определен город в котором находится недвижимость. Убираем дубликаты с одинковыми индексами, адресами и MlsId."
      ]
    },
    {
      "cell_type": "code",
      "execution_count": 68,
      "metadata": {
        "id": "CdXaWRIi06IN"
      },
      "outputs": [],
      "source": [
        "df_new_1 = df_new_1[df_new_1['baths'] < 20]\n",
        "df_new_1 = df_new_1[df_new_1['beds'] < 20]\n",
        "df_new_1 = df_new_1[~df_new_1.target.isnull()]\n",
        "df_new_1['Age'] = df_new_1.apply(lambda x: reversage(x['Age'], x['last_repair']), axis=1)\n",
        "df_new_1 = df_new_1[df_new_1['city'].isnull() != True]\n",
        "df_new_1 = df_new_1[~df_new_1.duplicated(['MlsId', 'zipcode','street'])]"
      ]
    },
    {
      "cell_type": "code",
      "execution_count": 69,
      "metadata": {
        "colab": {
          "base_uri": "https://localhost:8080/"
        },
        "id": "m73WWGW006IO",
        "outputId": "699e2469-735f-4242-dd69-af19a9e03b7d"
      },
      "outputs": [
        {
          "data": {
            "text/plain": [
              "(215772, 24)"
            ]
          },
          "execution_count": 69,
          "metadata": {},
          "output_type": "execute_result"
        }
      ],
      "source": [
        "df_new_1.shape"
      ]
    },
    {
      "cell_type": "code",
      "execution_count": 70,
      "metadata": {
        "colab": {
          "base_uri": "https://localhost:8080/",
          "height": 629
        },
        "id": "2lULeyEa06IP",
        "outputId": "a288aedb-559c-4d7e-d833-fd24df512ed0"
      },
      "outputs": [
        {
          "data": {
            "text/html": [
              "\n",
              "  <div id=\"df-0aa8d16e-9b5c-4091-a7df-f5f554fa2f13\">\n",
              "    <div class=\"colab-df-container\">\n",
              "      <div>\n",
              "<style scoped>\n",
              "    .dataframe tbody tr th:only-of-type {\n",
              "        vertical-align: middle;\n",
              "    }\n",
              "\n",
              "    .dataframe tbody tr th {\n",
              "        vertical-align: top;\n",
              "    }\n",
              "\n",
              "    .dataframe thead th {\n",
              "        text-align: right;\n",
              "    }\n",
              "</style>\n",
              "<table border=\"1\" class=\"dataframe\">\n",
              "  <thead>\n",
              "    <tr style=\"text-align: right;\">\n",
              "      <th></th>\n",
              "      <th>status</th>\n",
              "      <th>propertyType</th>\n",
              "      <th>street</th>\n",
              "      <th>baths</th>\n",
              "      <th>fireplace</th>\n",
              "      <th>city</th>\n",
              "      <th>schools</th>\n",
              "      <th>sqft</th>\n",
              "      <th>zipcode</th>\n",
              "      <th>beds</th>\n",
              "      <th>...</th>\n",
              "      <th>MlsId</th>\n",
              "      <th>target</th>\n",
              "      <th>Heating</th>\n",
              "      <th>Cooling</th>\n",
              "      <th>Parking</th>\n",
              "      <th>lotsize</th>\n",
              "      <th>Price/sqft</th>\n",
              "      <th>Age</th>\n",
              "      <th>Repaired</th>\n",
              "      <th>last_repair</th>\n",
              "    </tr>\n",
              "  </thead>\n",
              "  <tbody>\n",
              "    <tr>\n",
              "      <th>0</th>\n",
              "      <td>Active</td>\n",
              "      <td>single-family</td>\n",
              "      <td>240 Heather Ln</td>\n",
              "      <td>3.5</td>\n",
              "      <td>1</td>\n",
              "      <td>other</td>\n",
              "      <td>[{'rating': ['4', '4', '7', 'NR', '4', '7', 'N...</td>\n",
              "      <td>2900.0</td>\n",
              "      <td>28387</td>\n",
              "      <td>4.0</td>\n",
              "      <td>...</td>\n",
              "      <td>611019</td>\n",
              "      <td>418000.0</td>\n",
              "      <td>Other</td>\n",
              "      <td>0</td>\n",
              "      <td></td>\n",
              "      <td>NaN</td>\n",
              "      <td>$144</td>\n",
              "      <td>4.0</td>\n",
              "      <td>0</td>\n",
              "      <td>4.0</td>\n",
              "    </tr>\n",
              "    <tr>\n",
              "      <th>1</th>\n",
              "      <td>for sale</td>\n",
              "      <td>single-family</td>\n",
              "      <td>12911 E Heroy Ave</td>\n",
              "      <td>3.0</td>\n",
              "      <td>0</td>\n",
              "      <td>other</td>\n",
              "      <td>[{'rating': ['4/10', 'None/10', '4/10'], 'data...</td>\n",
              "      <td>1947.0</td>\n",
              "      <td>99216</td>\n",
              "      <td>3.0</td>\n",
              "      <td>...</td>\n",
              "      <td>201916904</td>\n",
              "      <td>310000.0</td>\n",
              "      <td></td>\n",
              "      <td>0</td>\n",
              "      <td></td>\n",
              "      <td>5828.0</td>\n",
              "      <td>$159/sqft</td>\n",
              "      <td>4.0</td>\n",
              "      <td>0</td>\n",
              "      <td>4.0</td>\n",
              "    </tr>\n",
              "    <tr>\n",
              "      <th>2</th>\n",
              "      <td>for sale</td>\n",
              "      <td>single-family</td>\n",
              "      <td>2005 Westridge Rd</td>\n",
              "      <td>2.0</td>\n",
              "      <td>0</td>\n",
              "      <td>Los Angeles</td>\n",
              "      <td>[{'rating': ['8/10', '4/10', '8/10'], 'data': ...</td>\n",
              "      <td>3000.0</td>\n",
              "      <td>90049</td>\n",
              "      <td>3.0</td>\n",
              "      <td>...</td>\n",
              "      <td>FR19221027</td>\n",
              "      <td>2895000.0</td>\n",
              "      <td>Forced air</td>\n",
              "      <td>1</td>\n",
              "      <td>Attached Garage</td>\n",
              "      <td>8626.0</td>\n",
              "      <td>$965/sqft</td>\n",
              "      <td>62.0</td>\n",
              "      <td>1</td>\n",
              "      <td>56.0</td>\n",
              "    </tr>\n",
              "    <tr>\n",
              "      <th>3</th>\n",
              "      <td>for sale</td>\n",
              "      <td>single-family</td>\n",
              "      <td>4311 Livingston Ave</td>\n",
              "      <td>8.0</td>\n",
              "      <td>0</td>\n",
              "      <td>Dallas</td>\n",
              "      <td>[{'rating': ['9/10', '9/10', '10/10', '9/10'],...</td>\n",
              "      <td>6457.0</td>\n",
              "      <td>75205</td>\n",
              "      <td>5.0</td>\n",
              "      <td>...</td>\n",
              "      <td>14191809</td>\n",
              "      <td>2395000.0</td>\n",
              "      <td>Forced air</td>\n",
              "      <td>1</td>\n",
              "      <td>Detached Garage</td>\n",
              "      <td>8220.0</td>\n",
              "      <td>$371/sqft</td>\n",
              "      <td>17.0</td>\n",
              "      <td>1</td>\n",
              "      <td>17.0</td>\n",
              "    </tr>\n",
              "    <tr>\n",
              "      <th>7</th>\n",
              "      <td>Active</td>\n",
              "      <td>single-family</td>\n",
              "      <td>11182 Owl Ave</td>\n",
              "      <td>2.0</td>\n",
              "      <td>0</td>\n",
              "      <td>other</td>\n",
              "      <td>[{'rating': ['2', '2', '4', '7', '4', 'NR'], '...</td>\n",
              "      <td>3588.0</td>\n",
              "      <td>50401</td>\n",
              "      <td>3.0</td>\n",
              "      <td>...</td>\n",
              "      <td>190988</td>\n",
              "      <td>244900.0</td>\n",
              "      <td>Forced air</td>\n",
              "      <td>1</td>\n",
              "      <td></td>\n",
              "      <td>124582.0</td>\n",
              "      <td>$68</td>\n",
              "      <td>53.0</td>\n",
              "      <td>0</td>\n",
              "      <td>53.0</td>\n",
              "    </tr>\n",
              "  </tbody>\n",
              "</table>\n",
              "<p>5 rows × 24 columns</p>\n",
              "</div>\n",
              "      <button class=\"colab-df-convert\" onclick=\"convertToInteractive('df-0aa8d16e-9b5c-4091-a7df-f5f554fa2f13')\"\n",
              "              title=\"Convert this dataframe to an interactive table.\"\n",
              "              style=\"display:none;\">\n",
              "        \n",
              "  <svg xmlns=\"http://www.w3.org/2000/svg\" height=\"24px\"viewBox=\"0 0 24 24\"\n",
              "       width=\"24px\">\n",
              "    <path d=\"M0 0h24v24H0V0z\" fill=\"none\"/>\n",
              "    <path d=\"M18.56 5.44l.94 2.06.94-2.06 2.06-.94-2.06-.94-.94-2.06-.94 2.06-2.06.94zm-11 1L8.5 8.5l.94-2.06 2.06-.94-2.06-.94L8.5 2.5l-.94 2.06-2.06.94zm10 10l.94 2.06.94-2.06 2.06-.94-2.06-.94-.94-2.06-.94 2.06-2.06.94z\"/><path d=\"M17.41 7.96l-1.37-1.37c-.4-.4-.92-.59-1.43-.59-.52 0-1.04.2-1.43.59L10.3 9.45l-7.72 7.72c-.78.78-.78 2.05 0 2.83L4 21.41c.39.39.9.59 1.41.59.51 0 1.02-.2 1.41-.59l7.78-7.78 2.81-2.81c.8-.78.8-2.07 0-2.86zM5.41 20L4 18.59l7.72-7.72 1.47 1.35L5.41 20z\"/>\n",
              "  </svg>\n",
              "      </button>\n",
              "      \n",
              "  <style>\n",
              "    .colab-df-container {\n",
              "      display:flex;\n",
              "      flex-wrap:wrap;\n",
              "      gap: 12px;\n",
              "    }\n",
              "\n",
              "    .colab-df-convert {\n",
              "      background-color: #E8F0FE;\n",
              "      border: none;\n",
              "      border-radius: 50%;\n",
              "      cursor: pointer;\n",
              "      display: none;\n",
              "      fill: #1967D2;\n",
              "      height: 32px;\n",
              "      padding: 0 0 0 0;\n",
              "      width: 32px;\n",
              "    }\n",
              "\n",
              "    .colab-df-convert:hover {\n",
              "      background-color: #E2EBFA;\n",
              "      box-shadow: 0px 1px 2px rgba(60, 64, 67, 0.3), 0px 1px 3px 1px rgba(60, 64, 67, 0.15);\n",
              "      fill: #174EA6;\n",
              "    }\n",
              "\n",
              "    [theme=dark] .colab-df-convert {\n",
              "      background-color: #3B4455;\n",
              "      fill: #D2E3FC;\n",
              "    }\n",
              "\n",
              "    [theme=dark] .colab-df-convert:hover {\n",
              "      background-color: #434B5C;\n",
              "      box-shadow: 0px 1px 3px 1px rgba(0, 0, 0, 0.15);\n",
              "      filter: drop-shadow(0px 1px 2px rgba(0, 0, 0, 0.3));\n",
              "      fill: #FFFFFF;\n",
              "    }\n",
              "  </style>\n",
              "\n",
              "      <script>\n",
              "        const buttonEl =\n",
              "          document.querySelector('#df-0aa8d16e-9b5c-4091-a7df-f5f554fa2f13 button.colab-df-convert');\n",
              "        buttonEl.style.display =\n",
              "          google.colab.kernel.accessAllowed ? 'block' : 'none';\n",
              "\n",
              "        async function convertToInteractive(key) {\n",
              "          const element = document.querySelector('#df-0aa8d16e-9b5c-4091-a7df-f5f554fa2f13');\n",
              "          const dataTable =\n",
              "            await google.colab.kernel.invokeFunction('convertToInteractive',\n",
              "                                                     [key], {});\n",
              "          if (!dataTable) return;\n",
              "\n",
              "          const docLinkHtml = 'Like what you see? Visit the ' +\n",
              "            '<a target=\"_blank\" href=https://colab.research.google.com/notebooks/data_table.ipynb>data table notebook</a>'\n",
              "            + ' to learn more about interactive tables.';\n",
              "          element.innerHTML = '';\n",
              "          dataTable['output_type'] = 'display_data';\n",
              "          await google.colab.output.renderOutput(dataTable, element);\n",
              "          const docLink = document.createElement('div');\n",
              "          docLink.innerHTML = docLinkHtml;\n",
              "          element.appendChild(docLink);\n",
              "        }\n",
              "      </script>\n",
              "    </div>\n",
              "  </div>\n",
              "  "
            ],
            "text/plain": [
              "     status   propertyType               street  baths  fireplace  \\\n",
              "0    Active  single-family       240 Heather Ln    3.5          1   \n",
              "1  for sale  single-family    12911 E Heroy Ave    3.0          0   \n",
              "2  for sale  single-family    2005 Westridge Rd    2.0          0   \n",
              "3  for sale  single-family  4311 Livingston Ave    8.0          0   \n",
              "7    Active  single-family        11182 Owl Ave    2.0          0   \n",
              "\n",
              "          city                                            schools    sqft  \\\n",
              "0        other  [{'rating': ['4', '4', '7', 'NR', '4', '7', 'N...  2900.0   \n",
              "1        other  [{'rating': ['4/10', 'None/10', '4/10'], 'data...  1947.0   \n",
              "2  Los Angeles  [{'rating': ['8/10', '4/10', '8/10'], 'data': ...  3000.0   \n",
              "3       Dallas  [{'rating': ['9/10', '9/10', '10/10', '9/10'],...  6457.0   \n",
              "7        other  [{'rating': ['2', '2', '4', '7', '4', 'NR'], '...  3588.0   \n",
              "\n",
              "  zipcode  beds  ...       MlsId     target     Heating  Cooling  \\\n",
              "0   28387   4.0  ...      611019   418000.0       Other        0   \n",
              "1   99216   3.0  ...   201916904   310000.0                    0   \n",
              "2   90049   3.0  ...  FR19221027  2895000.0  Forced air        1   \n",
              "3   75205   5.0  ...    14191809  2395000.0  Forced air        1   \n",
              "7   50401   3.0  ...      190988   244900.0  Forced air        1   \n",
              "\n",
              "           Parking   lotsize Price/sqft   Age Repaired  last_repair  \n",
              "0                        NaN       $144   4.0        0          4.0  \n",
              "1                     5828.0  $159/sqft   4.0        0          4.0  \n",
              "2  Attached Garage    8626.0  $965/sqft  62.0        1         56.0  \n",
              "3  Detached Garage    8220.0  $371/sqft  17.0        1         17.0  \n",
              "7                   124582.0        $68  53.0        0         53.0  \n",
              "\n",
              "[5 rows x 24 columns]"
            ]
          },
          "execution_count": 70,
          "metadata": {},
          "output_type": "execute_result"
        }
      ],
      "source": [
        "df_new_1.head()"
      ]
    },
    {
      "attachments": {},
      "cell_type": "markdown",
      "metadata": {
        "id": "2ZSAk-_406IQ"
      },
      "source": [
        "Удаляем ненужные признаки, проводим анализ, дозаполняем пропуски."
      ]
    },
    {
      "cell_type": "code",
      "execution_count": 71,
      "metadata": {
        "id": "PjqCNHfP06IQ"
      },
      "outputs": [],
      "source": [
        "df_new_1 = df_new_1.drop(['street','schools','zipcode','Price/sqft','mls-id','MlsId','lotsize'], axis=1)"
      ]
    },
    {
      "cell_type": "code",
      "execution_count": 72,
      "metadata": {
        "colab": {
          "base_uri": "https://localhost:8080/",
          "height": 363
        },
        "id": "03lbE_2r06IR",
        "outputId": "838f865f-7eed-430f-dee2-c082f118cebc"
      },
      "outputs": [
        {
          "data": {
            "text/html": [
              "\n",
              "  <div id=\"df-5279ff27-cd9d-43c9-9488-2f2bcd788d31\">\n",
              "    <div class=\"colab-df-container\">\n",
              "      <div>\n",
              "<style scoped>\n",
              "    .dataframe tbody tr th:only-of-type {\n",
              "        vertical-align: middle;\n",
              "    }\n",
              "\n",
              "    .dataframe tbody tr th {\n",
              "        vertical-align: top;\n",
              "    }\n",
              "\n",
              "    .dataframe thead th {\n",
              "        text-align: right;\n",
              "    }\n",
              "</style>\n",
              "<table border=\"1\" class=\"dataframe\">\n",
              "  <thead>\n",
              "    <tr style=\"text-align: right;\">\n",
              "      <th></th>\n",
              "      <th>count</th>\n",
              "      <th>mean</th>\n",
              "      <th>std</th>\n",
              "      <th>min</th>\n",
              "      <th>25%</th>\n",
              "      <th>50%</th>\n",
              "      <th>75%</th>\n",
              "      <th>max</th>\n",
              "    </tr>\n",
              "  </thead>\n",
              "  <tbody>\n",
              "    <tr>\n",
              "      <th>baths</th>\n",
              "      <td>215772.0</td>\n",
              "      <td>2.708489</td>\n",
              "      <td>1.295318e+00</td>\n",
              "      <td>0.75</td>\n",
              "      <td>2.0</td>\n",
              "      <td>2.0</td>\n",
              "      <td>3.0</td>\n",
              "      <td>19.0</td>\n",
              "    </tr>\n",
              "    <tr>\n",
              "      <th>fireplace</th>\n",
              "      <td>215772.0</td>\n",
              "      <td>0.144815</td>\n",
              "      <td>3.519149e-01</td>\n",
              "      <td>0.00</td>\n",
              "      <td>0.0</td>\n",
              "      <td>0.0</td>\n",
              "      <td>0.0</td>\n",
              "      <td>1.0</td>\n",
              "    </tr>\n",
              "    <tr>\n",
              "      <th>sqft</th>\n",
              "      <td>213515.0</td>\n",
              "      <td>6177.021296</td>\n",
              "      <td>1.722632e+06</td>\n",
              "      <td>0.00</td>\n",
              "      <td>1344.0</td>\n",
              "      <td>1856.0</td>\n",
              "      <td>2626.0</td>\n",
              "      <td>795979430.0</td>\n",
              "    </tr>\n",
              "    <tr>\n",
              "      <th>beds</th>\n",
              "      <td>215772.0</td>\n",
              "      <td>3.136195</td>\n",
              "      <td>1.484181e+00</td>\n",
              "      <td>0.00</td>\n",
              "      <td>2.0</td>\n",
              "      <td>3.0</td>\n",
              "      <td>4.0</td>\n",
              "      <td>19.0</td>\n",
              "    </tr>\n",
              "    <tr>\n",
              "      <th>PrivatePool</th>\n",
              "      <td>215772.0</td>\n",
              "      <td>0.152999</td>\n",
              "      <td>3.599878e-01</td>\n",
              "      <td>0.00</td>\n",
              "      <td>0.0</td>\n",
              "      <td>0.0</td>\n",
              "      <td>0.0</td>\n",
              "      <td>1.0</td>\n",
              "    </tr>\n",
              "    <tr>\n",
              "      <th>target</th>\n",
              "      <td>215772.0</td>\n",
              "      <td>670584.548273</td>\n",
              "      <td>1.772078e+06</td>\n",
              "      <td>0.00</td>\n",
              "      <td>219900.0</td>\n",
              "      <td>349000.0</td>\n",
              "      <td>610792.5</td>\n",
              "      <td>195000000.0</td>\n",
              "    </tr>\n",
              "    <tr>\n",
              "      <th>Cooling</th>\n",
              "      <td>215772.0</td>\n",
              "      <td>0.760228</td>\n",
              "      <td>4.269450e-01</td>\n",
              "      <td>0.00</td>\n",
              "      <td>1.0</td>\n",
              "      <td>1.0</td>\n",
              "      <td>1.0</td>\n",
              "      <td>1.0</td>\n",
              "    </tr>\n",
              "    <tr>\n",
              "      <th>Age</th>\n",
              "      <td>215772.0</td>\n",
              "      <td>41.431395</td>\n",
              "      <td>3.298229e+01</td>\n",
              "      <td>1.00</td>\n",
              "      <td>16.0</td>\n",
              "      <td>35.0</td>\n",
              "      <td>63.0</td>\n",
              "      <td>285.0</td>\n",
              "    </tr>\n",
              "    <tr>\n",
              "      <th>Repaired</th>\n",
              "      <td>215772.0</td>\n",
              "      <td>0.446017</td>\n",
              "      <td>4.970785e-01</td>\n",
              "      <td>0.00</td>\n",
              "      <td>0.0</td>\n",
              "      <td>0.0</td>\n",
              "      <td>1.0</td>\n",
              "      <td>1.0</td>\n",
              "    </tr>\n",
              "    <tr>\n",
              "      <th>last_repair</th>\n",
              "      <td>215772.0</td>\n",
              "      <td>37.200795</td>\n",
              "      <td>3.092556e+01</td>\n",
              "      <td>1.00</td>\n",
              "      <td>14.0</td>\n",
              "      <td>29.0</td>\n",
              "      <td>54.0</td>\n",
              "      <td>285.0</td>\n",
              "    </tr>\n",
              "  </tbody>\n",
              "</table>\n",
              "</div>\n",
              "      <button class=\"colab-df-convert\" onclick=\"convertToInteractive('df-5279ff27-cd9d-43c9-9488-2f2bcd788d31')\"\n",
              "              title=\"Convert this dataframe to an interactive table.\"\n",
              "              style=\"display:none;\">\n",
              "        \n",
              "  <svg xmlns=\"http://www.w3.org/2000/svg\" height=\"24px\"viewBox=\"0 0 24 24\"\n",
              "       width=\"24px\">\n",
              "    <path d=\"M0 0h24v24H0V0z\" fill=\"none\"/>\n",
              "    <path d=\"M18.56 5.44l.94 2.06.94-2.06 2.06-.94-2.06-.94-.94-2.06-.94 2.06-2.06.94zm-11 1L8.5 8.5l.94-2.06 2.06-.94-2.06-.94L8.5 2.5l-.94 2.06-2.06.94zm10 10l.94 2.06.94-2.06 2.06-.94-2.06-.94-.94-2.06-.94 2.06-2.06.94z\"/><path d=\"M17.41 7.96l-1.37-1.37c-.4-.4-.92-.59-1.43-.59-.52 0-1.04.2-1.43.59L10.3 9.45l-7.72 7.72c-.78.78-.78 2.05 0 2.83L4 21.41c.39.39.9.59 1.41.59.51 0 1.02-.2 1.41-.59l7.78-7.78 2.81-2.81c.8-.78.8-2.07 0-2.86zM5.41 20L4 18.59l7.72-7.72 1.47 1.35L5.41 20z\"/>\n",
              "  </svg>\n",
              "      </button>\n",
              "      \n",
              "  <style>\n",
              "    .colab-df-container {\n",
              "      display:flex;\n",
              "      flex-wrap:wrap;\n",
              "      gap: 12px;\n",
              "    }\n",
              "\n",
              "    .colab-df-convert {\n",
              "      background-color: #E8F0FE;\n",
              "      border: none;\n",
              "      border-radius: 50%;\n",
              "      cursor: pointer;\n",
              "      display: none;\n",
              "      fill: #1967D2;\n",
              "      height: 32px;\n",
              "      padding: 0 0 0 0;\n",
              "      width: 32px;\n",
              "    }\n",
              "\n",
              "    .colab-df-convert:hover {\n",
              "      background-color: #E2EBFA;\n",
              "      box-shadow: 0px 1px 2px rgba(60, 64, 67, 0.3), 0px 1px 3px 1px rgba(60, 64, 67, 0.15);\n",
              "      fill: #174EA6;\n",
              "    }\n",
              "\n",
              "    [theme=dark] .colab-df-convert {\n",
              "      background-color: #3B4455;\n",
              "      fill: #D2E3FC;\n",
              "    }\n",
              "\n",
              "    [theme=dark] .colab-df-convert:hover {\n",
              "      background-color: #434B5C;\n",
              "      box-shadow: 0px 1px 3px 1px rgba(0, 0, 0, 0.15);\n",
              "      filter: drop-shadow(0px 1px 2px rgba(0, 0, 0, 0.3));\n",
              "      fill: #FFFFFF;\n",
              "    }\n",
              "  </style>\n",
              "\n",
              "      <script>\n",
              "        const buttonEl =\n",
              "          document.querySelector('#df-5279ff27-cd9d-43c9-9488-2f2bcd788d31 button.colab-df-convert');\n",
              "        buttonEl.style.display =\n",
              "          google.colab.kernel.accessAllowed ? 'block' : 'none';\n",
              "\n",
              "        async function convertToInteractive(key) {\n",
              "          const element = document.querySelector('#df-5279ff27-cd9d-43c9-9488-2f2bcd788d31');\n",
              "          const dataTable =\n",
              "            await google.colab.kernel.invokeFunction('convertToInteractive',\n",
              "                                                     [key], {});\n",
              "          if (!dataTable) return;\n",
              "\n",
              "          const docLinkHtml = 'Like what you see? Visit the ' +\n",
              "            '<a target=\"_blank\" href=https://colab.research.google.com/notebooks/data_table.ipynb>data table notebook</a>'\n",
              "            + ' to learn more about interactive tables.';\n",
              "          element.innerHTML = '';\n",
              "          dataTable['output_type'] = 'display_data';\n",
              "          await google.colab.output.renderOutput(dataTable, element);\n",
              "          const docLink = document.createElement('div');\n",
              "          docLink.innerHTML = docLinkHtml;\n",
              "          element.appendChild(docLink);\n",
              "        }\n",
              "      </script>\n",
              "    </div>\n",
              "  </div>\n",
              "  "
            ],
            "text/plain": [
              "                count           mean           std   min       25%       50%  \\\n",
              "baths        215772.0       2.708489  1.295318e+00  0.75       2.0       2.0   \n",
              "fireplace    215772.0       0.144815  3.519149e-01  0.00       0.0       0.0   \n",
              "sqft         213515.0    6177.021296  1.722632e+06  0.00    1344.0    1856.0   \n",
              "beds         215772.0       3.136195  1.484181e+00  0.00       2.0       3.0   \n",
              "PrivatePool  215772.0       0.152999  3.599878e-01  0.00       0.0       0.0   \n",
              "target       215772.0  670584.548273  1.772078e+06  0.00  219900.0  349000.0   \n",
              "Cooling      215772.0       0.760228  4.269450e-01  0.00       1.0       1.0   \n",
              "Age          215772.0      41.431395  3.298229e+01  1.00      16.0      35.0   \n",
              "Repaired     215772.0       0.446017  4.970785e-01  0.00       0.0       0.0   \n",
              "last_repair  215772.0      37.200795  3.092556e+01  1.00      14.0      29.0   \n",
              "\n",
              "                  75%          max  \n",
              "baths             3.0         19.0  \n",
              "fireplace         0.0          1.0  \n",
              "sqft           2626.0  795979430.0  \n",
              "beds              4.0         19.0  \n",
              "PrivatePool       0.0          1.0  \n",
              "target       610792.5  195000000.0  \n",
              "Cooling           1.0          1.0  \n",
              "Age              63.0        285.0  \n",
              "Repaired          1.0          1.0  \n",
              "last_repair      54.0        285.0  "
            ]
          },
          "execution_count": 72,
          "metadata": {},
          "output_type": "execute_result"
        }
      ],
      "source": [
        "df_new_1.describe().T"
      ]
    },
    {
      "cell_type": "code",
      "execution_count": 73,
      "metadata": {
        "id": "B-p9W9rB06IR"
      },
      "outputs": [],
      "source": [
        "df_new_1['stories'] = df_new_1['stories'].fillna('')\n",
        "df_new_1['status'] = df_new_1['status'].fillna('')\n",
        "df_new_1.stories = df_new_1.stories.astype('str')"
      ]
    },
    {
      "cell_type": "code",
      "execution_count": 74,
      "metadata": {
        "colab": {
          "base_uri": "https://localhost:8080/",
          "height": 269
        },
        "id": "GBWsDEO306IS",
        "outputId": "1bea2c24-e03a-42fa-cebb-064fa64cf01d"
      },
      "outputs": [
        {
          "data": {
            "text/html": [
              "\n",
              "  <div id=\"df-2227f035-aa61-4957-8aaa-6126d4ba387f\">\n",
              "    <div class=\"colab-df-container\">\n",
              "      <div>\n",
              "<style scoped>\n",
              "    .dataframe tbody tr th:only-of-type {\n",
              "        vertical-align: middle;\n",
              "    }\n",
              "\n",
              "    .dataframe tbody tr th {\n",
              "        vertical-align: top;\n",
              "    }\n",
              "\n",
              "    .dataframe thead th {\n",
              "        text-align: right;\n",
              "    }\n",
              "</style>\n",
              "<table border=\"1\" class=\"dataframe\">\n",
              "  <thead>\n",
              "    <tr style=\"text-align: right;\">\n",
              "      <th></th>\n",
              "      <th>count</th>\n",
              "      <th>unique</th>\n",
              "      <th>top</th>\n",
              "      <th>freq</th>\n",
              "    </tr>\n",
              "  </thead>\n",
              "  <tbody>\n",
              "    <tr>\n",
              "      <th>status</th>\n",
              "      <td>215772</td>\n",
              "      <td>131</td>\n",
              "      <td>for sale</td>\n",
              "      <td>126549</td>\n",
              "    </tr>\n",
              "    <tr>\n",
              "      <th>propertyType</th>\n",
              "      <td>215772</td>\n",
              "      <td>35</td>\n",
              "      <td>single-family</td>\n",
              "      <td>136654</td>\n",
              "    </tr>\n",
              "    <tr>\n",
              "      <th>city</th>\n",
              "      <td>215772</td>\n",
              "      <td>148</td>\n",
              "      <td>other</td>\n",
              "      <td>47629</td>\n",
              "    </tr>\n",
              "    <tr>\n",
              "      <th>state</th>\n",
              "      <td>215772</td>\n",
              "      <td>34</td>\n",
              "      <td>FL</td>\n",
              "      <td>63453</td>\n",
              "    </tr>\n",
              "    <tr>\n",
              "      <th>stories</th>\n",
              "      <td>215772</td>\n",
              "      <td>7</td>\n",
              "      <td></td>\n",
              "      <td>68231</td>\n",
              "    </tr>\n",
              "    <tr>\n",
              "      <th>Heating</th>\n",
              "      <td>215772</td>\n",
              "      <td>7</td>\n",
              "      <td>Forced air</td>\n",
              "      <td>105140</td>\n",
              "    </tr>\n",
              "    <tr>\n",
              "      <th>Parking</th>\n",
              "      <td>215772</td>\n",
              "      <td>9</td>\n",
              "      <td></td>\n",
              "      <td>57584</td>\n",
              "    </tr>\n",
              "  </tbody>\n",
              "</table>\n",
              "</div>\n",
              "      <button class=\"colab-df-convert\" onclick=\"convertToInteractive('df-2227f035-aa61-4957-8aaa-6126d4ba387f')\"\n",
              "              title=\"Convert this dataframe to an interactive table.\"\n",
              "              style=\"display:none;\">\n",
              "        \n",
              "  <svg xmlns=\"http://www.w3.org/2000/svg\" height=\"24px\"viewBox=\"0 0 24 24\"\n",
              "       width=\"24px\">\n",
              "    <path d=\"M0 0h24v24H0V0z\" fill=\"none\"/>\n",
              "    <path d=\"M18.56 5.44l.94 2.06.94-2.06 2.06-.94-2.06-.94-.94-2.06-.94 2.06-2.06.94zm-11 1L8.5 8.5l.94-2.06 2.06-.94-2.06-.94L8.5 2.5l-.94 2.06-2.06.94zm10 10l.94 2.06.94-2.06 2.06-.94-2.06-.94-.94-2.06-.94 2.06-2.06.94z\"/><path d=\"M17.41 7.96l-1.37-1.37c-.4-.4-.92-.59-1.43-.59-.52 0-1.04.2-1.43.59L10.3 9.45l-7.72 7.72c-.78.78-.78 2.05 0 2.83L4 21.41c.39.39.9.59 1.41.59.51 0 1.02-.2 1.41-.59l7.78-7.78 2.81-2.81c.8-.78.8-2.07 0-2.86zM5.41 20L4 18.59l7.72-7.72 1.47 1.35L5.41 20z\"/>\n",
              "  </svg>\n",
              "      </button>\n",
              "      \n",
              "  <style>\n",
              "    .colab-df-container {\n",
              "      display:flex;\n",
              "      flex-wrap:wrap;\n",
              "      gap: 12px;\n",
              "    }\n",
              "\n",
              "    .colab-df-convert {\n",
              "      background-color: #E8F0FE;\n",
              "      border: none;\n",
              "      border-radius: 50%;\n",
              "      cursor: pointer;\n",
              "      display: none;\n",
              "      fill: #1967D2;\n",
              "      height: 32px;\n",
              "      padding: 0 0 0 0;\n",
              "      width: 32px;\n",
              "    }\n",
              "\n",
              "    .colab-df-convert:hover {\n",
              "      background-color: #E2EBFA;\n",
              "      box-shadow: 0px 1px 2px rgba(60, 64, 67, 0.3), 0px 1px 3px 1px rgba(60, 64, 67, 0.15);\n",
              "      fill: #174EA6;\n",
              "    }\n",
              "\n",
              "    [theme=dark] .colab-df-convert {\n",
              "      background-color: #3B4455;\n",
              "      fill: #D2E3FC;\n",
              "    }\n",
              "\n",
              "    [theme=dark] .colab-df-convert:hover {\n",
              "      background-color: #434B5C;\n",
              "      box-shadow: 0px 1px 3px 1px rgba(0, 0, 0, 0.15);\n",
              "      filter: drop-shadow(0px 1px 2px rgba(0, 0, 0, 0.3));\n",
              "      fill: #FFFFFF;\n",
              "    }\n",
              "  </style>\n",
              "\n",
              "      <script>\n",
              "        const buttonEl =\n",
              "          document.querySelector('#df-2227f035-aa61-4957-8aaa-6126d4ba387f button.colab-df-convert');\n",
              "        buttonEl.style.display =\n",
              "          google.colab.kernel.accessAllowed ? 'block' : 'none';\n",
              "\n",
              "        async function convertToInteractive(key) {\n",
              "          const element = document.querySelector('#df-2227f035-aa61-4957-8aaa-6126d4ba387f');\n",
              "          const dataTable =\n",
              "            await google.colab.kernel.invokeFunction('convertToInteractive',\n",
              "                                                     [key], {});\n",
              "          if (!dataTable) return;\n",
              "\n",
              "          const docLinkHtml = 'Like what you see? Visit the ' +\n",
              "            '<a target=\"_blank\" href=https://colab.research.google.com/notebooks/data_table.ipynb>data table notebook</a>'\n",
              "            + ' to learn more about interactive tables.';\n",
              "          element.innerHTML = '';\n",
              "          dataTable['output_type'] = 'display_data';\n",
              "          await google.colab.output.renderOutput(dataTable, element);\n",
              "          const docLink = document.createElement('div');\n",
              "          docLink.innerHTML = docLinkHtml;\n",
              "          element.appendChild(docLink);\n",
              "        }\n",
              "      </script>\n",
              "    </div>\n",
              "  </div>\n",
              "  "
            ],
            "text/plain": [
              "               count unique            top    freq\n",
              "status        215772    131       for sale  126549\n",
              "propertyType  215772     35  single-family  136654\n",
              "city          215772    148          other   47629\n",
              "state         215772     34             FL   63453\n",
              "stories       215772      7                  68231\n",
              "Heating       215772      7     Forced air  105140\n",
              "Parking       215772      9                  57584"
            ]
          },
          "execution_count": 74,
          "metadata": {},
          "output_type": "execute_result"
        }
      ],
      "source": [
        "df_new_1.describe(include='object').T"
      ]
    },
    {
      "cell_type": "code",
      "execution_count": 75,
      "metadata": {
        "colab": {
          "base_uri": "https://localhost:8080/"
        },
        "id": "ELEGK-Yx06IS",
        "outputId": "63de1f89-c2e5-466d-d928-5e4d600362fa"
      },
      "outputs": [
        {
          "data": {
            "text/plain": [
              "(215772, 17)"
            ]
          },
          "execution_count": 75,
          "metadata": {},
          "output_type": "execute_result"
        }
      ],
      "source": [
        "df_new_1.shape"
      ]
    },
    {
      "attachments": {},
      "cell_type": "markdown",
      "metadata": {
        "id": "Bcm7mD_A06IT"
      },
      "source": [
        "Осставляем в признаки status только первые 7 наиболее часто встречающихся"
      ]
    },
    {
      "cell_type": "code",
      "execution_count": 76,
      "metadata": {
        "id": "wOhMkK-C06IT"
      },
      "outputs": [],
      "source": [
        "def stutusnum(arg):\n",
        "    if arg in ['for sale','Active','Pending','Under Contract Show','New construction','Auction','Contingent']:\n",
        "        return arg\n",
        "    else:\n",
        "        return 'other'"
      ]
    },
    {
      "cell_type": "code",
      "execution_count": 77,
      "metadata": {
        "id": "6qt06CR106IV"
      },
      "outputs": [],
      "source": [
        "df_new_1['status'] = df_new_1['status'].apply(stutusnum)"
      ]
    },
    {
      "cell_type": "code",
      "execution_count": 78,
      "metadata": {
        "colab": {
          "base_uri": "https://localhost:8080/"
        },
        "id": "ADZ-JTxv06Ib",
        "outputId": "df06fe3a-e10b-4bb9-b945-e982ff6d4a7c"
      },
      "outputs": [
        {
          "data": {
            "text/plain": [
              "(40096, 17)"
            ]
          },
          "execution_count": 78,
          "metadata": {},
          "output_type": "execute_result"
        }
      ],
      "source": [
        "df_new_1[df_new_1['status'] == 'other'].shape"
      ]
    },
    {
      "cell_type": "code",
      "execution_count": 79,
      "metadata": {
        "colab": {
          "base_uri": "https://localhost:8080/",
          "height": 503
        },
        "id": "RXAQy8kW06Ij",
        "outputId": "cd62d015-6c6e-426a-96cf-a71796dd6b4d"
      },
      "outputs": [
        {
          "name": "stderr",
          "output_type": "stream",
          "text": [
            "<ipython-input-79-c6e2af1bedec>:3: FutureWarning: The default value of numeric_only in DataFrame.corr is deprecated. In a future version, it will default to False. Select only valid columns or specify the value of numeric_only to silence this warning.\n",
            "  sns.heatmap(df_new_1.corr(), annot=True, fmt=\".2f\");\n"
          ]
        },
        {
          "data": {
            "image/png": "[encoded data removed]",
            "text/plain": [
              "<Figure size 1200x500 with 2 Axes>"
            ]
          },
          "metadata": {},
          "output_type": "display_data"
        }
      ],
      "source": [
        "#строим тепловую карту корреляций\n",
        "fig = plt.figure(figsize=(12, 5))\n",
        "sns.heatmap(df_new_1.corr(), annot=True, fmt=\".2f\");"
      ]
    },
    {
      "attachments": {},
      "cell_type": "markdown",
      "metadata": {
        "id": "N5qyvKAN06Im"
      },
      "source": [
        "Для числовых признаков проверяем выбросы по методу 3 сигма. "
      ]
    },
    {
      "cell_type": "code",
      "execution_count": 80,
      "metadata": {
        "colab": {
          "base_uri": "https://localhost:8080/",
          "height": 445
        },
        "id": "HMIEN99B06Iq",
        "outputId": "6dfe1e16-cefd-43c1-9a5e-6da67d1a3826"
      },
      "outputs": [
        {
          "data": {
            "image/png": "[encoded data removed]",
            "text/plain": [
              "<Figure size 640x480 with 1 Axes>"
            ]
          },
          "metadata": {},
          "output_type": "display_data"
        }
      ],
      "source": [
        "sns.boxplot(data=df_new_1['sqft']);"
      ]
    },
    {
      "cell_type": "code",
      "execution_count": 81,
      "metadata": {
        "colab": {
          "base_uri": "https://localhost:8080/",
          "height": 445
        },
        "id": "yroynWSJ06I-",
        "outputId": "5ba0970c-24ab-4ee1-c7d5-62e7056ff483"
      },
      "outputs": [
        {
          "data": {
            "image/png": "[encoded data removed]",
            "text/plain": [
              "<Figure size 640x480 with 1 Axes>"
            ]
          },
          "metadata": {},
          "output_type": "display_data"
        }
      ],
      "source": [
        "sns.boxplot(data=df_new_1['target']);"
      ]
    },
    {
      "cell_type": "code",
      "execution_count": 82,
      "metadata": {
        "colab": {
          "base_uri": "https://localhost:8080/",
          "height": 592
        },
        "id": "osYeecuu06JF",
        "outputId": "cd764c25-3d98-444d-9cd8-e58f00b5f1cb"
      },
      "outputs": [
        {
          "data": {
            "text/html": [
              "\n",
              "  <div id=\"df-a6e33ab6-7c5e-4f35-8823-8cb5a08cd970\">\n",
              "    <div class=\"colab-df-container\">\n",
              "      <div>\n",
              "<style scoped>\n",
              "    .dataframe tbody tr th:only-of-type {\n",
              "        vertical-align: middle;\n",
              "    }\n",
              "\n",
              "    .dataframe tbody tr th {\n",
              "        vertical-align: top;\n",
              "    }\n",
              "\n",
              "    .dataframe thead th {\n",
              "        text-align: right;\n",
              "    }\n",
              "</style>\n",
              "<table border=\"1\" class=\"dataframe\">\n",
              "  <thead>\n",
              "    <tr style=\"text-align: right;\">\n",
              "      <th></th>\n",
              "      <th>status</th>\n",
              "      <th>propertyType</th>\n",
              "      <th>baths</th>\n",
              "      <th>fireplace</th>\n",
              "      <th>city</th>\n",
              "      <th>sqft</th>\n",
              "      <th>beds</th>\n",
              "      <th>state</th>\n",
              "      <th>stories</th>\n",
              "      <th>PrivatePool</th>\n",
              "      <th>target</th>\n",
              "      <th>Heating</th>\n",
              "      <th>Cooling</th>\n",
              "      <th>Parking</th>\n",
              "      <th>Age</th>\n",
              "      <th>Repaired</th>\n",
              "      <th>last_repair</th>\n",
              "    </tr>\n",
              "  </thead>\n",
              "  <tbody>\n",
              "    <tr>\n",
              "      <th>367</th>\n",
              "      <td>for sale</td>\n",
              "      <td>single-family</td>\n",
              "      <td>9.0</td>\n",
              "      <td>0</td>\n",
              "      <td>Fort Lauderdale</td>\n",
              "      <td>10330.0</td>\n",
              "      <td>7.0</td>\n",
              "      <td>FL</td>\n",
              "      <td>3</td>\n",
              "      <td>1</td>\n",
              "      <td>24000000.0</td>\n",
              "      <td>Forced air</td>\n",
              "      <td>1</td>\n",
              "      <td>Attached Garage</td>\n",
              "      <td>7.0</td>\n",
              "      <td>1</td>\n",
              "      <td>6.0</td>\n",
              "    </tr>\n",
              "    <tr>\n",
              "      <th>467</th>\n",
              "      <td>other</td>\n",
              "      <td>single-family</td>\n",
              "      <td>3.5</td>\n",
              "      <td>0</td>\n",
              "      <td>Chicago</td>\n",
              "      <td>3300.0</td>\n",
              "      <td>4.0</td>\n",
              "      <td>IL</td>\n",
              "      <td></td>\n",
              "      <td>0</td>\n",
              "      <td>0.0</td>\n",
              "      <td>Central</td>\n",
              "      <td>0</td>\n",
              "      <td>Other</td>\n",
              "      <td>110.0</td>\n",
              "      <td>0</td>\n",
              "      <td>110.0</td>\n",
              "    </tr>\n",
              "    <tr>\n",
              "      <th>519</th>\n",
              "      <td>other</td>\n",
              "      <td>multi-family</td>\n",
              "      <td>2.0</td>\n",
              "      <td>0</td>\n",
              "      <td>Boston</td>\n",
              "      <td>1673.0</td>\n",
              "      <td>2.0</td>\n",
              "      <td>MA</td>\n",
              "      <td></td>\n",
              "      <td>0</td>\n",
              "      <td>0.0</td>\n",
              "      <td></td>\n",
              "      <td>0</td>\n",
              "      <td></td>\n",
              "      <td>38.0</td>\n",
              "      <td>0</td>\n",
              "      <td>38.0</td>\n",
              "    </tr>\n",
              "    <tr>\n",
              "      <th>566</th>\n",
              "      <td>for sale</td>\n",
              "      <td>condo</td>\n",
              "      <td>6.0</td>\n",
              "      <td>0</td>\n",
              "      <td>Chicago</td>\n",
              "      <td>7587.0</td>\n",
              "      <td>4.0</td>\n",
              "      <td>IL</td>\n",
              "      <td>3+</td>\n",
              "      <td>1</td>\n",
              "      <td>15174000.0</td>\n",
              "      <td>Forced air</td>\n",
              "      <td>1</td>\n",
              "      <td>Attached Garage</td>\n",
              "      <td>4.0</td>\n",
              "      <td>0</td>\n",
              "      <td>4.0</td>\n",
              "    </tr>\n",
              "    <tr>\n",
              "      <th>1010</th>\n",
              "      <td>other</td>\n",
              "      <td>condo</td>\n",
              "      <td>7.0</td>\n",
              "      <td>0</td>\n",
              "      <td>Miami</td>\n",
              "      <td>8360.0</td>\n",
              "      <td>5.0</td>\n",
              "      <td>FL</td>\n",
              "      <td></td>\n",
              "      <td>1</td>\n",
              "      <td>12250000.0</td>\n",
              "      <td>Other</td>\n",
              "      <td>1</td>\n",
              "      <td>Other</td>\n",
              "      <td>4.0</td>\n",
              "      <td>0</td>\n",
              "      <td>4.0</td>\n",
              "    </tr>\n",
              "    <tr>\n",
              "      <th>...</th>\n",
              "      <td>...</td>\n",
              "      <td>...</td>\n",
              "      <td>...</td>\n",
              "      <td>...</td>\n",
              "      <td>...</td>\n",
              "      <td>...</td>\n",
              "      <td>...</td>\n",
              "      <td>...</td>\n",
              "      <td>...</td>\n",
              "      <td>...</td>\n",
              "      <td>...</td>\n",
              "      <td>...</td>\n",
              "      <td>...</td>\n",
              "      <td>...</td>\n",
              "      <td>...</td>\n",
              "      <td>...</td>\n",
              "      <td>...</td>\n",
              "    </tr>\n",
              "    <tr>\n",
              "      <th>312097</th>\n",
              "      <td>for sale</td>\n",
              "      <td>condo</td>\n",
              "      <td>10.0</td>\n",
              "      <td>0</td>\n",
              "      <td>New York</td>\n",
              "      <td>3330.0</td>\n",
              "      <td>4.0</td>\n",
              "      <td>NY</td>\n",
              "      <td></td>\n",
              "      <td>1</td>\n",
              "      <td>14950000.0</td>\n",
              "      <td></td>\n",
              "      <td>0</td>\n",
              "      <td></td>\n",
              "      <td>5.0</td>\n",
              "      <td>0</td>\n",
              "      <td>5.0</td>\n",
              "    </tr>\n",
              "    <tr>\n",
              "      <th>312692</th>\n",
              "      <td>for sale</td>\n",
              "      <td>condo</td>\n",
              "      <td>5.0</td>\n",
              "      <td>0</td>\n",
              "      <td>New York</td>\n",
              "      <td>5874.0</td>\n",
              "      <td>4.0</td>\n",
              "      <td>NY</td>\n",
              "      <td>3+</td>\n",
              "      <td>0</td>\n",
              "      <td>14995000.0</td>\n",
              "      <td>Forced air</td>\n",
              "      <td>0</td>\n",
              "      <td></td>\n",
              "      <td>8.0</td>\n",
              "      <td>0</td>\n",
              "      <td>8.0</td>\n",
              "    </tr>\n",
              "    <tr>\n",
              "      <th>312815</th>\n",
              "      <td>other</td>\n",
              "      <td>single-family</td>\n",
              "      <td>2.0</td>\n",
              "      <td>0</td>\n",
              "      <td>Detroit</td>\n",
              "      <td>1258.0</td>\n",
              "      <td>4.0</td>\n",
              "      <td>MI</td>\n",
              "      <td></td>\n",
              "      <td>0</td>\n",
              "      <td>1000.0</td>\n",
              "      <td>Forced air</td>\n",
              "      <td>0</td>\n",
              "      <td>Attached Garage</td>\n",
              "      <td>95.0</td>\n",
              "      <td>0</td>\n",
              "      <td>95.0</td>\n",
              "    </tr>\n",
              "    <tr>\n",
              "      <th>313341</th>\n",
              "      <td>other</td>\n",
              "      <td>condo</td>\n",
              "      <td>3.0</td>\n",
              "      <td>0</td>\n",
              "      <td>Miami Beach</td>\n",
              "      <td>4379.0</td>\n",
              "      <td>3.0</td>\n",
              "      <td>FL</td>\n",
              "      <td></td>\n",
              "      <td>0</td>\n",
              "      <td>8900000.0</td>\n",
              "      <td>Forced air</td>\n",
              "      <td>1</td>\n",
              "      <td>Off Street</td>\n",
              "      <td>20.0</td>\n",
              "      <td>0</td>\n",
              "      <td>20.0</td>\n",
              "    </tr>\n",
              "    <tr>\n",
              "      <th>313393</th>\n",
              "      <td>other</td>\n",
              "      <td>single-family</td>\n",
              "      <td>2.0</td>\n",
              "      <td>0</td>\n",
              "      <td>Saint Petersburg</td>\n",
              "      <td>1304.0</td>\n",
              "      <td>3.0</td>\n",
              "      <td>FL</td>\n",
              "      <td></td>\n",
              "      <td>0</td>\n",
              "      <td>0.0</td>\n",
              "      <td></td>\n",
              "      <td>0</td>\n",
              "      <td></td>\n",
              "      <td>62.0</td>\n",
              "      <td>0</td>\n",
              "      <td>62.0</td>\n",
              "    </tr>\n",
              "  </tbody>\n",
              "</table>\n",
              "<p>1922 rows × 17 columns</p>\n",
              "</div>\n",
              "      <button class=\"colab-df-convert\" onclick=\"convertToInteractive('df-a6e33ab6-7c5e-4f35-8823-8cb5a08cd970')\"\n",
              "              title=\"Convert this dataframe to an interactive table.\"\n",
              "              style=\"display:none;\">\n",
              "        \n",
              "  <svg xmlns=\"http://www.w3.org/2000/svg\" height=\"24px\"viewBox=\"0 0 24 24\"\n",
              "       width=\"24px\">\n",
              "    <path d=\"M0 0h24v24H0V0z\" fill=\"none\"/>\n",
              "    <path d=\"M18.56 5.44l.94 2.06.94-2.06 2.06-.94-2.06-.94-.94-2.06-.94 2.06-2.06.94zm-11 1L8.5 8.5l.94-2.06 2.06-.94-2.06-.94L8.5 2.5l-.94 2.06-2.06.94zm10 10l.94 2.06.94-2.06 2.06-.94-2.06-.94-.94-2.06-.94 2.06-2.06.94z\"/><path d=\"M17.41 7.96l-1.37-1.37c-.4-.4-.92-.59-1.43-.59-.52 0-1.04.2-1.43.59L10.3 9.45l-7.72 7.72c-.78.78-.78 2.05 0 2.83L4 21.41c.39.39.9.59 1.41.59.51 0 1.02-.2 1.41-.59l7.78-7.78 2.81-2.81c.8-.78.8-2.07 0-2.86zM5.41 20L4 18.59l7.72-7.72 1.47 1.35L5.41 20z\"/>\n",
              "  </svg>\n",
              "      </button>\n",
              "      \n",
              "  <style>\n",
              "    .colab-df-container {\n",
              "      display:flex;\n",
              "      flex-wrap:wrap;\n",
              "      gap: 12px;\n",
              "    }\n",
              "\n",
              "    .colab-df-convert {\n",
              "      background-color: #E8F0FE;\n",
              "      border: none;\n",
              "      border-radius: 50%;\n",
              "      cursor: pointer;\n",
              "      display: none;\n",
              "      fill: #1967D2;\n",
              "      height: 32px;\n",
              "      padding: 0 0 0 0;\n",
              "      width: 32px;\n",
              "    }\n",
              "\n",
              "    .colab-df-convert:hover {\n",
              "      background-color: #E2EBFA;\n",
              "      box-shadow: 0px 1px 2px rgba(60, 64, 67, 0.3), 0px 1px 3px 1px rgba(60, 64, 67, 0.15);\n",
              "      fill: #174EA6;\n",
              "    }\n",
              "\n",
              "    [theme=dark] .colab-df-convert {\n",
              "      background-color: #3B4455;\n",
              "      fill: #D2E3FC;\n",
              "    }\n",
              "\n",
              "    [theme=dark] .colab-df-convert:hover {\n",
              "      background-color: #434B5C;\n",
              "      box-shadow: 0px 1px 3px 1px rgba(0, 0, 0, 0.15);\n",
              "      filter: drop-shadow(0px 1px 2px rgba(0, 0, 0, 0.3));\n",
              "      fill: #FFFFFF;\n",
              "    }\n",
              "  </style>\n",
              "\n",
              "      <script>\n",
              "        const buttonEl =\n",
              "          document.querySelector('#df-a6e33ab6-7c5e-4f35-8823-8cb5a08cd970 button.colab-df-convert');\n",
              "        buttonEl.style.display =\n",
              "          google.colab.kernel.accessAllowed ? 'block' : 'none';\n",
              "\n",
              "        async function convertToInteractive(key) {\n",
              "          const element = document.querySelector('#df-a6e33ab6-7c5e-4f35-8823-8cb5a08cd970');\n",
              "          const dataTable =\n",
              "            await google.colab.kernel.invokeFunction('convertToInteractive',\n",
              "                                                     [key], {});\n",
              "          if (!dataTable) return;\n",
              "\n",
              "          const docLinkHtml = 'Like what you see? Visit the ' +\n",
              "            '<a target=\"_blank\" href=https://colab.research.google.com/notebooks/data_table.ipynb>data table notebook</a>'\n",
              "            + ' to learn more about interactive tables.';\n",
              "          element.innerHTML = '';\n",
              "          dataTable['output_type'] = 'display_data';\n",
              "          await google.colab.output.renderOutput(dataTable, element);\n",
              "          const docLink = document.createElement('div');\n",
              "          docLink.innerHTML = docLinkHtml;\n",
              "          element.appendChild(docLink);\n",
              "        }\n",
              "      </script>\n",
              "    </div>\n",
              "  </div>\n",
              "  "
            ],
            "text/plain": [
              "          status   propertyType  baths  fireplace              city     sqft  \\\n",
              "367     for sale  single-family    9.0          0   Fort Lauderdale  10330.0   \n",
              "467        other  single-family    3.5          0           Chicago   3300.0   \n",
              "519        other   multi-family    2.0          0            Boston   1673.0   \n",
              "566     for sale          condo    6.0          0           Chicago   7587.0   \n",
              "1010       other          condo    7.0          0             Miami   8360.0   \n",
              "...          ...            ...    ...        ...               ...      ...   \n",
              "312097  for sale          condo   10.0          0          New York   3330.0   \n",
              "312692  for sale          condo    5.0          0          New York   5874.0   \n",
              "312815     other  single-family    2.0          0           Detroit   1258.0   \n",
              "313341     other          condo    3.0          0       Miami Beach   4379.0   \n",
              "313393     other  single-family    2.0          0  Saint Petersburg   1304.0   \n",
              "\n",
              "        beds state stories  PrivatePool      target     Heating  Cooling  \\\n",
              "367      7.0    FL       3            1  24000000.0  Forced air        1   \n",
              "467      4.0    IL                    0         0.0     Central        0   \n",
              "519      2.0    MA                    0         0.0                    0   \n",
              "566      4.0    IL      3+            1  15174000.0  Forced air        1   \n",
              "1010     5.0    FL                    1  12250000.0       Other        1   \n",
              "...      ...   ...     ...          ...         ...         ...      ...   \n",
              "312097   4.0    NY                    1  14950000.0                    0   \n",
              "312692   4.0    NY      3+            0  14995000.0  Forced air        0   \n",
              "312815   4.0    MI                    0      1000.0  Forced air        0   \n",
              "313341   3.0    FL                    0   8900000.0  Forced air        1   \n",
              "313393   3.0    FL                    0         0.0                    0   \n",
              "\n",
              "                Parking    Age  Repaired  last_repair  \n",
              "367     Attached Garage    7.0         1          6.0  \n",
              "467               Other  110.0         0        110.0  \n",
              "519                       38.0         0         38.0  \n",
              "566     Attached Garage    4.0         0          4.0  \n",
              "1010              Other    4.0         0          4.0  \n",
              "...                 ...    ...       ...          ...  \n",
              "312097                     5.0         0          5.0  \n",
              "312692                     8.0         0          8.0  \n",
              "312815  Attached Garage   95.0         0         95.0  \n",
              "313341       Off Street   20.0         0         20.0  \n",
              "313393                    62.0         0         62.0  \n",
              "\n",
              "[1922 rows x 17 columns]"
            ]
          },
          "execution_count": 82,
          "metadata": {},
          "output_type": "execute_result"
        }
      ],
      "source": [
        "#Объявляем функцию, реализующую фильтрацию выбросов по методу z-отклонений\n",
        "def outliers_z_score(data, feature, log_scale=False):\n",
        "    if log_scale:\n",
        "        x = np.log(data[feature]+1)\n",
        "    else:\n",
        "        x = data[feature]\n",
        "    mu = x.mean()\n",
        "    sigma = x.std()\n",
        "    lower_bound = mu - 3 * sigma\n",
        "    upper_bound = mu + 3 * sigma\n",
        "    outliers = data[(x < lower_bound) | (x > upper_bound)]\n",
        "    cleaned = data[(x > lower_bound) & (x < upper_bound)]\n",
        "    return outliers, cleaned\n",
        "#Производим очистку \n",
        "outliers, df_new_1_cleaned = outliers_z_score(df_new_1, 'sqft', True)\n",
        "outliers, df_new_1_cleaned = outliers_z_score(df_new_1_cleaned, 'target', True)\n",
        "outliers"
      ]
    },
    {
      "cell_type": "code",
      "execution_count": 83,
      "metadata": {
        "colab": {
          "base_uri": "https://localhost:8080/",
          "height": 363
        },
        "id": "sRcWXNPi06JI",
        "outputId": "27851aa8-6721-49bf-d81c-e87ab43170d0"
      },
      "outputs": [
        {
          "data": {
            "text/html": [
              "\n",
              "  <div id=\"df-e79e0f77-86c2-47dc-8afc-02fbcc7f125b\">\n",
              "    <div class=\"colab-df-container\">\n",
              "      <div>\n",
              "<style scoped>\n",
              "    .dataframe tbody tr th:only-of-type {\n",
              "        vertical-align: middle;\n",
              "    }\n",
              "\n",
              "    .dataframe tbody tr th {\n",
              "        vertical-align: top;\n",
              "    }\n",
              "\n",
              "    .dataframe thead th {\n",
              "        text-align: right;\n",
              "    }\n",
              "</style>\n",
              "<table border=\"1\" class=\"dataframe\">\n",
              "  <thead>\n",
              "    <tr style=\"text-align: right;\">\n",
              "      <th></th>\n",
              "      <th>count</th>\n",
              "      <th>mean</th>\n",
              "      <th>std</th>\n",
              "      <th>min</th>\n",
              "      <th>25%</th>\n",
              "      <th>50%</th>\n",
              "      <th>75%</th>\n",
              "      <th>max</th>\n",
              "    </tr>\n",
              "  </thead>\n",
              "  <tbody>\n",
              "    <tr>\n",
              "      <th>baths</th>\n",
              "      <td>210374.0</td>\n",
              "      <td>2.686166</td>\n",
              "      <td>1.230840</td>\n",
              "      <td>0.75</td>\n",
              "      <td>2.0</td>\n",
              "      <td>2.0</td>\n",
              "      <td>3.0</td>\n",
              "      <td>19.0</td>\n",
              "    </tr>\n",
              "    <tr>\n",
              "      <th>fireplace</th>\n",
              "      <td>210374.0</td>\n",
              "      <td>0.145902</td>\n",
              "      <td>0.353009</td>\n",
              "      <td>0.00</td>\n",
              "      <td>0.0</td>\n",
              "      <td>0.0</td>\n",
              "      <td>0.0</td>\n",
              "      <td>1.0</td>\n",
              "    </tr>\n",
              "    <tr>\n",
              "      <th>sqft</th>\n",
              "      <td>210374.0</td>\n",
              "      <td>2167.448853</td>\n",
              "      <td>1254.885077</td>\n",
              "      <td>248.00</td>\n",
              "      <td>1346.0</td>\n",
              "      <td>1854.0</td>\n",
              "      <td>2607.0</td>\n",
              "      <td>14418.0</td>\n",
              "    </tr>\n",
              "    <tr>\n",
              "      <th>beds</th>\n",
              "      <td>210374.0</td>\n",
              "      <td>3.123499</td>\n",
              "      <td>1.462933</td>\n",
              "      <td>0.00</td>\n",
              "      <td>2.0</td>\n",
              "      <td>3.0</td>\n",
              "      <td>4.0</td>\n",
              "      <td>19.0</td>\n",
              "    </tr>\n",
              "    <tr>\n",
              "      <th>PrivatePool</th>\n",
              "      <td>210374.0</td>\n",
              "      <td>0.152419</td>\n",
              "      <td>0.359427</td>\n",
              "      <td>0.00</td>\n",
              "      <td>0.0</td>\n",
              "      <td>0.0</td>\n",
              "      <td>0.0</td>\n",
              "      <td>1.0</td>\n",
              "    </tr>\n",
              "    <tr>\n",
              "      <th>target</th>\n",
              "      <td>210374.0</td>\n",
              "      <td>572306.120305</td>\n",
              "      <td>768031.443477</td>\n",
              "      <td>15750.00</td>\n",
              "      <td>219990.0</td>\n",
              "      <td>349000.0</td>\n",
              "      <td>599900.0</td>\n",
              "      <td>8595000.0</td>\n",
              "    </tr>\n",
              "    <tr>\n",
              "      <th>Cooling</th>\n",
              "      <td>210374.0</td>\n",
              "      <td>0.766378</td>\n",
              "      <td>0.423135</td>\n",
              "      <td>0.00</td>\n",
              "      <td>1.0</td>\n",
              "      <td>1.0</td>\n",
              "      <td>1.0</td>\n",
              "      <td>1.0</td>\n",
              "    </tr>\n",
              "    <tr>\n",
              "      <th>Age</th>\n",
              "      <td>210374.0</td>\n",
              "      <td>41.105536</td>\n",
              "      <td>32.641130</td>\n",
              "      <td>1.00</td>\n",
              "      <td>16.0</td>\n",
              "      <td>34.0</td>\n",
              "      <td>62.0</td>\n",
              "      <td>235.0</td>\n",
              "    </tr>\n",
              "    <tr>\n",
              "      <th>Repaired</th>\n",
              "      <td>210374.0</td>\n",
              "      <td>0.453687</td>\n",
              "      <td>0.497852</td>\n",
              "      <td>0.00</td>\n",
              "      <td>0.0</td>\n",
              "      <td>0.0</td>\n",
              "      <td>1.0</td>\n",
              "      <td>1.0</td>\n",
              "    </tr>\n",
              "    <tr>\n",
              "      <th>last_repair</th>\n",
              "      <td>210374.0</td>\n",
              "      <td>36.833088</td>\n",
              "      <td>30.512854</td>\n",
              "      <td>1.00</td>\n",
              "      <td>14.0</td>\n",
              "      <td>28.0</td>\n",
              "      <td>53.0</td>\n",
              "      <td>235.0</td>\n",
              "    </tr>\n",
              "  </tbody>\n",
              "</table>\n",
              "</div>\n",
              "      <button class=\"colab-df-convert\" onclick=\"convertToInteractive('df-e79e0f77-86c2-47dc-8afc-02fbcc7f125b')\"\n",
              "              title=\"Convert this dataframe to an interactive table.\"\n",
              "              style=\"display:none;\">\n",
              "        \n",
              "  <svg xmlns=\"http://www.w3.org/2000/svg\" height=\"24px\"viewBox=\"0 0 24 24\"\n",
              "       width=\"24px\">\n",
              "    <path d=\"M0 0h24v24H0V0z\" fill=\"none\"/>\n",
              "    <path d=\"M18.56 5.44l.94 2.06.94-2.06 2.06-.94-2.06-.94-.94-2.06-.94 2.06-2.06.94zm-11 1L8.5 8.5l.94-2.06 2.06-.94-2.06-.94L8.5 2.5l-.94 2.06-2.06.94zm10 10l.94 2.06.94-2.06 2.06-.94-2.06-.94-.94-2.06-.94 2.06-2.06.94z\"/><path d=\"M17.41 7.96l-1.37-1.37c-.4-.4-.92-.59-1.43-.59-.52 0-1.04.2-1.43.59L10.3 9.45l-7.72 7.72c-.78.78-.78 2.05 0 2.83L4 21.41c.39.39.9.59 1.41.59.51 0 1.02-.2 1.41-.59l7.78-7.78 2.81-2.81c.8-.78.8-2.07 0-2.86zM5.41 20L4 18.59l7.72-7.72 1.47 1.35L5.41 20z\"/>\n",
              "  </svg>\n",
              "      </button>\n",
              "      \n",
              "  <style>\n",
              "    .colab-df-container {\n",
              "      display:flex;\n",
              "      flex-wrap:wrap;\n",
              "      gap: 12px;\n",
              "    }\n",
              "\n",
              "    .colab-df-convert {\n",
              "      background-color: #E8F0FE;\n",
              "      border: none;\n",
              "      border-radius: 50%;\n",
              "      cursor: pointer;\n",
              "      display: none;\n",
              "      fill: #1967D2;\n",
              "      height: 32px;\n",
              "      padding: 0 0 0 0;\n",
              "      width: 32px;\n",
              "    }\n",
              "\n",
              "    .colab-df-convert:hover {\n",
              "      background-color: #E2EBFA;\n",
              "      box-shadow: 0px 1px 2px rgba(60, 64, 67, 0.3), 0px 1px 3px 1px rgba(60, 64, 67, 0.15);\n",
              "      fill: #174EA6;\n",
              "    }\n",
              "\n",
              "    [theme=dark] .colab-df-convert {\n",
              "      background-color: #3B4455;\n",
              "      fill: #D2E3FC;\n",
              "    }\n",
              "\n",
              "    [theme=dark] .colab-df-convert:hover {\n",
              "      background-color: #434B5C;\n",
              "      box-shadow: 0px 1px 3px 1px rgba(0, 0, 0, 0.15);\n",
              "      filter: drop-shadow(0px 1px 2px rgba(0, 0, 0, 0.3));\n",
              "      fill: #FFFFFF;\n",
              "    }\n",
              "  </style>\n",
              "\n",
              "      <script>\n",
              "        const buttonEl =\n",
              "          document.querySelector('#df-e79e0f77-86c2-47dc-8afc-02fbcc7f125b button.colab-df-convert');\n",
              "        buttonEl.style.display =\n",
              "          google.colab.kernel.accessAllowed ? 'block' : 'none';\n",
              "\n",
              "        async function convertToInteractive(key) {\n",
              "          const element = document.querySelector('#df-e79e0f77-86c2-47dc-8afc-02fbcc7f125b');\n",
              "          const dataTable =\n",
              "            await google.colab.kernel.invokeFunction('convertToInteractive',\n",
              "                                                     [key], {});\n",
              "          if (!dataTable) return;\n",
              "\n",
              "          const docLinkHtml = 'Like what you see? Visit the ' +\n",
              "            '<a target=\"_blank\" href=https://colab.research.google.com/notebooks/data_table.ipynb>data table notebook</a>'\n",
              "            + ' to learn more about interactive tables.';\n",
              "          element.innerHTML = '';\n",
              "          dataTable['output_type'] = 'display_data';\n",
              "          await google.colab.output.renderOutput(dataTable, element);\n",
              "          const docLink = document.createElement('div');\n",
              "          docLink.innerHTML = docLinkHtml;\n",
              "          element.appendChild(docLink);\n",
              "        }\n",
              "      </script>\n",
              "    </div>\n",
              "  </div>\n",
              "  "
            ],
            "text/plain": [
              "                count           mean            std       min       25%  \\\n",
              "baths        210374.0       2.686166       1.230840      0.75       2.0   \n",
              "fireplace    210374.0       0.145902       0.353009      0.00       0.0   \n",
              "sqft         210374.0    2167.448853    1254.885077    248.00    1346.0   \n",
              "beds         210374.0       3.123499       1.462933      0.00       2.0   \n",
              "PrivatePool  210374.0       0.152419       0.359427      0.00       0.0   \n",
              "target       210374.0  572306.120305  768031.443477  15750.00  219990.0   \n",
              "Cooling      210374.0       0.766378       0.423135      0.00       1.0   \n",
              "Age          210374.0      41.105536      32.641130      1.00      16.0   \n",
              "Repaired     210374.0       0.453687       0.497852      0.00       0.0   \n",
              "last_repair  210374.0      36.833088      30.512854      1.00      14.0   \n",
              "\n",
              "                  50%       75%        max  \n",
              "baths             2.0       3.0       19.0  \n",
              "fireplace         0.0       0.0        1.0  \n",
              "sqft           1854.0    2607.0    14418.0  \n",
              "beds              3.0       4.0       19.0  \n",
              "PrivatePool       0.0       0.0        1.0  \n",
              "target       349000.0  599900.0  8595000.0  \n",
              "Cooling           1.0       1.0        1.0  \n",
              "Age              34.0      62.0      235.0  \n",
              "Repaired          0.0       1.0        1.0  \n",
              "last_repair      28.0      53.0      235.0  "
            ]
          },
          "execution_count": 83,
          "metadata": {},
          "output_type": "execute_result"
        }
      ],
      "source": [
        "df_new_1_cleaned.describe().T"
      ]
    },
    {
      "cell_type": "code",
      "execution_count": 84,
      "metadata": {
        "colab": {
          "base_uri": "https://localhost:8080/"
        },
        "id": "hh5GNnxG06JR",
        "outputId": "0bf4bde0-1d5e-4eba-df4e-ba27abaa93d8"
      },
      "outputs": [
        {
          "data": {
            "text/plain": [
              "(2135, 17)"
            ]
          },
          "execution_count": 84,
          "metadata": {},
          "output_type": "execute_result"
        }
      ],
      "source": [
        "outliers, df_new_1_cleaned = outliers_z_score(df_new_1_cleaned, 'sqft', True)\n",
        "outliers, df_new_1_cleaned = outliers_z_score(df_new_1_cleaned, 'target', True)\n",
        "outliers, df_new_1_cleaned = outliers_z_score(df_new_1_cleaned, 'Age')\n",
        "outliers, df_new_1_cleaned = outliers_z_score(df_new_1_cleaned, 'baths')\n",
        "outliers.shape"
      ]
    },
    {
      "cell_type": "code",
      "execution_count": 85,
      "metadata": {
        "colab": {
          "base_uri": "https://localhost:8080/",
          "height": 445
        },
        "id": "61ytA2K306JR",
        "outputId": "6a8d4883-b528-41cf-e1bc-f1b41c3025fa"
      },
      "outputs": [
        {
          "data": {
            "image/png": "[encoded data removed]",
            "text/plain": [
              "<Figure size 640x480 with 1 Axes>"
            ]
          },
          "metadata": {},
          "output_type": "display_data"
        }
      ],
      "source": [
        "sns.boxplot(data=df_new_1_cleaned['target']);"
      ]
    },
    {
      "cell_type": "code",
      "execution_count": 86,
      "metadata": {
        "colab": {
          "base_uri": "https://localhost:8080/"
        },
        "id": "uxOW6pXN06JV",
        "outputId": "66fe712a-ac33-49f5-ffa5-d1e19cde1929"
      },
      "outputs": [
        {
          "data": {
            "text/plain": [
              "(204429, 17)"
            ]
          },
          "execution_count": 86,
          "metadata": {},
          "output_type": "execute_result"
        }
      ],
      "source": [
        "df_new_1_cleaned.shape"
      ]
    },
    {
      "cell_type": "code",
      "execution_count": 87,
      "metadata": {
        "colab": {
          "base_uri": "https://localhost:8080/",
          "height": 298
        },
        "id": "Nlb5H9dX06JY",
        "outputId": "3557fa72-6eb6-4ba6-ce44-63ab4a02abeb"
      },
      "outputs": [
        {
          "data": {
            "image/png": "[encoded data removed]",
            "text/plain": [
              "<Figure size 1500x400 with 2 Axes>"
            ]
          },
          "metadata": {},
          "output_type": "display_data"
        }
      ],
      "source": [
        "fig, axes = plt.subplots(1, 2, figsize=(15, 4)) #фигура + координатная плоскость\n",
        "#Строим гистограмму\n",
        "sns.histplot(data=df_new_1_cleaned, x='target', ax=axes[0]);\n",
        "#Логарифмируем\n",
        "log_price = np.log(df_new_1_cleaned['target'])\n",
        "#Строим гистограмму в логарифмическом масштабе\n",
        "sns.histplot(data=log_price, ax=axes[1]);\n",
        "#Добавляем вертикальные линии для среднего и 3ех стандартных отклонений влево и вправо от среднего\n",
        "axes[1].axvline(log_price.mean(), color='k', lw=2)\n",
        "axes[1].axvline(log_price.mean()+ 3 *log_price.std(),\n",
        "                color='k', ls='--', lw=2)\n",
        "axes[1].axvline(log_price.mean()- 3 *log_price.std(),\n",
        "                color='k', ls='--', lw=2);"
      ]
    },
    {
      "attachments": {},
      "cell_type": "markdown",
      "metadata": {
        "id": "EunZ86XL06JZ"
      },
      "source": [
        "Строим корреляцию числовых признаков уже для очищенных данных"
      ]
    },
    {
      "cell_type": "code",
      "execution_count": 88,
      "metadata": {
        "colab": {
          "base_uri": "https://localhost:8080/",
          "height": 498
        },
        "id": "BsDbVMN206JZ",
        "outputId": "1ae77b19-d93f-4969-fdd0-6c46bae36ce6"
      },
      "outputs": [
        {
          "name": "stderr",
          "output_type": "stream",
          "text": [
            "<ipython-input-88-627b1c552a79>:3: FutureWarning: The default value of numeric_only in DataFrame.corr is deprecated. In a future version, it will default to False. Select only valid columns or specify the value of numeric_only to silence this warning.\n",
            "  sns.heatmap(df_new_1_cleaned.corr(), annot=True, fmt=\".2f\");\n"
          ]
        },
        {
          "data": {
            "image/png": "[encoded data removed]",
            "text/plain": [
              "<Figure size 1200x500 with 2 Axes>"
            ]
          },
          "metadata": {},
          "output_type": "display_data"
        }
      ],
      "source": [
        "#строим тепловую карту корреляций\n",
        "fig = plt.figure(figsize=(12, 5))\n",
        "sns.heatmap(df_new_1_cleaned.corr(), annot=True, fmt=\".2f\");"
      ]
    },
    {
      "cell_type": "code",
      "execution_count": 89,
      "metadata": {
        "colab": {
          "base_uri": "https://localhost:8080/",
          "height": 430
        },
        "id": "2nA4V2z706Ja",
        "outputId": "884aa3cd-5a43-48b9-cc8a-a1587eb9c4f4"
      },
      "outputs": [
        {
          "data": {
            "image/png": "[encoded data removed]",
            "text/plain": [
              "<Figure size 640x480 with 1 Axes>"
            ]
          },
          "metadata": {},
          "output_type": "display_data"
        }
      ],
      "source": [
        "df_new_1_cleaned['Age'].hist();"
      ]
    },
    {
      "cell_type": "code",
      "execution_count": 90,
      "metadata": {
        "colab": {
          "base_uri": "https://localhost:8080/",
          "height": 301
        },
        "id": "oJCvPcLm06Jb",
        "outputId": "b6a61c8a-da3a-40ae-995e-e5e67bc11d5a"
      },
      "outputs": [
        {
          "data": {
            "image/png": "[encoded data removed]",
            "text/plain": [
              "<Figure size 1500x400 with 2 Axes>"
            ]
          },
          "metadata": {},
          "output_type": "display_data"
        }
      ],
      "source": [
        "fig, axes = plt.subplots(1, 2, figsize=(15, 4)) #фигура + координатная плоскость\n",
        "#Строим гистограмму\n",
        "sns.histplot(data=df_new_1_cleaned, x='sqft', ax=axes[0]);\n",
        "#Логарифмируем\n",
        "log_price = np.log(df_new_1_cleaned['sqft'])\n",
        "#Строим гистограмму в логарифмическом масштабе\n",
        "sns.histplot(data=log_price, ax=axes[1]);\n",
        "#Добавляем вертикальные линии для среднего и 3ех стандартных отклонений влево и вправо от среднего\n",
        "axes[1].axvline(log_price.mean(), color='k', lw=2)\n",
        "axes[1].axvline(log_price.mean()+ 3 *log_price.std(),\n",
        "                color='k', ls='--', lw=2)\n",
        "axes[1].axvline(log_price.mean()- 3 *log_price.std(),\n",
        "                color='k', ls='--', lw=2);"
      ]
    },
    {
      "attachments": {},
      "cell_type": "markdown",
      "metadata": {
        "id": "5u667EkB06Jb"
      },
      "source": [
        "Видем сильную корреляцию между возрастом постройки и кол-вом лет с последнего проведенного ремонта. Удаляем один из признаков"
      ]
    },
    {
      "cell_type": "code",
      "execution_count": 91,
      "metadata": {
        "id": "i0iSV7zY06Jc"
      },
      "outputs": [],
      "source": [
        "df_new_1_cleaned = df_new_1_cleaned.drop(['last_repair'],axis=1)"
      ]
    },
    {
      "cell_type": "code",
      "execution_count": 92,
      "metadata": {
        "id": "w9xjTnX806Jc"
      },
      "outputs": [],
      "source": [
        "##df_new_1_cleaned['sqft'] = np.log(df_new_1_cleaned['sqft'])\n",
        "##df_new_1_cleaned['target'] = np.log(df_new_1_cleaned['target'])"
      ]
    },
    {
      "attachments": {},
      "cell_type": "markdown",
      "metadata": {
        "id": "Ru7whaNh06Je"
      },
      "source": [
        "Кодируем категориальные признаки методом OneHotEncoder"
      ]
    },
    {
      "cell_type": "code",
      "execution_count": 93,
      "metadata": {
        "id": "Ewat_KoI06Je"
      },
      "outputs": [],
      "source": [
        "from sklearn.preprocessing import OneHotEncoder\n",
        "\n",
        "onehot_encoder = OneHotEncoder()"
      ]
    },
    {
      "cell_type": "code",
      "execution_count": 94,
      "metadata": {
        "id": "6Wd471qJ06Jf"
      },
      "outputs": [],
      "source": [
        "df_new_1_cleaned = df_new_1_cleaned.reset_index(drop=True)"
      ]
    },
    {
      "cell_type": "code",
      "execution_count": 95,
      "metadata": {
        "id": "h7Dw3oGQ06Jh"
      },
      "outputs": [],
      "source": [
        "#Производим кодирование категориальных признаков\n",
        "categorical_features_one = ['status','city','propertyType','stories','Heating','Parking','state']\n",
        "# 'учим' и сразу применяем преобразование к выборке, результат переводим в массив\n",
        "data_onehot = onehot_encoder.fit_transform(df_new_1_cleaned[categorical_features_one]).toarray() \n",
        "column_names = onehot_encoder.get_feature_names_out(categorical_features_one)\n",
        "data_onehot = pd.DataFrame(data_onehot, columns=column_names)\n",
        "dummies_data = pd.merge(df_new_1_cleaned, data_onehot, left_index=True, right_index=True)\n",
        "dummies_data = dummies_data.drop(categorical_features_one, axis=1)"
      ]
    },
    {
      "cell_type": "code",
      "execution_count": 96,
      "metadata": {
        "colab": {
          "base_uri": "https://localhost:8080/",
          "height": 300
        },
        "id": "xZqwiYU-06Ji",
        "outputId": "7878bc12-40fe-431e-a0e1-2146ab2b61f4"
      },
      "outputs": [
        {
          "data": {
            "text/html": [
              "\n",
              "  <div id=\"df-7f675fd7-2912-47fe-9224-a299263e131d\">\n",
              "    <div class=\"colab-df-container\">\n",
              "      <div>\n",
              "<style scoped>\n",
              "    .dataframe tbody tr th:only-of-type {\n",
              "        vertical-align: middle;\n",
              "    }\n",
              "\n",
              "    .dataframe tbody tr th {\n",
              "        vertical-align: top;\n",
              "    }\n",
              "\n",
              "    .dataframe thead th {\n",
              "        text-align: right;\n",
              "    }\n",
              "</style>\n",
              "<table border=\"1\" class=\"dataframe\">\n",
              "  <thead>\n",
              "    <tr style=\"text-align: right;\">\n",
              "      <th></th>\n",
              "      <th>baths</th>\n",
              "      <th>fireplace</th>\n",
              "      <th>sqft</th>\n",
              "      <th>beds</th>\n",
              "      <th>PrivatePool</th>\n",
              "      <th>target</th>\n",
              "      <th>Cooling</th>\n",
              "      <th>Age</th>\n",
              "      <th>Repaired</th>\n",
              "      <th>status_Active</th>\n",
              "      <th>...</th>\n",
              "      <th>state_OR</th>\n",
              "      <th>state_PA</th>\n",
              "      <th>state_SC</th>\n",
              "      <th>state_TN</th>\n",
              "      <th>state_TX</th>\n",
              "      <th>state_UT</th>\n",
              "      <th>state_VA</th>\n",
              "      <th>state_VT</th>\n",
              "      <th>state_WA</th>\n",
              "      <th>state_WI</th>\n",
              "    </tr>\n",
              "  </thead>\n",
              "  <tbody>\n",
              "    <tr>\n",
              "      <th>0</th>\n",
              "      <td>3.5</td>\n",
              "      <td>1</td>\n",
              "      <td>2900.0</td>\n",
              "      <td>4.0</td>\n",
              "      <td>0</td>\n",
              "      <td>418000.0</td>\n",
              "      <td>0</td>\n",
              "      <td>4.0</td>\n",
              "      <td>0</td>\n",
              "      <td>1.0</td>\n",
              "      <td>...</td>\n",
              "      <td>0.0</td>\n",
              "      <td>0.0</td>\n",
              "      <td>0.0</td>\n",
              "      <td>0.0</td>\n",
              "      <td>0.0</td>\n",
              "      <td>0.0</td>\n",
              "      <td>0.0</td>\n",
              "      <td>0.0</td>\n",
              "      <td>0.0</td>\n",
              "      <td>0.0</td>\n",
              "    </tr>\n",
              "    <tr>\n",
              "      <th>1</th>\n",
              "      <td>3.0</td>\n",
              "      <td>0</td>\n",
              "      <td>1947.0</td>\n",
              "      <td>3.0</td>\n",
              "      <td>0</td>\n",
              "      <td>310000.0</td>\n",
              "      <td>0</td>\n",
              "      <td>4.0</td>\n",
              "      <td>0</td>\n",
              "      <td>0.0</td>\n",
              "      <td>...</td>\n",
              "      <td>0.0</td>\n",
              "      <td>0.0</td>\n",
              "      <td>0.0</td>\n",
              "      <td>0.0</td>\n",
              "      <td>0.0</td>\n",
              "      <td>0.0</td>\n",
              "      <td>0.0</td>\n",
              "      <td>0.0</td>\n",
              "      <td>1.0</td>\n",
              "      <td>0.0</td>\n",
              "    </tr>\n",
              "    <tr>\n",
              "      <th>2</th>\n",
              "      <td>2.0</td>\n",
              "      <td>0</td>\n",
              "      <td>3000.0</td>\n",
              "      <td>3.0</td>\n",
              "      <td>1</td>\n",
              "      <td>2895000.0</td>\n",
              "      <td>1</td>\n",
              "      <td>62.0</td>\n",
              "      <td>1</td>\n",
              "      <td>0.0</td>\n",
              "      <td>...</td>\n",
              "      <td>0.0</td>\n",
              "      <td>0.0</td>\n",
              "      <td>0.0</td>\n",
              "      <td>0.0</td>\n",
              "      <td>0.0</td>\n",
              "      <td>0.0</td>\n",
              "      <td>0.0</td>\n",
              "      <td>0.0</td>\n",
              "      <td>0.0</td>\n",
              "      <td>0.0</td>\n",
              "    </tr>\n",
              "    <tr>\n",
              "      <th>3</th>\n",
              "      <td>2.0</td>\n",
              "      <td>0</td>\n",
              "      <td>3588.0</td>\n",
              "      <td>3.0</td>\n",
              "      <td>0</td>\n",
              "      <td>244900.0</td>\n",
              "      <td>1</td>\n",
              "      <td>53.0</td>\n",
              "      <td>0</td>\n",
              "      <td>1.0</td>\n",
              "      <td>...</td>\n",
              "      <td>0.0</td>\n",
              "      <td>0.0</td>\n",
              "      <td>0.0</td>\n",
              "      <td>0.0</td>\n",
              "      <td>0.0</td>\n",
              "      <td>0.0</td>\n",
              "      <td>0.0</td>\n",
              "      <td>0.0</td>\n",
              "      <td>0.0</td>\n",
              "      <td>0.0</td>\n",
              "    </tr>\n",
              "    <tr>\n",
              "      <th>4</th>\n",
              "      <td>3.0</td>\n",
              "      <td>0</td>\n",
              "      <td>1930.0</td>\n",
              "      <td>3.0</td>\n",
              "      <td>0</td>\n",
              "      <td>311995.0</td>\n",
              "      <td>1</td>\n",
              "      <td>4.0</td>\n",
              "      <td>0</td>\n",
              "      <td>0.0</td>\n",
              "      <td>...</td>\n",
              "      <td>0.0</td>\n",
              "      <td>0.0</td>\n",
              "      <td>0.0</td>\n",
              "      <td>0.0</td>\n",
              "      <td>1.0</td>\n",
              "      <td>0.0</td>\n",
              "      <td>0.0</td>\n",
              "      <td>0.0</td>\n",
              "      <td>0.0</td>\n",
              "      <td>0.0</td>\n",
              "    </tr>\n",
              "  </tbody>\n",
              "</table>\n",
              "<p>5 rows × 257 columns</p>\n",
              "</div>\n",
              "      <button class=\"colab-df-convert\" onclick=\"convertToInteractive('df-7f675fd7-2912-47fe-9224-a299263e131d')\"\n",
              "              title=\"Convert this dataframe to an interactive table.\"\n",
              "              style=\"display:none;\">\n",
              "        \n",
              "  <svg xmlns=\"http://www.w3.org/2000/svg\" height=\"24px\"viewBox=\"0 0 24 24\"\n",
              "       width=\"24px\">\n",
              "    <path d=\"M0 0h24v24H0V0z\" fill=\"none\"/>\n",
              "    <path d=\"M18.56 5.44l.94 2.06.94-2.06 2.06-.94-2.06-.94-.94-2.06-.94 2.06-2.06.94zm-11 1L8.5 8.5l.94-2.06 2.06-.94-2.06-.94L8.5 2.5l-.94 2.06-2.06.94zm10 10l.94 2.06.94-2.06 2.06-.94-2.06-.94-.94-2.06-.94 2.06-2.06.94z\"/><path d=\"M17.41 7.96l-1.37-1.37c-.4-.4-.92-.59-1.43-.59-.52 0-1.04.2-1.43.59L10.3 9.45l-7.72 7.72c-.78.78-.78 2.05 0 2.83L4 21.41c.39.39.9.59 1.41.59.51 0 1.02-.2 1.41-.59l7.78-7.78 2.81-2.81c.8-.78.8-2.07 0-2.86zM5.41 20L4 18.59l7.72-7.72 1.47 1.35L5.41 20z\"/>\n",
              "  </svg>\n",
              "      </button>\n",
              "      \n",
              "  <style>\n",
              "    .colab-df-container {\n",
              "      display:flex;\n",
              "      flex-wrap:wrap;\n",
              "      gap: 12px;\n",
              "    }\n",
              "\n",
              "    .colab-df-convert {\n",
              "      background-color: #E8F0FE;\n",
              "      border: none;\n",
              "      border-radius: 50%;\n",
              "      cursor: pointer;\n",
              "      display: none;\n",
              "      fill: #1967D2;\n",
              "      height: 32px;\n",
              "      padding: 0 0 0 0;\n",
              "      width: 32px;\n",
              "    }\n",
              "\n",
              "    .colab-df-convert:hover {\n",
              "      background-color: #E2EBFA;\n",
              "      box-shadow: 0px 1px 2px rgba(60, 64, 67, 0.3), 0px 1px 3px 1px rgba(60, 64, 67, 0.15);\n",
              "      fill: #174EA6;\n",
              "    }\n",
              "\n",
              "    [theme=dark] .colab-df-convert {\n",
              "      background-color: #3B4455;\n",
              "      fill: #D2E3FC;\n",
              "    }\n",
              "\n",
              "    [theme=dark] .colab-df-convert:hover {\n",
              "      background-color: #434B5C;\n",
              "      box-shadow: 0px 1px 3px 1px rgba(0, 0, 0, 0.15);\n",
              "      filter: drop-shadow(0px 1px 2px rgba(0, 0, 0, 0.3));\n",
              "      fill: #FFFFFF;\n",
              "    }\n",
              "  </style>\n",
              "\n",
              "      <script>\n",
              "        const buttonEl =\n",
              "          document.querySelector('#df-7f675fd7-2912-47fe-9224-a299263e131d button.colab-df-convert');\n",
              "        buttonEl.style.display =\n",
              "          google.colab.kernel.accessAllowed ? 'block' : 'none';\n",
              "\n",
              "        async function convertToInteractive(key) {\n",
              "          const element = document.querySelector('#df-7f675fd7-2912-47fe-9224-a299263e131d');\n",
              "          const dataTable =\n",
              "            await google.colab.kernel.invokeFunction('convertToInteractive',\n",
              "                                                     [key], {});\n",
              "          if (!dataTable) return;\n",
              "\n",
              "          const docLinkHtml = 'Like what you see? Visit the ' +\n",
              "            '<a target=\"_blank\" href=https://colab.research.google.com/notebooks/data_table.ipynb>data table notebook</a>'\n",
              "            + ' to learn more about interactive tables.';\n",
              "          element.innerHTML = '';\n",
              "          dataTable['output_type'] = 'display_data';\n",
              "          await google.colab.output.renderOutput(dataTable, element);\n",
              "          const docLink = document.createElement('div');\n",
              "          docLink.innerHTML = docLinkHtml;\n",
              "          element.appendChild(docLink);\n",
              "        }\n",
              "      </script>\n",
              "    </div>\n",
              "  </div>\n",
              "  "
            ],
            "text/plain": [
              "   baths  fireplace    sqft  beds  PrivatePool     target  Cooling   Age  \\\n",
              "0    3.5          1  2900.0   4.0            0   418000.0        0   4.0   \n",
              "1    3.0          0  1947.0   3.0            0   310000.0        0   4.0   \n",
              "2    2.0          0  3000.0   3.0            1  2895000.0        1  62.0   \n",
              "3    2.0          0  3588.0   3.0            0   244900.0        1  53.0   \n",
              "4    3.0          0  1930.0   3.0            0   311995.0        1   4.0   \n",
              "\n",
              "   Repaired  status_Active  ...  state_OR  state_PA  state_SC  state_TN  \\\n",
              "0         0            1.0  ...       0.0       0.0       0.0       0.0   \n",
              "1         0            0.0  ...       0.0       0.0       0.0       0.0   \n",
              "2         1            0.0  ...       0.0       0.0       0.0       0.0   \n",
              "3         0            1.0  ...       0.0       0.0       0.0       0.0   \n",
              "4         0            0.0  ...       0.0       0.0       0.0       0.0   \n",
              "\n",
              "   state_TX  state_UT  state_VA  state_VT  state_WA  state_WI  \n",
              "0       0.0       0.0       0.0       0.0       0.0       0.0  \n",
              "1       0.0       0.0       0.0       0.0       1.0       0.0  \n",
              "2       0.0       0.0       0.0       0.0       0.0       0.0  \n",
              "3       0.0       0.0       0.0       0.0       0.0       0.0  \n",
              "4       1.0       0.0       0.0       0.0       0.0       0.0  \n",
              "\n",
              "[5 rows x 257 columns]"
            ]
          },
          "execution_count": 96,
          "metadata": {},
          "output_type": "execute_result"
        }
      ],
      "source": [
        "dummies_data.head()"
      ]
    },
    {
      "cell_type": "code",
      "execution_count": 97,
      "metadata": {
        "colab": {
          "base_uri": "https://localhost:8080/"
        },
        "id": "7_QLL5TY06Jk",
        "outputId": "d9849d34-e7b6-4107-9909-3b6b1d52f220"
      },
      "outputs": [
        {
          "data": {
            "text/plain": [
              "0"
            ]
          },
          "execution_count": 97,
          "metadata": {},
          "output_type": "execute_result"
        }
      ],
      "source": [
        "dummies_data.isnull().sum().sum()"
      ]
    },
    {
      "cell_type": "code",
      "execution_count": 98,
      "metadata": {
        "colab": {
          "base_uri": "https://localhost:8080/"
        },
        "id": "tuwfJCv-06Jl",
        "outputId": "2630c020-4245-4d0f-b151-0eec40b62c3e"
      },
      "outputs": [
        {
          "data": {
            "text/plain": [
              "(204429, 257)"
            ]
          },
          "execution_count": 98,
          "metadata": {},
          "output_type": "execute_result"
        }
      ],
      "source": [
        "dummies_data.shape"
      ]
    },
    {
      "attachments": {},
      "cell_type": "markdown",
      "metadata": {
        "id": "3Me9hUpl06Jo"
      },
      "source": [
        "Опрееляем целевую переменную 'target'. Делем выборку на train test в соотношении 80/20"
      ]
    },
    {
      "cell_type": "code",
      "execution_count": 99,
      "metadata": {
        "id": "3cU4a-ry06Jp"
      },
      "outputs": [],
      "source": [
        "#X - матрица наблюдений, y - столбец правильных ответов\n",
        "X = dummies_data.drop('target', axis=1)\n",
        "y = dummies_data['target']"
      ]
    },
    {
      "cell_type": "code",
      "execution_count": 100,
      "metadata": {
        "colab": {
          "base_uri": "https://localhost:8080/"
        },
        "id": "0cP5oPeS06Jp",
        "outputId": "1ba50021-7048-4538-c20c-1ed23325b5e3"
      },
      "outputs": [
        {
          "name": "stdout",
          "output_type": "stream",
          "text": [
            "Train shape: (163543, 256)\n",
            "Test shape: (40886, 256)\n"
          ]
        }
      ],
      "source": [
        "#Создаем тренировочную и тестовую выборки с помощью train_test_split\n",
        "X_train, X_test, y_train, y_test = train_test_split(\n",
        "    X, y, #таблица с наблюдениями и столбец с правильным ответами\n",
        "    test_size=0.2, #размер тестовой выборки\n",
        "    random_state=40 #число отвечающее за генерацию случайных чисел\n",
        ")\n",
        "#Выводим размеры полученных выборок\n",
        "print('Train shape: {}'.format(X_train.shape))\n",
        "print('Test shape: {}'.format(X_test.shape))"
      ]
    },
    {
      "attachments": {},
      "cell_type": "markdown",
      "metadata": {
        "id": "DE24k_km06Jp"
      },
      "source": [
        "Вводим функцию для определения метрик регрессии "
      ]
    },
    {
      "cell_type": "code",
      "execution_count": 101,
      "metadata": {
        "id": "YEASudxR06Jq"
      },
      "outputs": [],
      "source": [
        "def print_metrics(y_train, y_train_predict, y_test, y_test_predict):\n",
        "    print('Train R^2: {:.3f}'.format(metrics.r2_score(y_train, y_train_predict)))\n",
        "    print('Train MAE: {:.3f}'.format(metrics.mean_absolute_error(y_train, y_train_predict)))\n",
        "    print('Train MAPE: {:.3f}'.format(metrics.mean_absolute_percentage_error(y_train, y_train_predict)*100))\n",
        "    print('Train RMSE: {:.3f}'.format(np.sqrt(metrics.mean_squared_error(y_train, y_train_predict))))\n",
        "    print('\\n')\n",
        "    print('Test R^2: {:.3f}'.format(metrics.r2_score(y_test, y_test_predict)))\n",
        "    print('Test MAE: {:.3f}'.format(metrics.mean_absolute_error(y_test, y_test_predict)))\n",
        "    print('Test MAPE: {:.3f}'.format(metrics.mean_absolute_percentage_error(y_test, y_test_predict)*100))\n",
        "    print('Test RMSE: {:.3f}'.format(np.sqrt(metrics.mean_squared_error(y_test, y_test_predict))))"
      ]
    },
    {
      "attachments": {},
      "cell_type": "markdown",
      "metadata": {
        "id": "-4Ah62EU06Jq"
      },
      "source": [
        "Обучаем модель линейной регресии как наиболее простую для сравнения метрик с этой моделью"
      ]
    },
    {
      "cell_type": "code",
      "execution_count": 102,
      "metadata": {
        "colab": {
          "base_uri": "https://localhost:8080/"
        },
        "id": "bvFqV-y706Jv",
        "outputId": "5fb85223-3d4f-446a-cfa7-35c872e5c025"
      },
      "outputs": [
        {
          "name": "stdout",
          "output_type": "stream",
          "text": [
            "Train R^2: 0.581\n",
            "Train MAE: 203878.387\n",
            "Train MAPE: 56.061\n",
            "Train RMSE: 346996.113\n",
            "\n",
            "\n",
            "Test R^2: 0.578\n",
            "Test MAE: 206282.533\n",
            "Test MAPE: 56.610\n",
            "Test RMSE: 348381.119\n"
          ]
        }
      ],
      "source": [
        "#Инициализируем объект класса линейная регрессия\n",
        "lr = linear_model.LinearRegression()\n",
        "#Обучаем модель - ищем параметры\n",
        "lr.fit(X_train, y_train)\n",
        "#Делаем предсказание для каждой из выборок\n",
        "y_train_pred = lr.predict(X_train)\n",
        "y_test_pred = lr.predict(X_test)\n",
        "#Выводим результирующие метрики\n",
        "print_metrics(y_train, y_train_pred, y_test, y_test_pred)"
      ]
    },
    {
      "attachments": {},
      "cell_type": "markdown",
      "metadata": {
        "id": "kJ_WuxdD06J0"
      },
      "source": [
        "Делаем аналогичное обучение модели линейной регресс с примененнием Minmax scale. Результат почти идентичный, отличается слабо."
      ]
    },
    {
      "cell_type": "code",
      "execution_count": 103,
      "metadata": {
        "id": "t87uHcex06J2"
      },
      "outputs": [],
      "source": [
        "from sklearn.preprocessing import MinMaxScaler"
      ]
    },
    {
      "cell_type": "code",
      "execution_count": 104,
      "metadata": {
        "colab": {
          "base_uri": "https://localhost:8080/"
        },
        "id": "C76PCjSI06J4",
        "outputId": "58af2e08-f3cd-46fb-ae54-2fbb8f15d79d"
      },
      "outputs": [
        {
          "name": "stdout",
          "output_type": "stream",
          "text": [
            "Train R^2: 0.581\n",
            "Train MAE: 203148.678\n",
            "Train MAPE: 55.624\n",
            "Train RMSE: 347225.642\n",
            "\n",
            "\n",
            "Test R^2: 0.577\n",
            "Test MAE: 205502.503\n",
            "Test MAPE: 56.177\n",
            "Test RMSE: 348579.770\n"
          ]
        }
      ],
      "source": [
        "#Создаем объект для min-max нормализации\n",
        "scaler = MinMaxScaler()\n",
        "#Вычисляем параметры для нормализации - min и max для каждого столбца\n",
        "scaler.fit(X_train)\n",
        "#Производим преобразование для каждой из выборок\n",
        "X_train_scaled = scaler.transform(X_train)\n",
        "X_test_scaled = scaler.transform(X_test)\n",
        "\n",
        "#Инициализируем объект класса линейная регрессия\n",
        "sgd_lr = linear_model.SGDRegressor(random_state=42)\n",
        "#Обучаем модель - ищем параметры\n",
        "sgd_lr.fit(X_train_scaled, y_train)\n",
        "#Делаем предсказание для каждой из выборок\n",
        "y_train_pred = sgd_lr.predict(X_train_scaled)\n",
        "y_test_pred = sgd_lr.predict(X_test_scaled)\n",
        "#Выводим результирующие метрики\n",
        "print_metrics(y_train, y_train_pred, y_test, y_test_pred)"
      ]
    },
    {
      "attachments": {},
      "cell_type": "markdown",
      "metadata": {
        "id": "ze-JSsDq06J5"
      },
      "source": [
        "Делаем аналогичное обучение модели линейной регресс предварительно переведя целевой признак в логарифмическую шкулу. Результат так же почти не отличается от обычной регрессии."
      ]
    },
    {
      "cell_type": "code",
      "execution_count": 105,
      "metadata": {
        "colab": {
          "base_uri": "https://localhost:8080/"
        },
        "id": "wqTpJPCz06J6",
        "outputId": "04989913-172b-4257-fbb5-5e1bf44ea956"
      },
      "outputs": [
        {
          "name": "stdout",
          "output_type": "stream",
          "text": [
            "Train R^2: 0.532\n",
            "Train MAE: 173784.809\n",
            "Train MAPE: 35.051\n",
            "Train RMSE: 366935.422\n",
            "\n",
            "\n",
            "Test R^2: 0.504\n",
            "Test MAE: 177050.009\n",
            "Test MAPE: 35.517\n",
            "Test RMSE: 377690.907\n"
          ]
        }
      ],
      "source": [
        "#создаем логарифмированный целевой признак цены\n",
        "y_train_log = np.log(y_train)\n",
        "#Инициализируем объект класса линейная регрессия\n",
        "lr = linear_model.LinearRegression()\n",
        "#Обучаем модель предсказывать логарифм целевого признака\n",
        "lr.fit(X_train, y_train_log)\n",
        "#Делаем предсказание для каждой из выборок\n",
        "#Если обучили на логарифме, то от результата необходимо взять обратную функцию - экспоненту\n",
        "y_train_pred = np.exp(lr.predict(X_train))\n",
        "y_test_pred = np.exp(lr.predict(X_test))\n",
        "#Выводим результирующие метрики\n",
        "print_metrics(y_train, y_train_pred, y_test, y_test_pred)"
      ]
    },
    {
      "attachments": {},
      "cell_type": "markdown",
      "metadata": {
        "id": "IfQP3ufm06J8"
      },
      "source": [
        "Обучаем модель и строим предсказание с помощью RandomForestRegressor. Результат значительно улучшается"
      ]
    },
    {
      "cell_type": "code",
      "execution_count": 106,
      "metadata": {
        "id": "IccHletq06J9"
      },
      "outputs": [],
      "source": [
        "from sklearn.ensemble import RandomForestRegressor"
      ]
    },
    {
      "cell_type": "code",
      "execution_count": 107,
      "metadata": {
        "colab": {
          "base_uri": "https://localhost:8080/",
          "height": 92
        },
        "id": "3Flzj-5506J-",
        "outputId": "10d5172c-3142-4e0b-92e3-8ff8a849b1f0"
      },
      "outputs": [
        {
          "data": {
            "text/html": [
              "<style>#sk-container-id-1 {color: black;background-color: white;}#sk-container-id-1 pre{padding: 0;}#sk-container-id-1 div.sk-toggleable {background-color: white;}#sk-container-id-1 label.sk-toggleable__label {cursor: pointer;display: block;width: 100%;margin-bottom: 0;padding: 0.3em;box-sizing: border-box;text-align: center;}#sk-container-id-1 label.sk-toggleable__label-arrow:before {content: \"▸\";float: left;margin-right: 0.25em;color: #696969;}#sk-container-id-1 label.sk-toggleable__label-arrow:hover:before {color: black;}#sk-container-id-1 div.sk-estimator:hover label.sk-toggleable__label-arrow:before {color: black;}#sk-container-id-1 div.sk-toggleable__content {max-height: 0;max-width: 0;overflow: hidden;text-align: left;background-color: #f0f8ff;}#sk-container-id-1 div.sk-toggleable__content pre {margin: 0.2em;color: black;border-radius: 0.25em;background-color: #f0f8ff;}#sk-container-id-1 input.sk-toggleable__control:checked~div.sk-toggleable__content {max-height: 200px;max-width: 100%;overflow: auto;}#sk-container-id-1 input.sk-toggleable__control:checked~label.sk-toggleable__label-arrow:before {content: \"▾\";}#sk-container-id-1 div.sk-estimator input.sk-toggleable__control:checked~label.sk-toggleable__label {background-color: #d4ebff;}#sk-container-id-1 div.sk-label input.sk-toggleable__control:checked~label.sk-toggleable__label {background-color: #d4ebff;}#sk-container-id-1 input.sk-hidden--visually {border: 0;clip: rect(1px 1px 1px 1px);clip: rect(1px, 1px, 1px, 1px);height: 1px;margin: -1px;overflow: hidden;padding: 0;position: absolute;width: 1px;}#sk-container-id-1 div.sk-estimator {font-family: monospace;background-color: #f0f8ff;border: 1px dotted black;border-radius: 0.25em;box-sizing: border-box;margin-bottom: 0.5em;}#sk-container-id-1 div.sk-estimator:hover {background-color: #d4ebff;}#sk-container-id-1 div.sk-parallel-item::after {content: \"\";width: 100%;border-bottom: 1px solid gray;flex-grow: 1;}#sk-container-id-1 div.sk-label:hover label.sk-toggleable__label {background-color: #d4ebff;}#sk-container-id-1 div.sk-serial::before {content: \"\";position: absolute;border-left: 1px solid gray;box-sizing: border-box;top: 0;bottom: 0;left: 50%;z-index: 0;}#sk-container-id-1 div.sk-serial {display: flex;flex-direction: column;align-items: center;background-color: white;padding-right: 0.2em;padding-left: 0.2em;position: relative;}#sk-container-id-1 div.sk-item {position: relative;z-index: 1;}#sk-container-id-1 div.sk-parallel {display: flex;align-items: stretch;justify-content: center;background-color: white;position: relative;}#sk-container-id-1 div.sk-item::before, #sk-container-id-1 div.sk-parallel-item::before {content: \"\";position: absolute;border-left: 1px solid gray;box-sizing: border-box;top: 0;bottom: 0;left: 50%;z-index: -1;}#sk-container-id-1 div.sk-parallel-item {display: flex;flex-direction: column;z-index: 1;position: relative;background-color: white;}#sk-container-id-1 div.sk-parallel-item:first-child::after {align-self: flex-end;width: 50%;}#sk-container-id-1 div.sk-parallel-item:last-child::after {align-self: flex-start;width: 50%;}#sk-container-id-1 div.sk-parallel-item:only-child::after {width: 0;}#sk-container-id-1 div.sk-dashed-wrapped {border: 1px dashed gray;margin: 0 0.4em 0.5em 0.4em;box-sizing: border-box;padding-bottom: 0.4em;background-color: white;}#sk-container-id-1 div.sk-label label {font-family: monospace;font-weight: bold;display: inline-block;line-height: 1.2em;}#sk-container-id-1 div.sk-label-container {text-align: center;}#sk-container-id-1 div.sk-container {/* jupyter's `normalize.less` sets `[hidden] { display: none; }` but bootstrap.min.css set `[hidden] { display: none !important; }` so we also need the `!important` here to be able to override the default hidden behavior on the sphinx rendered scikit-learn.org. See: https://github.com/scikit-learn/scikit-learn/issues/21755 */display: inline-block !important;position: relative;}#sk-container-id-1 div.sk-text-repr-fallback {display: none;}</style><div id=\"sk-container-id-1\" class=\"sk-top-container\"><div class=\"sk-text-repr-fallback\"><pre>RandomForestRegressor(max_depth=20, min_samples_leaf=2, n_estimators=150,\n",
              "                      random_state=0)</pre><b>In a Jupyter environment, please rerun this cell to show the HTML representation or trust the notebook. <br />On GitHub, the HTML representation is unable to render, please try loading this page with nbviewer.org.</b></div><div class=\"sk-container\" hidden><div class=\"sk-item\"><div class=\"sk-estimator sk-toggleable\"><input class=\"sk-toggleable__control sk-hidden--visually\" id=\"sk-estimator-id-1\" type=\"checkbox\" checked><label for=\"sk-estimator-id-1\" class=\"sk-toggleable__label sk-toggleable__label-arrow\">RandomForestRegressor</label><div class=\"sk-toggleable__content\"><pre>RandomForestRegressor(max_depth=20, min_samples_leaf=2, n_estimators=150,\n",
              "                      random_state=0)</pre></div></div></div></div></div>"
            ],
            "text/plain": [
              "RandomForestRegressor(max_depth=20, min_samples_leaf=2, n_estimators=150,\n",
              "                      random_state=0)"
            ]
          },
          "execution_count": 107,
          "metadata": {},
          "output_type": "execute_result"
        }
      ],
      "source": [
        "regr = RandomForestRegressor(n_estimators=150, max_depth=20,min_samples_leaf=2, random_state=0)\n",
        "regr.fit(X_train, y_train)"
      ]
    },
    {
      "cell_type": "code",
      "execution_count": 108,
      "metadata": {
        "colab": {
          "base_uri": "https://localhost:8080/"
        },
        "id": "yUxQwT9W06KE",
        "outputId": "cee6ebff-6dc1-4931-cb6b-396b0ae7e2b7"
      },
      "outputs": [
        {
          "name": "stdout",
          "output_type": "stream",
          "text": [
            "Train R^2: 0.866\n",
            "Train MAE: 116942.345\n",
            "Train MAPE: 34.982\n",
            "Train RMSE: 196345.131\n",
            "\n",
            "\n",
            "Test R^2: 0.723\n",
            "Test MAE: 151874.837\n",
            "Test MAPE: 39.449\n",
            "Test RMSE: 282162.678\n"
          ]
        }
      ],
      "source": [
        "#Делаем предсказание для каждой из выборок\n",
        "y_train_pred = regr.predict(X_train)\n",
        "y_test_pred = regr.predict(X_test)\n",
        "\n",
        "#Выводим результирующие метрики\n",
        "print_metrics(y_train, y_train_pred, y_test, y_test_pred)"
      ]
    },
    {
      "attachments": {},
      "cell_type": "markdown",
      "metadata": {
        "id": "bGa2MoJC06KG"
      },
      "source": [
        "Подбираем оптимальны параметры для модели RandomForestRegressor. Находим лучшее предсказания с помощью данного метода."
      ]
    },
    {
      "cell_type": "code",
      "execution_count": 109,
      "metadata": {
        "id": "kJY3G4-x06KG"
      },
      "outputs": [],
      "source": [
        "from sklearn.model_selection import RandomizedSearchCV"
      ]
    },
    {
      "cell_type": "code",
      "execution_count": 110,
      "metadata": {
        "colab": {
          "base_uri": "https://localhost:8080/"
        },
        "id": "x8jBEc_U06KJ",
        "outputId": "94f6e84f-3221-4e9d-ed35-f0a50bd718be"
      },
      "outputs": [
        {
          "name": "stdout",
          "output_type": "stream",
          "text": [
            "CPU times: user 7min 51s, sys: 9 s, total: 8min\n",
            "Wall time: 5h 56min 47s\n",
            "Train R^2: 0.866\n",
            "Train MAE: 116797.839\n",
            "Train MAPE: 34.879\n",
            "Train RMSE: 196468.292\n",
            "\n",
            "\n",
            "Test R^2: 0.724\n",
            "Test MAE: 151705.435\n",
            "Test MAPE: 39.363\n",
            "Test RMSE: 281824.688\n"
          ]
        }
      ],
      "source": [
        "param_distributions = {'n_estimators': list(range(100, 400, 5)),\n",
        "              'min_samples_leaf': [2,5,7],\n",
        "              'max_depth': list(np.linspace(5, 40, 8, dtype=int))\n",
        "              }\n",
        "            \n",
        "random_search_forest = RandomizedSearchCV(\n",
        "    estimator=ensemble.RandomForestRegressor(random_state=42), \n",
        "    param_distributions=param_distributions, \n",
        "    cv=5,\n",
        "    n_iter = 10,\n",
        "    scoring='neg_root_mean_squared_error',\n",
        "    n_jobs = -1\n",
        ")  \n",
        "%time random_search_forest.fit(X_train, y_train) \n",
        "y_train_pred = random_search_forest.predict(X_train)\n",
        "y_test_pred = random_search_forest.predict(X_test)\n",
        "print_metrics(y_train, y_train_pred, y_test, y_test_pred)"
      ]
    },
    {
      "cell_type": "code",
      "execution_count": 111,
      "metadata": {
        "colab": {
          "base_uri": "https://localhost:8080/"
        },
        "id": "Yd7rU_et06KK",
        "outputId": "34c64284-2dc2-438b-a472-79534cfada07"
      },
      "outputs": [
        {
          "name": "stdout",
          "output_type": "stream",
          "text": [
            "Наилучшие значения гиперпараметров: {'n_estimators': 110, 'min_samples_leaf': 2, 'max_depth': 20}\n"
          ]
        }
      ],
      "source": [
        "print(\"Наилучшие значения гиперпараметров: {}\".format(random_search_forest.best_params_))"
      ]
    },
    {
      "cell_type": "code",
      "execution_count": 109,
      "metadata": {
        "colab": {
          "base_uri": "https://localhost:8080/"
        },
        "id": "M8874zJb1TI9",
        "outputId": "c405f862-3bf9-400f-e469-b4842da5138e"
      },
      "outputs": [
        {
          "name": "stdout",
          "output_type": "stream",
          "text": [
            "Looking in indexes: https://pypi.org/simple, https://us-python.pkg.dev/colab-wheels/public/simple/\n",
            "Collecting optuna\n",
            "  Downloading optuna-3.2.0-py3-none-any.whl (390 kB)\n",
            "\u001b[2K     \u001b[90m━━━━━━━━━━━━━━━━━━━━━━━━━━━━━━━━━━━━━━━\u001b[0m \u001b[32m390.6/390.6 kB\u001b[0m \u001b[31m9.6 MB/s\u001b[0m eta \u001b[36m0:00:00\u001b[0m\n",
            "\u001b[?25hCollecting alembic>=1.5.0 (from optuna)\n",
            "  Downloading alembic-1.11.1-py3-none-any.whl (224 kB)\n",
            "\u001b[2K     \u001b[90m━━━━━━━━━━━━━━━━━━━━━━━━━━━━━━━━━━━━━━\u001b[0m \u001b[32m224.5/224.5 kB\u001b[0m \u001b[31m20.5 MB/s\u001b[0m eta \u001b[36m0:00:00\u001b[0m\n",
            "\u001b[?25hCollecting cmaes>=0.9.1 (from optuna)\n",
            "  Downloading cmaes-0.9.1-py3-none-any.whl (21 kB)\n",
            "Collecting colorlog (from optuna)\n",
            "  Downloading colorlog-6.7.0-py2.py3-none-any.whl (11 kB)\n",
            "Requirement already satisfied: numpy in /usr/local/lib/python3.10/dist-packages (from optuna) (1.22.4)\n",
            "Requirement already satisfied: packaging>=20.0 in /usr/local/lib/python3.10/dist-packages (from optuna) (23.1)\n",
            "Requirement already satisfied: sqlalchemy>=1.3.0 in /usr/local/lib/python3.10/dist-packages (from optuna) (2.0.10)\n",
            "Requirement already satisfied: tqdm in /usr/local/lib/python3.10/dist-packages (from optuna) (4.65.0)\n",
            "Requirement already satisfied: PyYAML in /usr/local/lib/python3.10/dist-packages (from optuna) (6.0)\n",
            "Collecting Mako (from alembic>=1.5.0->optuna)\n",
            "  Downloading Mako-1.2.4-py3-none-any.whl (78 kB)\n",
            "\u001b[2K     \u001b[90m━━━━━━━━━━━━━━━━━━━━━━━━━━━━━━━━━━━━━━━━\u001b[0m \u001b[32m78.7/78.7 kB\u001b[0m \u001b[31m8.7 MB/s\u001b[0m eta \u001b[36m0:00:00\u001b[0m\n",
            "\u001b[?25hRequirement already satisfied: typing-extensions>=4 in /usr/local/lib/python3.10/dist-packages (from alembic>=1.5.0->optuna) (4.5.0)\n",
            "Requirement already satisfied: greenlet!=0.4.17 in /usr/local/lib/python3.10/dist-packages (from sqlalchemy>=1.3.0->optuna) (2.0.2)\n",
            "Requirement already satisfied: MarkupSafe>=0.9.2 in /usr/local/lib/python3.10/dist-packages (from Mako->alembic>=1.5.0->optuna) (2.1.2)\n",
            "Installing collected packages: Mako, colorlog, cmaes, alembic, optuna\n",
            "Successfully installed Mako-1.2.4 alembic-1.11.1 cmaes-0.9.1 colorlog-6.7.0 optuna-3.2.0\n"
          ]
        }
      ],
      "source": [
        "!pip install optuna"
      ]
    },
    {
      "cell_type": "code",
      "execution_count": 110,
      "metadata": {
        "colab": {
          "base_uri": "https://localhost:8080/"
        },
        "id": "ocDMzYDq06KL",
        "outputId": "957d6754-8096-4a2d-9565-bf1556d74883"
      },
      "outputs": [
        {
          "name": "stdout",
          "output_type": "stream",
          "text": [
            "Версия Optuna: 3.2.0\n"
          ]
        }
      ],
      "source": [
        "import optuna\n",
        "\n",
        "print(\"Версия Optuna: {}\".format(optuna.__version__))"
      ]
    },
    {
      "cell_type": "code",
      "execution_count": 111,
      "metadata": {
        "id": "KjEo68Iz06KN"
      },
      "outputs": [],
      "source": [
        "def optuna_rf(trial):\n",
        "  # задаем пространства поиска гиперпараметров\n",
        "  n_estimators = trial.suggest_int('n_estimators', 100, 400)\n",
        "  max_depth = trial.suggest_int('max_depth', 5, 30)\n",
        "  min_samples_leaf = trial.suggest_int('min_samples_leaf', 2, 10)\n",
        "\n",
        "  # создаем модель\n",
        "  model = ensemble.RandomForestRegressor(n_estimators=n_estimators,\n",
        "                                          max_depth=max_depth,\n",
        "                                          min_samples_leaf=min_samples_leaf,\n",
        "                                          random_state=42)\n",
        "  # обучаем модель\n",
        "  model.fit(X_train, y_train)\n",
        "  score = metrics.r2_score(y_train, model.predict(X_train))\n",
        "\n",
        "  return score"
      ]
    },
    {
      "cell_type": "code",
      "execution_count": 114,
      "metadata": {
        "colab": {
          "base_uri": "https://localhost:8080/"
        },
        "id": "1L1AOp5H06KO",
        "outputId": "f475c4a0-d998-4dc1-e88c-a5732cb1ca4f"
      },
      "outputs": [
        {
          "name": "stderr",
          "output_type": "stream",
          "text": [
            "[I 2023-06-07 06:56:43,309] A new study created in memory with name: RandomForestRegressor\n",
            "[I 2023-06-07 07:09:36,322] Trial 0 finished with value: 0.7123120929821396 and parameters: {'n_estimators': 277, 'max_depth': 13, 'min_samples_leaf': 9}. Best is trial 0 with value: 0.7123120929821396.\n",
            "[I 2023-06-07 07:15:43,718] Trial 1 finished with value: 0.5304001272122233 and parameters: {'n_estimators': 293, 'max_depth': 6, 'min_samples_leaf': 3}. Best is trial 0 with value: 0.7123120929821396.\n",
            "[I 2023-06-07 07:31:20,378] Trial 2 finished with value: 0.862962481202861 and parameters: {'n_estimators': 214, 'max_depth': 23, 'min_samples_leaf': 3}. Best is trial 2 with value: 0.862962481202861.\n",
            "[I 2023-06-07 07:33:13,604] Trial 3 finished with value: 0.4802270925404216 and parameters: {'n_estimators': 109, 'max_depth': 5, 'min_samples_leaf': 5}. Best is trial 2 with value: 0.862962481202861.\n",
            "[I 2023-06-07 07:43:15,778] Trial 4 finished with value: 0.6642938945415435 and parameters: {'n_estimators': 276, 'max_depth': 10, 'min_samples_leaf': 5}. Best is trial 2 with value: 0.862962481202861.\n",
            "[I 2023-06-07 07:51:08,432] Trial 5 finished with value: 0.8019780081978445 and parameters: {'n_estimators': 110, 'max_depth': 21, 'min_samples_leaf': 6}. Best is trial 2 with value: 0.862962481202861.\n",
            "[I 2023-06-07 08:02:59,096] Trial 6 finished with value: 0.910845834093863 and parameters: {'n_estimators': 134, 'max_depth': 29, 'min_samples_leaf': 2}. Best is trial 6 with value: 0.910845834093863.\n",
            "[I 2023-06-07 08:16:12,967] Trial 7 finished with value: 0.813830723650464 and parameters: {'n_estimators': 213, 'max_depth': 17, 'min_samples_leaf': 3}. Best is trial 6 with value: 0.910845834093863.\n",
            "[I 2023-06-07 08:28:43,225] Trial 8 finished with value: 0.6800567328235074 and parameters: {'n_estimators': 301, 'max_depth': 11, 'min_samples_leaf': 8}. Best is trial 6 with value: 0.910845834093863.\n",
            "[I 2023-06-07 08:38:52,844] Trial 9 finished with value: 0.8167974866005655 and parameters: {'n_estimators': 131, 'max_depth': 27, 'min_samples_leaf': 6}. Best is trial 6 with value: 0.910845834093863.\n"
          ]
        },
        {
          "name": "stdout",
          "output_type": "stream",
          "text": [
            "CPU times: user 1h 41min 36s, sys: 8.61 s, total: 1h 41min 44s\n",
            "Wall time: 1h 42min 9s\n"
          ]
        }
      ],
      "source": [
        "%%time\n",
        "# cоздаем объект исследования\n",
        "# можем напрямую указать, что нам необходимо максимизировать метрику direction=\"maximize\"\n",
        "study = optuna.create_study(study_name=\"RandomForestRegressor\", direction=\"maximize\")\n",
        "# ищем лучшую комбинацию гиперпараметров n_trials раз\n",
        "study.optimize(optuna_rf, n_trials=10)"
      ]
    },
    {
      "cell_type": "code",
      "execution_count": 115,
      "metadata": {
        "colab": {
          "base_uri": "https://localhost:8080/"
        },
        "id": "0PW0Qpem06Kc",
        "outputId": "75909876-77dd-4adf-da61-a1775323b3da"
      },
      "outputs": [
        {
          "name": "stdout",
          "output_type": "stream",
          "text": [
            "Наилучшие значения гиперпараметров {'n_estimators': 134, 'max_depth': 29, 'min_samples_leaf': 2}\n",
            "r2_score на обучающем наборе: 0.911\n"
          ]
        }
      ],
      "source": [
        "# выводим результаты на обучающей выборке\n",
        "print(\"Наилучшие значения гиперпараметров {}\".format(study.best_params))\n",
        "print(\"r2_score на обучающем наборе: {:.3f}\".format(study.best_value))"
      ]
    },
    {
      "cell_type": "code",
      "execution_count": null,
      "metadata": {
        "id": "lWv8iPB206Kj"
      },
      "outputs": [],
      "source": [
        "regr_best = RandomForestRegressor(**random_search_forest.best_params_)\n",
        "regr_best.fit(X_train, y_train)\n",
        "#Делаем предсказание для каждой из выборок\n",
        "y_train_pred = regr_best.predict(X_train)\n",
        "y_test_pred = regr_best.predict(X_test)\n",
        "\n",
        "#Выводим результирующие метрики\n",
        "print_metrics(y_train, y_train_pred, y_test, y_test_pred)"
      ]
    },
    {
      "cell_type": "code",
      "execution_count": 116,
      "metadata": {
        "colab": {
          "base_uri": "https://localhost:8080/"
        },
        "id": "jQzVCV7S2kaj",
        "outputId": "65111f86-b245-481a-efcb-e0c98da229f8"
      },
      "outputs": [
        {
          "name": "stdout",
          "output_type": "stream",
          "text": [
            "Train R^2: 0.911\n",
            "Train MAE: 88019.812\n",
            "Train MAPE: 24.844\n",
            "Train RMSE: 160207.646\n",
            "\n",
            "\n",
            "Test R^2: 0.737\n",
            "Test MAE: 141380.129\n",
            "Test MAPE: 34.015\n",
            "Test RMSE: 275019.773\n"
          ]
        }
      ],
      "source": [
        "regr_best = RandomForestRegressor(**study.best_params)\n",
        "regr_best.fit(X_train, y_train)\n",
        "#Делаем предсказание для каждой из выборок\n",
        "y_train_pred = regr_best.predict(X_train)\n",
        "y_test_pred = regr_best.predict(X_test)\n",
        "\n",
        "#Выводим результирующие метрики\n",
        "print_metrics(y_train, y_train_pred, y_test, y_test_pred)"
      ]
    },
    {
      "attachments": {},
      "cell_type": "markdown",
      "metadata": {
        "id": "aZk3kuKc06Km"
      },
      "source": [
        "Обучаем модель CatBoostRegressor. Находим лучшее предсказания с помощью данного метода."
      ]
    },
    {
      "cell_type": "code",
      "execution_count": null,
      "metadata": {
        "id": "bAcqvKbJ1Olp"
      },
      "outputs": [],
      "source": [
        "!pip install catboost"
      ]
    },
    {
      "cell_type": "code",
      "execution_count": null,
      "metadata": {
        "id": "OyWLECv-06Kn"
      },
      "outputs": [],
      "source": [
        "from catboost import CatBoostRegressor"
      ]
    },
    {
      "cell_type": "code",
      "execution_count": null,
      "metadata": {
        "id": "n-geRzc906Kn"
      },
      "outputs": [],
      "source": [
        "cat = CatBoostRegressor()\n",
        "grid = {'learning_rate': list(np.linspace(0.03, 0.21, 9, dtype=float)),\n",
        "        'depth': [4, 6, 10, 14],\n",
        "        'l2_leaf_reg': [1, 2, 3]}\n",
        "\n",
        "grid_search_result = cat.grid_search(grid, X=X_train, y=y_train, plot=True)"
      ]
    },
    {
      "cell_type": "code",
      "execution_count": null,
      "metadata": {
        "id": "S4lmlV1I06Kq"
      },
      "outputs": [],
      "source": [
        "print(\"Наилучшие значения гиперпараметров: {}\".format(grid_search_result['params']))"
      ]
    },
    {
      "cell_type": "code",
      "execution_count": null,
      "metadata": {
        "id": "q_oCLrBO06Ks"
      },
      "outputs": [],
      "source": [
        "model_cat = CatBoostRegressor(**grid_search_result['params']) \n",
        "model_cat.fit( \n",
        "\tX_train, y_train, \n",
        "\teval_set=(X_test, y_test), \n",
        ") "
      ]
    },
    {
      "cell_type": "code",
      "execution_count": null,
      "metadata": {
        "id": "JH1f6K6K06Kt"
      },
      "outputs": [],
      "source": [
        "#Делаем предсказание для каждой из выборок\n",
        "y_train_pred = model_cat.predict(X_train)\n",
        "y_test_pred = model_cat.predict(X_test)\n",
        "\n",
        "#Выводим результирующие метрики\n",
        "print_metrics(y_train, y_train_pred, y_test, y_test_pred)"
      ]
    },
    {
      "attachments": {},
      "cell_type": "markdown",
      "metadata": {
        "id": "PG7y599I06Kt"
      },
      "source": [
        "Смотрим параметры модели которые в наибольшей степени влияют на результат."
      ]
    },
    {
      "cell_type": "code",
      "execution_count": null,
      "metadata": {
        "id": "DpLTgPFR06Ku"
      },
      "outputs": [],
      "source": [
        "sorted_feature_importance = model_cat.get_feature_importance().argsort( \n",
        "\t)[-20:] \n",
        "plt.barh( \n",
        "\tdummies_data.columns[sorted_feature_importance], \n",
        "\tmodel_cat.feature_importances_[sorted_feature_importance] \n",
        ") \n",
        "plt.xlabel(\"Feature Importance\") \n",
        "plt.show()"
      ]
    },
    {
      "attachments": {},
      "cell_type": "markdown",
      "metadata": {
        "id": "NOMWW0dh06Ku"
      },
      "source": [
        "Смотрим разброс ошибки, пытаемся улучшить предсказание. Проанализировав выпадающие значения."
      ]
    },
    {
      "cell_type": "code",
      "execution_count": null,
      "metadata": {
        "id": "42Qzr_2A06Kv"
      },
      "outputs": [],
      "source": [
        "#Визуализируем ошибки\n",
        "fig, ax = plt.subplots(figsize=(12, 6)) #фигура+координатная плоскость\n",
        "#Ошибки модели на тренировочной выборке \n",
        "y_train_errors = y_train - y_train_pred\n",
        "#Ошибки модели на тестовой выборке\n",
        "y_test_errors = y_test - y_test_pred\n",
        "#Для удобства визуализации составим DataFrame из ошибок\n",
        "predict_df = pd.DataFrame(\n",
        "    {'Train errors': y_train_errors, \n",
        "     'Test errors': y_test_errors\n",
        "    }\n",
        ")\n",
        "#Строим boxplot для ошибок\n",
        "sns.boxplot(data=predict_df, ax=ax)\n",
        "ax.set_xlabel('Model errors') #название оси абсцисс\n",
        "ax.set_ylabel('Model'); #название оси ординат"
      ]
    },
    {
      "cell_type": "code",
      "execution_count": null,
      "metadata": {
        "id": "Ms-1Lxtq06Kv"
      },
      "outputs": [],
      "source": [
        "y_train_errors = pd.DataFrame({'Train errors': y_train_errors})\n",
        "y_test_errors = pd.DataFrame({'Test errors': y_test_errors})"
      ]
    },
    {
      "cell_type": "code",
      "execution_count": null,
      "metadata": {
        "id": "QT3uLIX906Kw"
      },
      "outputs": [],
      "source": [
        "predict_df_Train = pd.concat([X_train, y_train_errors], axis=1)\n",
        "predict_df_Test = pd.concat([X_test, y_test_errors], axis=1)"
      ]
    },
    {
      "cell_type": "code",
      "execution_count": null,
      "metadata": {
        "id": "kDGPi_9w06Kw"
      },
      "outputs": [],
      "source": [
        "outliers_er_t, predict_df_error = outliers_z_score(predict_df_Test, 'Test errors')\n",
        "er_t = outliers_er_t.sort_values('Test errors',ascending=0).head(10).index"
      ]
    },
    {
      "cell_type": "code",
      "execution_count": null,
      "metadata": {
        "id": "JwFVsuvh06Kx"
      },
      "outputs": [],
      "source": [
        "outliers_er_t.sort_values('Test errors',ascending=0).head(10)"
      ]
    },
    {
      "cell_type": "code",
      "execution_count": null,
      "metadata": {
        "id": "DGW8_a1g06Kx"
      },
      "outputs": [],
      "source": [
        "df_new_1_cleaned.loc[er_t]"
      ]
    },
    {
      "attachments": {},
      "cell_type": "markdown",
      "metadata": {
        "id": "HiK6_GxA06Kx"
      },
      "source": [
        "Сереализуем лучшую модель и метод OneHotEncoder для последующей реализации предсказания через запрос на сервере"
      ]
    },
    {
      "cell_type": "code",
      "execution_count": null,
      "metadata": {
        "id": "Pqpj6nlQ06Ky"
      },
      "outputs": [],
      "source": [
        "import pickle"
      ]
    },
    {
      "cell_type": "code",
      "execution_count": null,
      "metadata": {
        "id": "X2y2-EtN06Ky"
      },
      "outputs": [],
      "source": [
        "with open('Estate_cat.pkl', 'wb') as output:\n",
        "    pickle.dump(model_cat, output)"
      ]
    },
    {
      "cell_type": "code",
      "execution_count": null,
      "metadata": {
        "id": "nWD38WSy06Ky"
      },
      "outputs": [],
      "source": [
        "with open('Estate_rf.pkl', 'wb') as output:\n",
        "    pickle.dump(regr_best, output)"
      ]
    },
    {
      "cell_type": "code",
      "execution_count": null,
      "metadata": {
        "id": "g8oPShOW06Kz"
      },
      "outputs": [],
      "source": [
        "with open('one_hot_enc.pkl', 'wb') as output:\n",
        "    pickle.dump(onehot_encoder, output)"
      ]
    },
    {
      "cell_type": "code",
      "execution_count": null,
      "metadata": {
        "id": "7cS2QE_d06Kz",
        "outputId": "8a732dd2-7354-44d7-8972-85aef0c5ebfb"
      },
      "outputs": [
        {
          "data": {
            "text/html": [
              "<div>\n",
              "<style scoped>\n",
              "    .dataframe tbody tr th:only-of-type {\n",
              "        vertical-align: middle;\n",
              "    }\n",
              "\n",
              "    .dataframe tbody tr th {\n",
              "        vertical-align: top;\n",
              "    }\n",
              "\n",
              "    .dataframe thead th {\n",
              "        text-align: right;\n",
              "    }\n",
              "</style>\n",
              "<table border=\"1\" class=\"dataframe\">\n",
              "  <thead>\n",
              "    <tr style=\"text-align: right;\">\n",
              "      <th></th>\n",
              "      <th>status</th>\n",
              "      <th>propertyType</th>\n",
              "      <th>baths</th>\n",
              "      <th>fireplace</th>\n",
              "      <th>city</th>\n",
              "      <th>sqft</th>\n",
              "      <th>beds</th>\n",
              "      <th>state</th>\n",
              "      <th>stories</th>\n",
              "      <th>PrivatePool</th>\n",
              "      <th>target</th>\n",
              "      <th>Heating</th>\n",
              "      <th>Cooling</th>\n",
              "      <th>Parking</th>\n",
              "      <th>Age</th>\n",
              "      <th>Repaired</th>\n",
              "    </tr>\n",
              "  </thead>\n",
              "  <tbody>\n",
              "    <tr>\n",
              "      <th>25</th>\n",
              "      <td>for sale</td>\n",
              "      <td>single-family</td>\n",
              "      <td>2.0</td>\n",
              "      <td>0</td>\n",
              "      <td>Miami</td>\n",
              "      <td>1396.0</td>\n",
              "      <td>3.0</td>\n",
              "      <td>FL</td>\n",
              "      <td></td>\n",
              "      <td>0</td>\n",
              "      <td>495000.0</td>\n",
              "      <td>Forced air</td>\n",
              "      <td>1</td>\n",
              "      <td>Other</td>\n",
              "      <td>69.0</td>\n",
              "      <td>1</td>\n",
              "    </tr>\n",
              "  </tbody>\n",
              "</table>\n",
              "</div>"
            ],
            "text/plain": [
              "      status   propertyType  baths  fireplace   city    sqft  beds state  \\\n",
              "25  for sale  single-family    2.0          0  Miami  1396.0   3.0    FL   \n",
              "\n",
              "   stories  PrivatePool    target     Heating  Cooling Parking   Age  Repaired  \n",
              "25                    0  495000.0  Forced air        1   Other  69.0         1  "
            ]
          },
          "execution_count": 215,
          "metadata": {},
          "output_type": "execute_result"
        }
      ],
      "source": [
        "df_new_1_cleaned.iloc[[25]]"
      ]
    }
  ],
  "metadata": {
    "colab": {
      "provenance": []
    },
    "kernelspec": {
      "display_name": "Python 3",
      "language": "python",
      "name": "python3"
    },
    "language_info": {
      "codemirror_mode": {
        "name": "ipython",
        "version": 3
      },
      "file_extension": ".py",
      "mimetype": "text/x-python",
      "name": "python",
      "nbconvert_exporter": "python",
      "pygments_lexer": "ipython3",
      "version": "3.9.12"
    }
  },
  "nbformat": 4,
  "nbformat_minor": 0
}
